{
 "cells": [
  {
   "cell_type": "markdown",
   "metadata": {},
   "source": [
    "# Analysing the COVID-19 pandemic in Bosnia and Herzegovina"
   ]
  },
  {
   "cell_type": "markdown",
   "metadata": {},
   "source": [
    "The analysie will be preformed on a dataset gathered from the <a href=\"https://www.who.int/\">WHO</a> website. The first part of this analysis will be data cleaning, wich is the most important part of data analysis. You know how they say it if the data is not clean we get garbage in and garbage out.\n",
    "\n",
    "The next part will contain visualizations to get a more understanding picture of the situation so we can preform some statistical methods later. \n",
    "\n",
    "After we finished the data cleaning and visualization process will continue on data modeling so we can make predictions in the later part when we will actualy use our data to make predictions on how the situation will improve or not in the future.\n",
    "\n",
    "When all of this is set and done we will make the conclusion and suggest how things can be done in the future to improve the situation."
   ]
  },
  {
   "cell_type": "markdown",
   "metadata": {},
   "source": [
    "## Table of Contetn's\n",
    "\n",
    "* [Importing the nececery Libraries](#importing-the-nececery-libraries)\n",
    "* [Data import and exploration](#data-import-and-exploration)"
   ]
  },
  {
   "cell_type": "markdown",
   "metadata": {},
   "source": [
    "## Importing the nececery Libraries"
   ]
  },
  {
   "cell_type": "code",
   "execution_count": 1,
   "metadata": {},
   "outputs": [],
   "source": [
    "import os\n",
    "import numpy as np\n",
    "import pandas as pd\n",
    "import matplotlib.pyplot as plt\n",
    "import seaborn as sns\n",
    "\n",
    "sns.set()"
   ]
  },
  {
   "cell_type": "markdown",
   "metadata": {},
   "source": [
    "## Data import and exploration"
   ]
  },
  {
   "cell_type": "code",
   "execution_count": 2,
   "metadata": {},
   "outputs": [],
   "source": [
    "rawData = pd.read_excel(os.path.join(\"../dataSet/rawData/\", \"bih.xlsx\"), engine='openpyxl')"
   ]
  },
  {
   "cell_type": "code",
   "execution_count": 3,
   "metadata": {},
   "outputs": [
    {
     "data": {
      "text/html": [
       "<div>\n",
       "<style scoped>\n",
       "    .dataframe tbody tr th:only-of-type {\n",
       "        vertical-align: middle;\n",
       "    }\n",
       "\n",
       "    .dataframe tbody tr th {\n",
       "        vertical-align: top;\n",
       "    }\n",
       "\n",
       "    .dataframe thead th {\n",
       "        text-align: right;\n",
       "    }\n",
       "</style>\n",
       "<table border=\"1\" class=\"dataframe\">\n",
       "  <thead>\n",
       "    <tr style=\"text-align: right;\">\n",
       "      <th></th>\n",
       "      <th>Unnamed: 0</th>\n",
       "      <th>Datum</th>\n",
       "      <th>Potvrđeni slučajevi</th>\n",
       "      <th>Broj testiranih</th>\n",
       "      <th>Broj smrtnih slučajeva</th>\n",
       "      <th>Broj oporavljenih osoba</th>\n",
       "      <th>Broj aktivnih slučajeva</th>\n",
       "    </tr>\n",
       "  </thead>\n",
       "  <tbody>\n",
       "    <tr>\n",
       "      <th>0</th>\n",
       "      <td>0</td>\n",
       "      <td>29.12.2020</td>\n",
       "      <td>110454</td>\n",
       "      <td>509067</td>\n",
       "      <td>4024</td>\n",
       "      <td>76802</td>\n",
       "      <td>29628.0</td>\n",
       "    </tr>\n",
       "    <tr>\n",
       "      <th>1</th>\n",
       "      <td>1</td>\n",
       "      <td>28.12.2020</td>\n",
       "      <td>109911</td>\n",
       "      <td>505681</td>\n",
       "      <td>3976</td>\n",
       "      <td>76121</td>\n",
       "      <td>29814.0</td>\n",
       "    </tr>\n",
       "    <tr>\n",
       "      <th>2</th>\n",
       "      <td>2</td>\n",
       "      <td>27.12.2020</td>\n",
       "      <td>109691</td>\n",
       "      <td>503906</td>\n",
       "      <td>3953</td>\n",
       "      <td>75717</td>\n",
       "      <td>30021.0</td>\n",
       "    </tr>\n",
       "    <tr>\n",
       "      <th>3</th>\n",
       "      <td>3</td>\n",
       "      <td>26.12.2020</td>\n",
       "      <td>109330</td>\n",
       "      <td>502063</td>\n",
       "      <td>3923</td>\n",
       "      <td>75124</td>\n",
       "      <td>30283.0</td>\n",
       "    </tr>\n",
       "    <tr>\n",
       "      <th>4</th>\n",
       "      <td>4</td>\n",
       "      <td>25.12.2020</td>\n",
       "      <td>108891</td>\n",
       "      <td>499883</td>\n",
       "      <td>3901</td>\n",
       "      <td>74667</td>\n",
       "      <td>30323.0</td>\n",
       "    </tr>\n",
       "  </tbody>\n",
       "</table>\n",
       "</div>"
      ],
      "text/plain": [
       "   Unnamed: 0       Datum  Potvrđeni slučajevi  Broj testiranih  \\\n",
       "0           0  29.12.2020               110454           509067   \n",
       "1           1  28.12.2020               109911           505681   \n",
       "2           2  27.12.2020               109691           503906   \n",
       "3           3  26.12.2020               109330           502063   \n",
       "4           4  25.12.2020               108891           499883   \n",
       "\n",
       "   Broj smrtnih slučajeva  Broj oporavljenih osoba  Broj aktivnih slučajeva  \n",
       "0                    4024                    76802                  29628.0  \n",
       "1                    3976                    76121                  29814.0  \n",
       "2                    3953                    75717                  30021.0  \n",
       "3                    3923                    75124                  30283.0  \n",
       "4                    3901                    74667                  30323.0  "
      ]
     },
     "execution_count": 3,
     "metadata": {},
     "output_type": "execute_result"
    }
   ],
   "source": [
    "rawData.head(5)"
   ]
  },
  {
   "cell_type": "code",
   "execution_count": 4,
   "metadata": {
    "scrolled": true
   },
   "outputs": [
    {
     "name": "stdout",
     "output_type": "stream",
     "text": [
      "<class 'pandas.core.frame.DataFrame'>\n",
      "RangeIndex: 231 entries, 0 to 230\n",
      "Data columns (total 7 columns):\n",
      " #   Column                   Non-Null Count  Dtype  \n",
      "---  ------                   --------------  -----  \n",
      " 0   Unnamed: 0               231 non-null    int64  \n",
      " 1   Datum                    231 non-null    object \n",
      " 2   Potvrđeni slučajevi      231 non-null    int64  \n",
      " 3   Broj testiranih          231 non-null    int64  \n",
      " 4   Broj smrtnih slučajeva   231 non-null    int64  \n",
      " 5   Broj oporavljenih osoba  231 non-null    int64  \n",
      " 6   Broj aktivnih slučajeva  150 non-null    float64\n",
      "dtypes: float64(1), int64(5), object(1)\n",
      "memory usage: 12.8+ KB\n"
     ]
    }
   ],
   "source": [
    "rawData.info() # checking the datatype of each column, the null valuse"
   ]
  },
  {
   "cell_type": "code",
   "execution_count": 5,
   "metadata": {
    "scrolled": true
   },
   "outputs": [
    {
     "data": {
      "text/html": [
       "<div>\n",
       "<style scoped>\n",
       "    .dataframe tbody tr th:only-of-type {\n",
       "        vertical-align: middle;\n",
       "    }\n",
       "\n",
       "    .dataframe tbody tr th {\n",
       "        vertical-align: top;\n",
       "    }\n",
       "\n",
       "    .dataframe thead th {\n",
       "        text-align: right;\n",
       "    }\n",
       "</style>\n",
       "<table border=\"1\" class=\"dataframe\">\n",
       "  <thead>\n",
       "    <tr style=\"text-align: right;\">\n",
       "      <th></th>\n",
       "      <th>Unnamed: 0</th>\n",
       "      <th>Potvrđeni slučajevi</th>\n",
       "      <th>Broj testiranih</th>\n",
       "      <th>Broj smrtnih slučajeva</th>\n",
       "      <th>Broj oporavljenih osoba</th>\n",
       "      <th>Broj aktivnih slučajeva</th>\n",
       "    </tr>\n",
       "  </thead>\n",
       "  <tbody>\n",
       "    <tr>\n",
       "      <th>count</th>\n",
       "      <td>231.000000</td>\n",
       "      <td>231.000000</td>\n",
       "      <td>231.000000</td>\n",
       "      <td>231.000000</td>\n",
       "      <td>231.000000</td>\n",
       "      <td>150.000000</td>\n",
       "    </tr>\n",
       "    <tr>\n",
       "      <th>mean</th>\n",
       "      <td>115.000000</td>\n",
       "      <td>31268.471861</td>\n",
       "      <td>200085.865801</td>\n",
       "      <td>3633.891775</td>\n",
       "      <td>19292.558442</td>\n",
       "      <td>15362.160000</td>\n",
       "    </tr>\n",
       "    <tr>\n",
       "      <th>std</th>\n",
       "      <td>66.828138</td>\n",
       "      <td>35227.672634</td>\n",
       "      <td>153225.880837</td>\n",
       "      <td>5023.575148</td>\n",
       "      <td>22381.495402</td>\n",
       "      <td>13442.102423</td>\n",
       "    </tr>\n",
       "    <tr>\n",
       "      <th>min</th>\n",
       "      <td>0.000000</td>\n",
       "      <td>513.000000</td>\n",
       "      <td>3983.000000</td>\n",
       "      <td>141.000000</td>\n",
       "      <td>15.000000</td>\n",
       "      <td>236.000000</td>\n",
       "    </tr>\n",
       "    <tr>\n",
       "      <th>25%</th>\n",
       "      <td>57.500000</td>\n",
       "      <td>2489.500000</td>\n",
       "      <td>64109.500000</td>\n",
       "      <td>436.000000</td>\n",
       "      <td>1817.000000</td>\n",
       "      <td>2579.250000</td>\n",
       "    </tr>\n",
       "    <tr>\n",
       "      <th>50%</th>\n",
       "      <td>115.000000</td>\n",
       "      <td>17029.000000</td>\n",
       "      <td>168861.000000</td>\n",
       "      <td>1086.000000</td>\n",
       "      <td>10881.000000</td>\n",
       "      <td>6772.000000</td>\n",
       "    </tr>\n",
       "    <tr>\n",
       "      <th>75%</th>\n",
       "      <td>172.500000</td>\n",
       "      <td>51887.000000</td>\n",
       "      <td>319022.000000</td>\n",
       "      <td>3749.000000</td>\n",
       "      <td>28380.500000</td>\n",
       "      <td>31201.500000</td>\n",
       "    </tr>\n",
       "    <tr>\n",
       "      <th>max</th>\n",
       "      <td>230.000000</td>\n",
       "      <td>110454.000000</td>\n",
       "      <td>509067.000000</td>\n",
       "      <td>24465.000000</td>\n",
       "      <td>76802.000000</td>\n",
       "      <td>34452.000000</td>\n",
       "    </tr>\n",
       "  </tbody>\n",
       "</table>\n",
       "</div>"
      ],
      "text/plain": [
       "       Unnamed: 0  Potvrđeni slučajevi  Broj testiranih  \\\n",
       "count  231.000000           231.000000       231.000000   \n",
       "mean   115.000000         31268.471861    200085.865801   \n",
       "std     66.828138         35227.672634    153225.880837   \n",
       "min      0.000000           513.000000      3983.000000   \n",
       "25%     57.500000          2489.500000     64109.500000   \n",
       "50%    115.000000         17029.000000    168861.000000   \n",
       "75%    172.500000         51887.000000    319022.000000   \n",
       "max    230.000000        110454.000000    509067.000000   \n",
       "\n",
       "       Broj smrtnih slučajeva  Broj oporavljenih osoba  \\\n",
       "count              231.000000               231.000000   \n",
       "mean              3633.891775             19292.558442   \n",
       "std               5023.575148             22381.495402   \n",
       "min                141.000000                15.000000   \n",
       "25%                436.000000              1817.000000   \n",
       "50%               1086.000000             10881.000000   \n",
       "75%               3749.000000             28380.500000   \n",
       "max              24465.000000             76802.000000   \n",
       "\n",
       "       Broj aktivnih slučajeva  \n",
       "count               150.000000  \n",
       "mean              15362.160000  \n",
       "std               13442.102423  \n",
       "min                 236.000000  \n",
       "25%                2579.250000  \n",
       "50%                6772.000000  \n",
       "75%               31201.500000  \n",
       "max               34452.000000  "
      ]
     },
     "execution_count": 5,
     "metadata": {},
     "output_type": "execute_result"
    }
   ],
   "source": [
    "rawData.describe() # fast overview of statistical methods for each column"
   ]
  },
  {
   "cell_type": "markdown",
   "metadata": {},
   "source": [
    "## Data preprocessing"
   ]
  },
  {
   "cell_type": "code",
   "execution_count": 6,
   "metadata": {},
   "outputs": [],
   "source": [
    "preprocessing = rawData.copy()"
   ]
  },
  {
   "cell_type": "code",
   "execution_count": 7,
   "metadata": {},
   "outputs": [
    {
     "data": {
      "text/html": [
       "<div>\n",
       "<style scoped>\n",
       "    .dataframe tbody tr th:only-of-type {\n",
       "        vertical-align: middle;\n",
       "    }\n",
       "\n",
       "    .dataframe tbody tr th {\n",
       "        vertical-align: top;\n",
       "    }\n",
       "\n",
       "    .dataframe thead th {\n",
       "        text-align: right;\n",
       "    }\n",
       "</style>\n",
       "<table border=\"1\" class=\"dataframe\">\n",
       "  <thead>\n",
       "    <tr style=\"text-align: right;\">\n",
       "      <th></th>\n",
       "      <th>Unnamed: 0</th>\n",
       "      <th>Datum</th>\n",
       "      <th>Potvrđeni slučajevi</th>\n",
       "      <th>Broj testiranih</th>\n",
       "      <th>Broj smrtnih slučajeva</th>\n",
       "      <th>Broj oporavljenih osoba</th>\n",
       "      <th>Broj aktivnih slučajeva</th>\n",
       "    </tr>\n",
       "  </thead>\n",
       "  <tbody>\n",
       "    <tr>\n",
       "      <th>0</th>\n",
       "      <td>0</td>\n",
       "      <td>29.12.2020</td>\n",
       "      <td>110454</td>\n",
       "      <td>509067</td>\n",
       "      <td>4024</td>\n",
       "      <td>76802</td>\n",
       "      <td>29628.0</td>\n",
       "    </tr>\n",
       "    <tr>\n",
       "      <th>1</th>\n",
       "      <td>1</td>\n",
       "      <td>28.12.2020</td>\n",
       "      <td>109911</td>\n",
       "      <td>505681</td>\n",
       "      <td>3976</td>\n",
       "      <td>76121</td>\n",
       "      <td>29814.0</td>\n",
       "    </tr>\n",
       "    <tr>\n",
       "      <th>2</th>\n",
       "      <td>2</td>\n",
       "      <td>27.12.2020</td>\n",
       "      <td>109691</td>\n",
       "      <td>503906</td>\n",
       "      <td>3953</td>\n",
       "      <td>75717</td>\n",
       "      <td>30021.0</td>\n",
       "    </tr>\n",
       "    <tr>\n",
       "      <th>3</th>\n",
       "      <td>3</td>\n",
       "      <td>26.12.2020</td>\n",
       "      <td>109330</td>\n",
       "      <td>502063</td>\n",
       "      <td>3923</td>\n",
       "      <td>75124</td>\n",
       "      <td>30283.0</td>\n",
       "    </tr>\n",
       "    <tr>\n",
       "      <th>4</th>\n",
       "      <td>4</td>\n",
       "      <td>25.12.2020</td>\n",
       "      <td>108891</td>\n",
       "      <td>499883</td>\n",
       "      <td>3901</td>\n",
       "      <td>74667</td>\n",
       "      <td>30323.0</td>\n",
       "    </tr>\n",
       "  </tbody>\n",
       "</table>\n",
       "</div>"
      ],
      "text/plain": [
       "   Unnamed: 0       Datum  Potvrđeni slučajevi  Broj testiranih  \\\n",
       "0           0  29.12.2020               110454           509067   \n",
       "1           1  28.12.2020               109911           505681   \n",
       "2           2  27.12.2020               109691           503906   \n",
       "3           3  26.12.2020               109330           502063   \n",
       "4           4  25.12.2020               108891           499883   \n",
       "\n",
       "   Broj smrtnih slučajeva  Broj oporavljenih osoba  Broj aktivnih slučajeva  \n",
       "0                    4024                    76802                  29628.0  \n",
       "1                    3976                    76121                  29814.0  \n",
       "2                    3953                    75717                  30021.0  \n",
       "3                    3923                    75124                  30283.0  \n",
       "4                    3901                    74667                  30323.0  "
      ]
     },
     "execution_count": 7,
     "metadata": {},
     "output_type": "execute_result"
    }
   ],
   "source": [
    "preprocessing.head()"
   ]
  },
  {
   "cell_type": "code",
   "execution_count": 8,
   "metadata": {
    "scrolled": true
   },
   "outputs": [
    {
     "data": {
      "text/plain": [
       "Index(['Unnamed: 0', 'Datum', 'Potvrđeni slučajevi', 'Broj testiranih',\n",
       "       'Broj smrtnih slučajeva', 'Broj oporavljenih osoba',\n",
       "       'Broj aktivnih slučajeva'],\n",
       "      dtype='object')"
      ]
     },
     "execution_count": 8,
     "metadata": {},
     "output_type": "execute_result"
    }
   ],
   "source": [
    "preprocessing.columns"
   ]
  },
  {
   "cell_type": "markdown",
   "metadata": {},
   "source": [
    "## Preprocessing the dataFrame\n",
    "\n",
    "First task is to drop the empty columns, after that we go and delete the remaining useless columns"
   ]
  },
  {
   "cell_type": "code",
   "execution_count": 9,
   "metadata": {},
   "outputs": [],
   "source": [
    "preprocessing = preprocessing.dropna(axis = 1) ## Dropping the empty columns"
   ]
  },
  {
   "cell_type": "code",
   "execution_count": 10,
   "metadata": {},
   "outputs": [
    {
     "data": {
      "text/html": [
       "<div>\n",
       "<style scoped>\n",
       "    .dataframe tbody tr th:only-of-type {\n",
       "        vertical-align: middle;\n",
       "    }\n",
       "\n",
       "    .dataframe tbody tr th {\n",
       "        vertical-align: top;\n",
       "    }\n",
       "\n",
       "    .dataframe thead th {\n",
       "        text-align: right;\n",
       "    }\n",
       "</style>\n",
       "<table border=\"1\" class=\"dataframe\">\n",
       "  <thead>\n",
       "    <tr style=\"text-align: right;\">\n",
       "      <th></th>\n",
       "      <th>Unnamed: 0</th>\n",
       "      <th>Datum</th>\n",
       "      <th>Potvrđeni slučajevi</th>\n",
       "      <th>Broj testiranih</th>\n",
       "      <th>Broj smrtnih slučajeva</th>\n",
       "      <th>Broj oporavljenih osoba</th>\n",
       "    </tr>\n",
       "  </thead>\n",
       "  <tbody>\n",
       "    <tr>\n",
       "      <th>0</th>\n",
       "      <td>0</td>\n",
       "      <td>29.12.2020</td>\n",
       "      <td>110454</td>\n",
       "      <td>509067</td>\n",
       "      <td>4024</td>\n",
       "      <td>76802</td>\n",
       "    </tr>\n",
       "    <tr>\n",
       "      <th>1</th>\n",
       "      <td>1</td>\n",
       "      <td>28.12.2020</td>\n",
       "      <td>109911</td>\n",
       "      <td>505681</td>\n",
       "      <td>3976</td>\n",
       "      <td>76121</td>\n",
       "    </tr>\n",
       "    <tr>\n",
       "      <th>2</th>\n",
       "      <td>2</td>\n",
       "      <td>27.12.2020</td>\n",
       "      <td>109691</td>\n",
       "      <td>503906</td>\n",
       "      <td>3953</td>\n",
       "      <td>75717</td>\n",
       "    </tr>\n",
       "    <tr>\n",
       "      <th>3</th>\n",
       "      <td>3</td>\n",
       "      <td>26.12.2020</td>\n",
       "      <td>109330</td>\n",
       "      <td>502063</td>\n",
       "      <td>3923</td>\n",
       "      <td>75124</td>\n",
       "    </tr>\n",
       "    <tr>\n",
       "      <th>4</th>\n",
       "      <td>4</td>\n",
       "      <td>25.12.2020</td>\n",
       "      <td>108891</td>\n",
       "      <td>499883</td>\n",
       "      <td>3901</td>\n",
       "      <td>74667</td>\n",
       "    </tr>\n",
       "    <tr>\n",
       "      <th>...</th>\n",
       "      <td>...</td>\n",
       "      <td>...</td>\n",
       "      <td>...</td>\n",
       "      <td>...</td>\n",
       "      <td>...</td>\n",
       "      <td>...</td>\n",
       "    </tr>\n",
       "    <tr>\n",
       "      <th>226</th>\n",
       "      <td>226</td>\n",
       "      <td>06.04.2020</td>\n",
       "      <td>694</td>\n",
       "      <td>6429</td>\n",
       "      <td>17818</td>\n",
       "      <td>29</td>\n",
       "    </tr>\n",
       "    <tr>\n",
       "      <th>227</th>\n",
       "      <td>227</td>\n",
       "      <td>05.04.2020</td>\n",
       "      <td>648</td>\n",
       "      <td>5820</td>\n",
       "      <td>20006</td>\n",
       "      <td>21</td>\n",
       "    </tr>\n",
       "    <tr>\n",
       "      <th>228</th>\n",
       "      <td>228</td>\n",
       "      <td>04.04.2020</td>\n",
       "      <td>619</td>\n",
       "      <td>5218</td>\n",
       "      <td>19651</td>\n",
       "      <td>21</td>\n",
       "    </tr>\n",
       "    <tr>\n",
       "      <th>229</th>\n",
       "      <td>229</td>\n",
       "      <td>03.04.2020</td>\n",
       "      <td>567</td>\n",
       "      <td>4628</td>\n",
       "      <td>21919</td>\n",
       "      <td>18</td>\n",
       "    </tr>\n",
       "    <tr>\n",
       "      <th>230</th>\n",
       "      <td>230</td>\n",
       "      <td>02.04.2020</td>\n",
       "      <td>513</td>\n",
       "      <td>3983</td>\n",
       "      <td>24465</td>\n",
       "      <td>15</td>\n",
       "    </tr>\n",
       "  </tbody>\n",
       "</table>\n",
       "<p>231 rows × 6 columns</p>\n",
       "</div>"
      ],
      "text/plain": [
       "     Unnamed: 0       Datum  Potvrđeni slučajevi  Broj testiranih  \\\n",
       "0             0  29.12.2020               110454           509067   \n",
       "1             1  28.12.2020               109911           505681   \n",
       "2             2  27.12.2020               109691           503906   \n",
       "3             3  26.12.2020               109330           502063   \n",
       "4             4  25.12.2020               108891           499883   \n",
       "..          ...         ...                  ...              ...   \n",
       "226         226  06.04.2020                  694             6429   \n",
       "227         227  05.04.2020                  648             5820   \n",
       "228         228  04.04.2020                  619             5218   \n",
       "229         229  03.04.2020                  567             4628   \n",
       "230         230  02.04.2020                  513             3983   \n",
       "\n",
       "     Broj smrtnih slučajeva  Broj oporavljenih osoba  \n",
       "0                      4024                    76802  \n",
       "1                      3976                    76121  \n",
       "2                      3953                    75717  \n",
       "3                      3923                    75124  \n",
       "4                      3901                    74667  \n",
       "..                      ...                      ...  \n",
       "226                   17818                       29  \n",
       "227                   20006                       21  \n",
       "228                   19651                       21  \n",
       "229                   21919                       18  \n",
       "230                   24465                       15  \n",
       "\n",
       "[231 rows x 6 columns]"
      ]
     },
     "execution_count": 10,
     "metadata": {},
     "output_type": "execute_result"
    }
   ],
   "source": [
    "preprocessing"
   ]
  },
  {
   "cell_type": "code",
   "execution_count": 11,
   "metadata": {},
   "outputs": [
    {
     "data": {
      "text/plain": [
       "Index(['Unnamed: 0', 'Datum', 'Potvrđeni slučajevi', 'Broj testiranih',\n",
       "       'Broj smrtnih slučajeva', 'Broj oporavljenih osoba'],\n",
       "      dtype='object')"
      ]
     },
     "execution_count": 11,
     "metadata": {},
     "output_type": "execute_result"
    }
   ],
   "source": [
    "preprocessing.columns"
   ]
  },
  {
   "cell_type": "code",
   "execution_count": 12,
   "metadata": {},
   "outputs": [
    {
     "ename": "KeyError",
     "evalue": "\"['iso_code' 'continent' 'location' 'total_cases_per_million'\\n 'new_cases_per_million' 'aged_70_older' 'gdp_per_capita'\\n 'extreme_poverty' 'cardiovasc_death_rate' 'diabetes_prevalence'\\n 'female_smokers' 'male_smokers' 'handwashing_facilities'\\n 'hospital_beds_per_thousand' 'life_expectancy' 'human_development_index'] not found in axis\"",
     "output_type": "error",
     "traceback": [
      "\u001b[0;31m---------------------------------------------------------------------------\u001b[0m",
      "\u001b[0;31mKeyError\u001b[0m                                  Traceback (most recent call last)",
      "\u001b[0;32m<ipython-input-12-85b763131d0f>\u001b[0m in \u001b[0;36m<module>\u001b[0;34m\u001b[0m\n\u001b[0;32m----> 1\u001b[0;31m preprocessing.drop(\n\u001b[0m\u001b[1;32m      2\u001b[0m     [\n\u001b[1;32m      3\u001b[0m         \u001b[0;34m'iso_code'\u001b[0m\u001b[0;34m,\u001b[0m \u001b[0;34m'continent'\u001b[0m\u001b[0;34m,\u001b[0m \u001b[0;34m'location'\u001b[0m\u001b[0;34m,\u001b[0m \u001b[0;34m'total_cases_per_million'\u001b[0m\u001b[0;34m,\u001b[0m \u001b[0;34m'new_cases_per_million'\u001b[0m\u001b[0;34m,\u001b[0m\u001b[0;34m'aged_70_older'\u001b[0m\u001b[0;34m,\u001b[0m\u001b[0;34m\u001b[0m\u001b[0;34m\u001b[0m\u001b[0m\n\u001b[1;32m      4\u001b[0m         \u001b[0;34m'gdp_per_capita'\u001b[0m\u001b[0;34m,\u001b[0m \u001b[0;34m'extreme_poverty'\u001b[0m\u001b[0;34m,\u001b[0m \u001b[0;34m'cardiovasc_death_rate'\u001b[0m\u001b[0;34m,\u001b[0m\u001b[0;34m'diabetes_prevalence'\u001b[0m\u001b[0;34m,\u001b[0m \u001b[0;34m'female_smokers'\u001b[0m\u001b[0;34m,\u001b[0m \u001b[0;34m'male_smokers'\u001b[0m\u001b[0;34m,\u001b[0m\u001b[0;34m\u001b[0m\u001b[0;34m\u001b[0m\u001b[0m\n\u001b[1;32m      5\u001b[0m         \u001b[0;34m'handwashing_facilities'\u001b[0m\u001b[0;34m,\u001b[0m \u001b[0;34m'hospital_beds_per_thousand'\u001b[0m\u001b[0;34m,\u001b[0m \u001b[0;34m'life_expectancy'\u001b[0m\u001b[0;34m,\u001b[0m \u001b[0;34m'human_development_index'\u001b[0m\u001b[0;34m\u001b[0m\u001b[0;34m\u001b[0m\u001b[0m\n",
      "\u001b[0;32m~/.local/lib/python3.8/site-packages/pandas/core/frame.py\u001b[0m in \u001b[0;36mdrop\u001b[0;34m(self, labels, axis, index, columns, level, inplace, errors)\u001b[0m\n\u001b[1;32m   4165\u001b[0m                 \u001b[0mweight\u001b[0m  \u001b[0;36m1.0\u001b[0m     \u001b[0;36m0.8\u001b[0m\u001b[0;34m\u001b[0m\u001b[0;34m\u001b[0m\u001b[0m\n\u001b[1;32m   4166\u001b[0m         \"\"\"\n\u001b[0;32m-> 4167\u001b[0;31m         return super().drop(\n\u001b[0m\u001b[1;32m   4168\u001b[0m             \u001b[0mlabels\u001b[0m\u001b[0;34m=\u001b[0m\u001b[0mlabels\u001b[0m\u001b[0;34m,\u001b[0m\u001b[0;34m\u001b[0m\u001b[0;34m\u001b[0m\u001b[0m\n\u001b[1;32m   4169\u001b[0m             \u001b[0maxis\u001b[0m\u001b[0;34m=\u001b[0m\u001b[0maxis\u001b[0m\u001b[0;34m,\u001b[0m\u001b[0;34m\u001b[0m\u001b[0;34m\u001b[0m\u001b[0m\n",
      "\u001b[0;32m~/.local/lib/python3.8/site-packages/pandas/core/generic.py\u001b[0m in \u001b[0;36mdrop\u001b[0;34m(self, labels, axis, index, columns, level, inplace, errors)\u001b[0m\n\u001b[1;32m   3887\u001b[0m         \u001b[0;32mfor\u001b[0m \u001b[0maxis\u001b[0m\u001b[0;34m,\u001b[0m \u001b[0mlabels\u001b[0m \u001b[0;32min\u001b[0m \u001b[0maxes\u001b[0m\u001b[0;34m.\u001b[0m\u001b[0mitems\u001b[0m\u001b[0;34m(\u001b[0m\u001b[0;34m)\u001b[0m\u001b[0;34m:\u001b[0m\u001b[0;34m\u001b[0m\u001b[0;34m\u001b[0m\u001b[0m\n\u001b[1;32m   3888\u001b[0m             \u001b[0;32mif\u001b[0m \u001b[0mlabels\u001b[0m \u001b[0;32mis\u001b[0m \u001b[0;32mnot\u001b[0m \u001b[0;32mNone\u001b[0m\u001b[0;34m:\u001b[0m\u001b[0;34m\u001b[0m\u001b[0;34m\u001b[0m\u001b[0m\n\u001b[0;32m-> 3889\u001b[0;31m                 \u001b[0mobj\u001b[0m \u001b[0;34m=\u001b[0m \u001b[0mobj\u001b[0m\u001b[0;34m.\u001b[0m\u001b[0m_drop_axis\u001b[0m\u001b[0;34m(\u001b[0m\u001b[0mlabels\u001b[0m\u001b[0;34m,\u001b[0m \u001b[0maxis\u001b[0m\u001b[0;34m,\u001b[0m \u001b[0mlevel\u001b[0m\u001b[0;34m=\u001b[0m\u001b[0mlevel\u001b[0m\u001b[0;34m,\u001b[0m \u001b[0merrors\u001b[0m\u001b[0;34m=\u001b[0m\u001b[0merrors\u001b[0m\u001b[0;34m)\u001b[0m\u001b[0;34m\u001b[0m\u001b[0;34m\u001b[0m\u001b[0m\n\u001b[0m\u001b[1;32m   3890\u001b[0m \u001b[0;34m\u001b[0m\u001b[0m\n\u001b[1;32m   3891\u001b[0m         \u001b[0;32mif\u001b[0m \u001b[0minplace\u001b[0m\u001b[0;34m:\u001b[0m\u001b[0;34m\u001b[0m\u001b[0;34m\u001b[0m\u001b[0m\n",
      "\u001b[0;32m~/.local/lib/python3.8/site-packages/pandas/core/generic.py\u001b[0m in \u001b[0;36m_drop_axis\u001b[0;34m(self, labels, axis, level, errors)\u001b[0m\n\u001b[1;32m   3921\u001b[0m                 \u001b[0mnew_axis\u001b[0m \u001b[0;34m=\u001b[0m \u001b[0maxis\u001b[0m\u001b[0;34m.\u001b[0m\u001b[0mdrop\u001b[0m\u001b[0;34m(\u001b[0m\u001b[0mlabels\u001b[0m\u001b[0;34m,\u001b[0m \u001b[0mlevel\u001b[0m\u001b[0;34m=\u001b[0m\u001b[0mlevel\u001b[0m\u001b[0;34m,\u001b[0m \u001b[0merrors\u001b[0m\u001b[0;34m=\u001b[0m\u001b[0merrors\u001b[0m\u001b[0;34m)\u001b[0m\u001b[0;34m\u001b[0m\u001b[0;34m\u001b[0m\u001b[0m\n\u001b[1;32m   3922\u001b[0m             \u001b[0;32melse\u001b[0m\u001b[0;34m:\u001b[0m\u001b[0;34m\u001b[0m\u001b[0;34m\u001b[0m\u001b[0m\n\u001b[0;32m-> 3923\u001b[0;31m                 \u001b[0mnew_axis\u001b[0m \u001b[0;34m=\u001b[0m \u001b[0maxis\u001b[0m\u001b[0;34m.\u001b[0m\u001b[0mdrop\u001b[0m\u001b[0;34m(\u001b[0m\u001b[0mlabels\u001b[0m\u001b[0;34m,\u001b[0m \u001b[0merrors\u001b[0m\u001b[0;34m=\u001b[0m\u001b[0merrors\u001b[0m\u001b[0;34m)\u001b[0m\u001b[0;34m\u001b[0m\u001b[0;34m\u001b[0m\u001b[0m\n\u001b[0m\u001b[1;32m   3924\u001b[0m             \u001b[0mresult\u001b[0m \u001b[0;34m=\u001b[0m \u001b[0mself\u001b[0m\u001b[0;34m.\u001b[0m\u001b[0mreindex\u001b[0m\u001b[0;34m(\u001b[0m\u001b[0;34m**\u001b[0m\u001b[0;34m{\u001b[0m\u001b[0maxis_name\u001b[0m\u001b[0;34m:\u001b[0m \u001b[0mnew_axis\u001b[0m\u001b[0;34m}\u001b[0m\u001b[0;34m)\u001b[0m\u001b[0;34m\u001b[0m\u001b[0;34m\u001b[0m\u001b[0m\n\u001b[1;32m   3925\u001b[0m \u001b[0;34m\u001b[0m\u001b[0m\n",
      "\u001b[0;32m~/.local/lib/python3.8/site-packages/pandas/core/indexes/base.py\u001b[0m in \u001b[0;36mdrop\u001b[0;34m(self, labels, errors)\u001b[0m\n\u001b[1;32m   5285\u001b[0m         \u001b[0;32mif\u001b[0m \u001b[0mmask\u001b[0m\u001b[0;34m.\u001b[0m\u001b[0many\u001b[0m\u001b[0;34m(\u001b[0m\u001b[0;34m)\u001b[0m\u001b[0;34m:\u001b[0m\u001b[0;34m\u001b[0m\u001b[0;34m\u001b[0m\u001b[0m\n\u001b[1;32m   5286\u001b[0m             \u001b[0;32mif\u001b[0m \u001b[0merrors\u001b[0m \u001b[0;34m!=\u001b[0m \u001b[0;34m\"ignore\"\u001b[0m\u001b[0;34m:\u001b[0m\u001b[0;34m\u001b[0m\u001b[0;34m\u001b[0m\u001b[0m\n\u001b[0;32m-> 5287\u001b[0;31m                 \u001b[0;32mraise\u001b[0m \u001b[0mKeyError\u001b[0m\u001b[0;34m(\u001b[0m\u001b[0;34mf\"{labels[mask]} not found in axis\"\u001b[0m\u001b[0;34m)\u001b[0m\u001b[0;34m\u001b[0m\u001b[0;34m\u001b[0m\u001b[0m\n\u001b[0m\u001b[1;32m   5288\u001b[0m             \u001b[0mindexer\u001b[0m \u001b[0;34m=\u001b[0m \u001b[0mindexer\u001b[0m\u001b[0;34m[\u001b[0m\u001b[0;34m~\u001b[0m\u001b[0mmask\u001b[0m\u001b[0;34m]\u001b[0m\u001b[0;34m\u001b[0m\u001b[0;34m\u001b[0m\u001b[0m\n\u001b[1;32m   5289\u001b[0m         \u001b[0;32mreturn\u001b[0m \u001b[0mself\u001b[0m\u001b[0;34m.\u001b[0m\u001b[0mdelete\u001b[0m\u001b[0;34m(\u001b[0m\u001b[0mindexer\u001b[0m\u001b[0;34m)\u001b[0m\u001b[0;34m\u001b[0m\u001b[0;34m\u001b[0m\u001b[0m\n",
      "\u001b[0;31mKeyError\u001b[0m: \"['iso_code' 'continent' 'location' 'total_cases_per_million'\\n 'new_cases_per_million' 'aged_70_older' 'gdp_per_capita'\\n 'extreme_poverty' 'cardiovasc_death_rate' 'diabetes_prevalence'\\n 'female_smokers' 'male_smokers' 'handwashing_facilities'\\n 'hospital_beds_per_thousand' 'life_expectancy' 'human_development_index'] not found in axis\""
     ]
    }
   ],
   "source": [
    "preprocessing.drop(\n",
    "    [\n",
    "        'iso_code', 'continent', 'location', 'total_cases_per_million', 'new_cases_per_million','aged_70_older',\n",
    "        'gdp_per_capita', 'extreme_poverty', 'cardiovasc_death_rate','diabetes_prevalence', 'female_smokers', 'male_smokers',\n",
    "        'handwashing_facilities', 'hospital_beds_per_thousand', 'life_expectancy', 'human_development_index'\n",
    "    ], axis = 1)"
   ]
  },
  {
   "cell_type": "code",
   "execution_count": null,
   "metadata": {},
   "outputs": [],
   "source": []
  },
  {
   "cell_type": "code",
   "execution_count": null,
   "metadata": {},
   "outputs": [],
   "source": []
  },
  {
   "cell_type": "markdown",
   "metadata": {},
   "source": []
  }
 ],
 "metadata": {
  "kernelspec": {
   "display_name": "Python 3",
   "language": "python",
   "name": "python3"
  },
  "language_info": {
   "codemirror_mode": {
    "name": "ipython",
    "version": 3
   },
   "file_extension": ".py",
   "mimetype": "text/x-python",
   "name": "python",
   "nbconvert_exporter": "python",
   "pygments_lexer": "ipython3",
   "version": "3.8.5"
  }
 },
 "nbformat": 4,
 "nbformat_minor": 4
}
