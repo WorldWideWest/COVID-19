{
 "cells": [
  {
   "cell_type": "markdown",
   "metadata": {},
   "source": [
    "# Analysing the COVID-19 pandemic in Bosnia and Herzegovina"
   ]
  },
  {
   "cell_type": "markdown",
   "metadata": {},
   "source": [
    "The analysie will be preformed on a dataset gathered from the <a href=\"https://www.who.int/\">WHO</a> website. The first part of this analysis will be data cleaning, wich is the most important part of data analysis. You know how they say it if the data is not clean we get garbage in and garbage out.\n",
    "\n",
    "The next part will contain visualizations to get a more understanding picture of the situation so we can preform some statistical methods later. \n",
    "\n",
    "After we finished the data cleaning and visualization process will continue on data modeling so we can make predictions in the later part when we will actualy use our data to make predictions on how the situation will improve or not in the future.\n",
    "\n",
    "When all of this is set and done we will make the conclusion and suggest how things can be done in the future to improve the situation."
   ]
  },
  {
   "cell_type": "markdown",
   "metadata": {},
   "source": [
    "## Table of Contetn's\n",
    "\n",
    "* [Importing the nececery Libraries](#importing-the-nececery-libraries)\n",
    "* [Data import and exploration](#data-import-and-exploration)"
   ]
  },
  {
   "cell_type": "markdown",
   "metadata": {},
   "source": [
    "## Importing the nececery Libraries"
   ]
  },
  {
   "cell_type": "code",
   "execution_count": 17,
   "metadata": {},
   "outputs": [],
   "source": [
    "import os\n",
    "import numpy as np\n",
    "import pandas as pd\n",
    "import matplotlib.pyplot as plt\n",
    "import seaborn as sns\n",
    "import datetime as dt\n",
    "\n",
    "sns.set()"
   ]
  },
  {
   "cell_type": "markdown",
   "metadata": {},
   "source": [
    "## Data import and exploration"
   ]
  },
  {
   "cell_type": "code",
   "execution_count": 2,
   "metadata": {
    "scrolled": true
   },
   "outputs": [],
   "source": [
    "rawData = pd.read_excel(os.path.join(\"../dataSet/rawData/\", \"mbih.xlsx\"), engine='openpyxl')"
   ]
  },
  {
   "cell_type": "code",
   "execution_count": 3,
   "metadata": {
    "scrolled": true
   },
   "outputs": [
    {
     "data": {
      "text/html": [
       "<div>\n",
       "<style scoped>\n",
       "    .dataframe tbody tr th:only-of-type {\n",
       "        vertical-align: middle;\n",
       "    }\n",
       "\n",
       "    .dataframe tbody tr th {\n",
       "        vertical-align: top;\n",
       "    }\n",
       "\n",
       "    .dataframe thead th {\n",
       "        text-align: right;\n",
       "    }\n",
       "</style>\n",
       "<table border=\"1\" class=\"dataframe\">\n",
       "  <thead>\n",
       "    <tr style=\"text-align: right;\">\n",
       "      <th></th>\n",
       "      <th>Unnamed: 0</th>\n",
       "      <th>date</th>\n",
       "      <th>total_cases</th>\n",
       "      <th>new_cases</th>\n",
       "      <th>population</th>\n",
       "    </tr>\n",
       "  </thead>\n",
       "  <tbody>\n",
       "    <tr>\n",
       "      <th>0</th>\n",
       "      <td>6498</td>\n",
       "      <td>2020-03-05</td>\n",
       "      <td>2</td>\n",
       "      <td>2</td>\n",
       "      <td>3280815</td>\n",
       "    </tr>\n",
       "    <tr>\n",
       "      <th>1</th>\n",
       "      <td>6499</td>\n",
       "      <td>2020-03-06</td>\n",
       "      <td>2</td>\n",
       "      <td>0</td>\n",
       "      <td>3280815</td>\n",
       "    </tr>\n",
       "    <tr>\n",
       "      <th>2</th>\n",
       "      <td>6500</td>\n",
       "      <td>2020-03-07</td>\n",
       "      <td>3</td>\n",
       "      <td>1</td>\n",
       "      <td>3280815</td>\n",
       "    </tr>\n",
       "    <tr>\n",
       "      <th>3</th>\n",
       "      <td>6501</td>\n",
       "      <td>2020-03-08</td>\n",
       "      <td>3</td>\n",
       "      <td>0</td>\n",
       "      <td>3280815</td>\n",
       "    </tr>\n",
       "    <tr>\n",
       "      <th>4</th>\n",
       "      <td>6502</td>\n",
       "      <td>2020-03-09</td>\n",
       "      <td>3</td>\n",
       "      <td>0</td>\n",
       "      <td>3280815</td>\n",
       "    </tr>\n",
       "  </tbody>\n",
       "</table>\n",
       "</div>"
      ],
      "text/plain": [
       "   Unnamed: 0        date  total_cases  new_cases  population\n",
       "0        6498  2020-03-05            2          2     3280815\n",
       "1        6499  2020-03-06            2          0     3280815\n",
       "2        6500  2020-03-07            3          1     3280815\n",
       "3        6501  2020-03-08            3          0     3280815\n",
       "4        6502  2020-03-09            3          0     3280815"
      ]
     },
     "execution_count": 3,
     "metadata": {},
     "output_type": "execute_result"
    }
   ],
   "source": [
    "rawData.head()"
   ]
  },
  {
   "cell_type": "code",
   "execution_count": 4,
   "metadata": {
    "scrolled": true
   },
   "outputs": [
    {
     "name": "stdout",
     "output_type": "stream",
     "text": [
      "<class 'pandas.core.frame.DataFrame'>\n",
      "RangeIndex: 306 entries, 0 to 305\n",
      "Data columns (total 5 columns):\n",
      " #   Column       Non-Null Count  Dtype \n",
      "---  ------       --------------  ----- \n",
      " 0   Unnamed: 0   306 non-null    int64 \n",
      " 1   date         306 non-null    object\n",
      " 2   total_cases  306 non-null    int64 \n",
      " 3   new_cases    306 non-null    int64 \n",
      " 4   population   306 non-null    int64 \n",
      "dtypes: int64(4), object(1)\n",
      "memory usage: 12.1+ KB\n"
     ]
    }
   ],
   "source": [
    "rawData.info() # checking the datatype of each column, the null valuse"
   ]
  },
  {
   "cell_type": "code",
   "execution_count": 5,
   "metadata": {
    "scrolled": true
   },
   "outputs": [
    {
     "data": {
      "text/html": [
       "<div>\n",
       "<style scoped>\n",
       "    .dataframe tbody tr th:only-of-type {\n",
       "        vertical-align: middle;\n",
       "    }\n",
       "\n",
       "    .dataframe tbody tr th {\n",
       "        vertical-align: top;\n",
       "    }\n",
       "\n",
       "    .dataframe thead th {\n",
       "        text-align: right;\n",
       "    }\n",
       "</style>\n",
       "<table border=\"1\" class=\"dataframe\">\n",
       "  <thead>\n",
       "    <tr style=\"text-align: right;\">\n",
       "      <th></th>\n",
       "      <th>Unnamed: 0</th>\n",
       "      <th>total_cases</th>\n",
       "      <th>new_cases</th>\n",
       "      <th>population</th>\n",
       "    </tr>\n",
       "  </thead>\n",
       "  <tbody>\n",
       "    <tr>\n",
       "      <th>count</th>\n",
       "      <td>306.000000</td>\n",
       "      <td>306.000000</td>\n",
       "      <td>306.000000</td>\n",
       "      <td>306.0</td>\n",
       "    </tr>\n",
       "    <tr>\n",
       "      <th>mean</th>\n",
       "      <td>6650.500000</td>\n",
       "      <td>27775.209150</td>\n",
       "      <td>368.120915</td>\n",
       "      <td>3280815.0</td>\n",
       "    </tr>\n",
       "    <tr>\n",
       "      <th>std</th>\n",
       "      <td>88.478811</td>\n",
       "      <td>34506.060529</td>\n",
       "      <td>466.926843</td>\n",
       "      <td>0.0</td>\n",
       "    </tr>\n",
       "    <tr>\n",
       "      <th>min</th>\n",
       "      <td>6498.000000</td>\n",
       "      <td>2.000000</td>\n",
       "      <td>0.000000</td>\n",
       "      <td>3280815.0</td>\n",
       "    </tr>\n",
       "    <tr>\n",
       "      <th>25%</th>\n",
       "      <td>6574.250000</td>\n",
       "      <td>2341.000000</td>\n",
       "      <td>26.250000</td>\n",
       "      <td>3280815.0</td>\n",
       "    </tr>\n",
       "    <tr>\n",
       "      <th>50%</th>\n",
       "      <td>6650.500000</td>\n",
       "      <td>12997.000000</td>\n",
       "      <td>218.500000</td>\n",
       "      <td>3280815.0</td>\n",
       "    </tr>\n",
       "    <tr>\n",
       "      <th>75%</th>\n",
       "      <td>6726.750000</td>\n",
       "      <td>35207.000000</td>\n",
       "      <td>474.750000</td>\n",
       "      <td>3280815.0</td>\n",
       "    </tr>\n",
       "    <tr>\n",
       "      <th>max</th>\n",
       "      <td>6803.000000</td>\n",
       "      <td>112645.000000</td>\n",
       "      <td>1953.000000</td>\n",
       "      <td>3280815.0</td>\n",
       "    </tr>\n",
       "  </tbody>\n",
       "</table>\n",
       "</div>"
      ],
      "text/plain": [
       "        Unnamed: 0    total_cases    new_cases  population\n",
       "count   306.000000     306.000000   306.000000       306.0\n",
       "mean   6650.500000   27775.209150   368.120915   3280815.0\n",
       "std      88.478811   34506.060529   466.926843         0.0\n",
       "min    6498.000000       2.000000     0.000000   3280815.0\n",
       "25%    6574.250000    2341.000000    26.250000   3280815.0\n",
       "50%    6650.500000   12997.000000   218.500000   3280815.0\n",
       "75%    6726.750000   35207.000000   474.750000   3280815.0\n",
       "max    6803.000000  112645.000000  1953.000000   3280815.0"
      ]
     },
     "execution_count": 5,
     "metadata": {},
     "output_type": "execute_result"
    }
   ],
   "source": [
    "rawData.describe() # fast overview of statistical methods for each column"
   ]
  },
  {
   "cell_type": "markdown",
   "metadata": {},
   "source": [
    "## Data preprocessing"
   ]
  },
  {
   "cell_type": "code",
   "execution_count": 6,
   "metadata": {},
   "outputs": [
    {
     "data": {
      "text/html": [
       "<div>\n",
       "<style scoped>\n",
       "    .dataframe tbody tr th:only-of-type {\n",
       "        vertical-align: middle;\n",
       "    }\n",
       "\n",
       "    .dataframe tbody tr th {\n",
       "        vertical-align: top;\n",
       "    }\n",
       "\n",
       "    .dataframe thead th {\n",
       "        text-align: right;\n",
       "    }\n",
       "</style>\n",
       "<table border=\"1\" class=\"dataframe\">\n",
       "  <thead>\n",
       "    <tr style=\"text-align: right;\">\n",
       "      <th></th>\n",
       "      <th>date</th>\n",
       "      <th>total_cases</th>\n",
       "      <th>new_cases</th>\n",
       "      <th>population</th>\n",
       "    </tr>\n",
       "  </thead>\n",
       "  <tbody>\n",
       "    <tr>\n",
       "      <th>0</th>\n",
       "      <td>2020-03-05</td>\n",
       "      <td>2</td>\n",
       "      <td>2</td>\n",
       "      <td>3280815</td>\n",
       "    </tr>\n",
       "    <tr>\n",
       "      <th>1</th>\n",
       "      <td>2020-03-06</td>\n",
       "      <td>2</td>\n",
       "      <td>0</td>\n",
       "      <td>3280815</td>\n",
       "    </tr>\n",
       "    <tr>\n",
       "      <th>2</th>\n",
       "      <td>2020-03-07</td>\n",
       "      <td>3</td>\n",
       "      <td>1</td>\n",
       "      <td>3280815</td>\n",
       "    </tr>\n",
       "    <tr>\n",
       "      <th>3</th>\n",
       "      <td>2020-03-08</td>\n",
       "      <td>3</td>\n",
       "      <td>0</td>\n",
       "      <td>3280815</td>\n",
       "    </tr>\n",
       "    <tr>\n",
       "      <th>4</th>\n",
       "      <td>2020-03-09</td>\n",
       "      <td>3</td>\n",
       "      <td>0</td>\n",
       "      <td>3280815</td>\n",
       "    </tr>\n",
       "  </tbody>\n",
       "</table>\n",
       "</div>"
      ],
      "text/plain": [
       "        date  total_cases  new_cases  population\n",
       "0 2020-03-05            2          2     3280815\n",
       "1 2020-03-06            2          0     3280815\n",
       "2 2020-03-07            3          1     3280815\n",
       "3 2020-03-08            3          0     3280815\n",
       "4 2020-03-09            3          0     3280815"
      ]
     },
     "execution_count": 6,
     "metadata": {},
     "output_type": "execute_result"
    }
   ],
   "source": [
    "rawData.drop(columns = \"Unnamed: 0\", inplace = True)\n",
    "rawData['date'] = rawData['date'].astype('datetime64')\n",
    "rawData.head()"
   ]
  },
  {
   "cell_type": "code",
   "execution_count": 7,
   "metadata": {
    "scrolled": true
   },
   "outputs": [
    {
     "data": {
      "text/html": [
       "<div>\n",
       "<style scoped>\n",
       "    .dataframe tbody tr th:only-of-type {\n",
       "        vertical-align: middle;\n",
       "    }\n",
       "\n",
       "    .dataframe tbody tr th {\n",
       "        vertical-align: top;\n",
       "    }\n",
       "\n",
       "    .dataframe thead th {\n",
       "        text-align: right;\n",
       "    }\n",
       "</style>\n",
       "<table border=\"1\" class=\"dataframe\">\n",
       "  <thead>\n",
       "    <tr style=\"text-align: right;\">\n",
       "      <th></th>\n",
       "      <th>Datum</th>\n",
       "      <th>Potvrđeni slučajevi</th>\n",
       "      <th>Broj testiranih</th>\n",
       "      <th>Broj smrtnih slučajeva</th>\n",
       "      <th>Broj oporavljenih osoba</th>\n",
       "      <th>Broj aktivnih slučajeva</th>\n",
       "      <th>Broj osoba pod nadzorom</th>\n",
       "    </tr>\n",
       "  </thead>\n",
       "  <tbody>\n",
       "    <tr>\n",
       "      <th>0</th>\n",
       "      <td>30.12.2020</td>\n",
       "      <td>110985</td>\n",
       "      <td>511940</td>\n",
       "      <td>4050</td>\n",
       "      <td>77225</td>\n",
       "      <td>29710</td>\n",
       "      <td>0</td>\n",
       "    </tr>\n",
       "    <tr>\n",
       "      <th>1</th>\n",
       "      <td>29.12.2020</td>\n",
       "      <td>110454</td>\n",
       "      <td>509067</td>\n",
       "      <td>4024</td>\n",
       "      <td>76802</td>\n",
       "      <td>29628</td>\n",
       "      <td>0</td>\n",
       "    </tr>\n",
       "    <tr>\n",
       "      <th>2</th>\n",
       "      <td>28.12.2020</td>\n",
       "      <td>109911</td>\n",
       "      <td>505681</td>\n",
       "      <td>3976</td>\n",
       "      <td>76121</td>\n",
       "      <td>29814</td>\n",
       "      <td>0</td>\n",
       "    </tr>\n",
       "    <tr>\n",
       "      <th>3</th>\n",
       "      <td>27.12.2020</td>\n",
       "      <td>109691</td>\n",
       "      <td>503906</td>\n",
       "      <td>3953</td>\n",
       "      <td>75717</td>\n",
       "      <td>30021</td>\n",
       "      <td>0</td>\n",
       "    </tr>\n",
       "    <tr>\n",
       "      <th>4</th>\n",
       "      <td>26.12.2020</td>\n",
       "      <td>109330</td>\n",
       "      <td>502063</td>\n",
       "      <td>3923</td>\n",
       "      <td>75124</td>\n",
       "      <td>30283</td>\n",
       "      <td>0</td>\n",
       "    </tr>\n",
       "  </tbody>\n",
       "</table>\n",
       "</div>"
      ],
      "text/plain": [
       "        Datum  Potvrđeni slučajevi  Broj testiranih  Broj smrtnih slučajeva  \\\n",
       "0  30.12.2020               110985           511940                    4050   \n",
       "1  29.12.2020               110454           509067                    4024   \n",
       "2  28.12.2020               109911           505681                    3976   \n",
       "3  27.12.2020               109691           503906                    3953   \n",
       "4  26.12.2020               109330           502063                    3923   \n",
       "\n",
       "   Broj oporavljenih osoba  Broj aktivnih slučajeva  Broj osoba pod nadzorom  \n",
       "0                    77225                    29710                        0  \n",
       "1                    76802                    29628                        0  \n",
       "2                    76121                    29814                        0  \n",
       "3                    75717                    30021                        0  \n",
       "4                    75124                    30283                        0  "
      ]
     },
     "execution_count": 7,
     "metadata": {},
     "output_type": "execute_result"
    }
   ],
   "source": [
    "bihdata = pd.read_excel(os.path.join(\"../dataSet/rawData/\", \"bih.xlsx\"), engine='openpyxl')\n",
    "bihdata.drop(columns = \"Unnamed: 0\", inplace = True)\n",
    "bihdata.head()"
   ]
  },
  {
   "cell_type": "code",
   "execution_count": 8,
   "metadata": {},
   "outputs": [],
   "source": [
    "tested = pd.DataFrame(columns = [\"Datum\", \"Broj testiranih dnevno\"])\n",
    "for index in range(0, len(bihdata[\"Broj testiranih\"])):    \n",
    "    if index == len(bihdata[\"Broj testiranih\"]) - 2:\n",
    "        i, j = index, len(bihdata[\"Broj testiranih\"]) - 1\n",
    "        \n",
    "        tested = tested.append(\n",
    "            {\"Datum\": str(bihdata.iloc[index, 0]), \"Broj testiranih dnevno\": bihdata.iloc[i, 2] - bihdata.iloc[j, 2]},\n",
    "            ignore_index = True)\n",
    "        \n",
    "        break\n",
    "    else:\n",
    "        i, j = index, index + 1\n",
    "        tested = tested.append(\n",
    "            {\"Datum\": str(bihdata.iloc[index, 0]), \"Broj testiranih dnevno\": bihdata.iloc[i, 2] - bihdata.iloc[j, 2]},\n",
    "            ignore_index = True)        "
   ]
  },
  {
   "cell_type": "code",
   "execution_count": 9,
   "metadata": {},
   "outputs": [],
   "source": [
    "arrayNegative = pd.DataFrame(columns = [\"Datum\", \"Broj oporavljenih osoba\"])\n",
    "for index in range(0, len(bihdata[\"Broj oporavljenih osoba\"])):    \n",
    "    if index == len(bihdata[\"Broj testiranih\"]) - 2:\n",
    "        \n",
    "        i, j = index, len(bihdata[\"Broj testiranih\"]) - 1\n",
    "\n",
    "        arrayNegative = arrayNegative.append(\n",
    "            {\"Datum\": str(bihdata.iloc[index, 0]), \"Broj oporavljenih osoba\": bihdata.iloc[i, 4] - bihdata.iloc[j, 4]},\n",
    "            ignore_index = True)\n",
    "        \n",
    "        break\n",
    "    else:\n",
    "        i, j = index, index + 1\n",
    "        \n",
    "        arrayNegative = arrayNegative.append(\n",
    "            {\"Datum\": str(bihdata.iloc[index, 0]), \"Broj oporavljenih osoba\": bihdata.iloc[i, 4] - bihdata.iloc[j, 4]},\n",
    "            ignore_index = True)        "
   ]
  },
  {
   "cell_type": "code",
   "execution_count": 10,
   "metadata": {},
   "outputs": [],
   "source": [
    "died = pd.DataFrame(columns = [\"Datum\", \"Broj smrtnih slučajeva\"])\n",
    "for index in range(0, len(bihdata[\"Broj smrtnih slučajeva\"])):    \n",
    "    if index == len(bihdata[\"Broj smrtnih slučajeva\"]) - 1:\n",
    "        i, j = index, len(bihdata[\"Broj smrtnih slučajeva\"]) - 1\n",
    "        \n",
    "        died = died.append(\n",
    "            {\"Datum\": str(bihdata.iloc[index, 0]), \"Broj smrtnih slučajeva\": bihdata.iloc[i, 3] - bihdata.iloc[j, 3]},\n",
    "            ignore_index = True)\n",
    "        \n",
    "        break\n",
    "    else:\n",
    "        i, j = index, index + 1\n",
    "        died = died.append(\n",
    "            {\"Datum\": str(bihdata.iloc[index, 0]), \"Broj smrtnih slučajeva\": bihdata.iloc[i, 3] - bihdata.iloc[j, 3]},\n",
    "            ignore_index = True)"
   ]
  },
  {
   "cell_type": "code",
   "execution_count": 11,
   "metadata": {},
   "outputs": [],
   "source": [
    "rawData['date'] = rawData['date'].dt.strftime('%d.%m.%Y')"
   ]
  },
  {
   "cell_type": "code",
   "execution_count": 12,
   "metadata": {},
   "outputs": [],
   "source": [
    "fullDataFrame = pd.merge(left=rawData, left_on='date', how = 'left',\n",
    "         right=arrayNegative[['Broj oporavljenih osoba', 'Datum']], right_on='Datum').drop('Datum', axis = 1)"
   ]
  },
  {
   "cell_type": "code",
   "execution_count": 13,
   "metadata": {},
   "outputs": [],
   "source": [
    "fullDataFrame = pd.merge(left = fullDataFrame, left_on = 'date', how = 'left',\n",
    "                        right = tested[['Datum', 'Broj testiranih dnevno']], right_on = 'Datum').drop('Datum', axis = 1)"
   ]
  },
  {
   "cell_type": "code",
   "execution_count": 14,
   "metadata": {},
   "outputs": [],
   "source": [
    "fullDataFrame = pd.merge(left = fullDataFrame, left_on = 'date', how = 'left',\n",
    "                        right = died[['Datum', 'Broj smrtnih slučajeva']], right_on = 'Datum').drop('Datum', axis = 1)"
   ]
  },
  {
   "cell_type": "code",
   "execution_count": 16,
   "metadata": {},
   "outputs": [
    {
     "data": {
      "text/html": [
       "<div>\n",
       "<style scoped>\n",
       "    .dataframe tbody tr th:only-of-type {\n",
       "        vertical-align: middle;\n",
       "    }\n",
       "\n",
       "    .dataframe tbody tr th {\n",
       "        vertical-align: top;\n",
       "    }\n",
       "\n",
       "    .dataframe thead th {\n",
       "        text-align: right;\n",
       "    }\n",
       "</style>\n",
       "<table border=\"1\" class=\"dataframe\">\n",
       "  <thead>\n",
       "    <tr style=\"text-align: right;\">\n",
       "      <th></th>\n",
       "      <th>date</th>\n",
       "      <th>total_cases</th>\n",
       "      <th>new_cases</th>\n",
       "      <th>population</th>\n",
       "      <th>Broj oporavljenih osoba</th>\n",
       "      <th>Broj testiranih dnevno</th>\n",
       "      <th>Broj smrtnih slučajeva</th>\n",
       "    </tr>\n",
       "  </thead>\n",
       "  <tbody>\n",
       "    <tr>\n",
       "      <th>0</th>\n",
       "      <td>05.03.2020</td>\n",
       "      <td>2</td>\n",
       "      <td>2</td>\n",
       "      <td>3280815</td>\n",
       "      <td>NaN</td>\n",
       "      <td>NaN</td>\n",
       "      <td>NaN</td>\n",
       "    </tr>\n",
       "    <tr>\n",
       "      <th>1</th>\n",
       "      <td>06.03.2020</td>\n",
       "      <td>2</td>\n",
       "      <td>0</td>\n",
       "      <td>3280815</td>\n",
       "      <td>NaN</td>\n",
       "      <td>NaN</td>\n",
       "      <td>NaN</td>\n",
       "    </tr>\n",
       "    <tr>\n",
       "      <th>2</th>\n",
       "      <td>07.03.2020</td>\n",
       "      <td>3</td>\n",
       "      <td>1</td>\n",
       "      <td>3280815</td>\n",
       "      <td>NaN</td>\n",
       "      <td>NaN</td>\n",
       "      <td>NaN</td>\n",
       "    </tr>\n",
       "    <tr>\n",
       "      <th>3</th>\n",
       "      <td>08.03.2020</td>\n",
       "      <td>3</td>\n",
       "      <td>0</td>\n",
       "      <td>3280815</td>\n",
       "      <td>NaN</td>\n",
       "      <td>NaN</td>\n",
       "      <td>NaN</td>\n",
       "    </tr>\n",
       "    <tr>\n",
       "      <th>4</th>\n",
       "      <td>09.03.2020</td>\n",
       "      <td>3</td>\n",
       "      <td>0</td>\n",
       "      <td>3280815</td>\n",
       "      <td>NaN</td>\n",
       "      <td>NaN</td>\n",
       "      <td>NaN</td>\n",
       "    </tr>\n",
       "  </tbody>\n",
       "</table>\n",
       "</div>"
      ],
      "text/plain": [
       "         date  total_cases  new_cases  population Broj oporavljenih osoba  \\\n",
       "0  05.03.2020            2          2     3280815                     NaN   \n",
       "1  06.03.2020            2          0     3280815                     NaN   \n",
       "2  07.03.2020            3          1     3280815                     NaN   \n",
       "3  08.03.2020            3          0     3280815                     NaN   \n",
       "4  09.03.2020            3          0     3280815                     NaN   \n",
       "\n",
       "  Broj testiranih dnevno Broj smrtnih slučajeva  \n",
       "0                    NaN                    NaN  \n",
       "1                    NaN                    NaN  \n",
       "2                    NaN                    NaN  \n",
       "3                    NaN                    NaN  \n",
       "4                    NaN                    NaN  "
      ]
     },
     "execution_count": 16,
     "metadata": {},
     "output_type": "execute_result"
    }
   ],
   "source": [
    "fullDataFrame.head()"
   ]
  },
  {
   "cell_type": "code",
   "execution_count": 68,
   "metadata": {},
   "outputs": [],
   "source": [
    "recovered = [fullDataFrame.isnull().sum()[4], fullDataFrame[\"Broj oporavljenih osoba\"].count() - fullDataFrame.isnull().sum()[4]]\n",
    "names = [\"Missing Values\", \"Present Values\"]"
   ]
  },
  {
   "cell_type": "code",
   "execution_count": 76,
   "metadata": {},
   "outputs": [
    {
     "data": {
      "image/png": "[encoded data removed]",
      "text/plain": [
       "<Figure size 576x432 with 1 Axes>"
      ]
     },
     "metadata": {},
     "output_type": "display_data"
    }
   ],
   "source": [
    "plt.figure(figsize = (8,6))\n",
    "circle = plt.Circle((0,0), 0.7, color='white')\n",
    "plt.pie(recovered, autopct='%0.f%%', startangle=90, colors=[\"#FF800B\", \"#001024\"],\n",
    "        textprops={\n",
    "            \"fontsize\": 28,\n",
    "            \"fontweight\": \"bold\",\n",
    "            \"color\": \"#495159\"})\n",
    "p=plt.gcf()\n",
    "p.gca().add_artist(circle)\n",
    "\n",
    "plt.legend(names)\n",
    "\n",
    "plt.show()"
   ]
  },
  {
   "cell_type": "code",
   "execution_count": 33,
   "metadata": {},
   "outputs": [
    {
     "data": {
      "text/plain": [
       "231"
      ]
     },
     "execution_count": 33,
     "metadata": {},
     "output_type": "execute_result"
    }
   ],
   "source": [
    "fullDataFrame[\"Broj oporavljenih osoba\"].count()"
   ]
  },
  {
   "cell_type": "code",
   "execution_count": null,
   "metadata": {},
   "outputs": [],
   "source": []
  },
  {
   "cell_type": "code",
   "execution_count": null,
   "metadata": {},
   "outputs": [],
   "source": []
  },
  {
   "cell_type": "code",
   "execution_count": null,
   "metadata": {},
   "outputs": [],
   "source": []
  }
 ],
 "metadata": {
  "kernelspec": {
   "display_name": "Python 3",
   "language": "python",
   "name": "python3"
  },
  "language_info": {
   "codemirror_mode": {
    "name": "ipython",
    "version": 3
   },
   "file_extension": ".py",
   "mimetype": "text/x-python",
   "name": "python",
   "nbconvert_exporter": "python",
   "pygments_lexer": "ipython3",
   "version": "3.8.5"
  }
 },
 "nbformat": 4,
 "nbformat_minor": 4
}
