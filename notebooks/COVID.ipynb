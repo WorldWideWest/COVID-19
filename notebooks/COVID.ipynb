{
 "cells": [
  {
   "cell_type": "markdown",
   "metadata": {},
   "source": [
    "# Analysing the COVID-19 pandemic in Bosnia and Herzegovina"
   ]
  },
  {
   "cell_type": "markdown",
   "metadata": {},
   "source": [
    "The analysie will be preformed on a dataset gathered from the <a href=\"https://www.who.int/\">WHO</a> website. The first part of this analysis will be data cleaning, wich is the most important part of data analysis. You know how they say it if the data is not clean we get garbage in and garbage out.\n",
    "\n",
    "The next part will contain visualizations to get a more understanding picture of the situation so we can preform some statistical methods later. \n",
    "\n",
    "After we finished the data cleaning and visualization process will continue on data modeling so we can make predictions in the later part when we will actualy use our data to make predictions on how the situation will improve or not in the future.\n",
    "\n",
    "When all of this is set and done we will make the conclusion and suggest how things can be done in the future to improve the situation."
   ]
  },
  {
   "cell_type": "markdown",
   "metadata": {},
   "source": [
    "## Table of Contetn's\n",
    "\n",
    "* [Importing the nececery Libraries](#importing-the-nececery-libraries)\n",
    "* [Data import and exploration](#data-import-and-exploration)"
   ]
  },
  {
   "cell_type": "markdown",
   "metadata": {},
   "source": [
    "## Importing the nececery Libraries"
   ]
  },
  {
   "cell_type": "code",
   "execution_count": 1,
   "metadata": {},
   "outputs": [
    {
     "data": {
      "text/html": [
       "        <script type=\"text/javascript\">\n",
       "        window.PlotlyConfig = {MathJaxConfig: 'local'};\n",
       "        if (window.MathJax) {MathJax.Hub.Config({SVG: {font: \"STIX-Web\"}});}\n",
       "        if (typeof require !== 'undefined') {\n",
       "        require.undef(\"plotly\");\n",
       "        requirejs.config({\n",
       "            paths: {\n",
       "                'plotly': ['https://cdn.plot.ly/plotly-latest.min']\n",
       "            }\n",
       "        });\n",
       "        require(['plotly'], function(Plotly) {\n",
       "            window._Plotly = Plotly;\n",
       "        });\n",
       "        }\n",
       "        </script>\n",
       "        "
      ]
     },
     "metadata": {},
     "output_type": "display_data"
    },
    {
     "data": {
      "text/html": [
       "        <script type=\"text/javascript\">\n",
       "        window.PlotlyConfig = {MathJaxConfig: 'local'};\n",
       "        if (window.MathJax) {MathJax.Hub.Config({SVG: {font: \"STIX-Web\"}});}\n",
       "        if (typeof require !== 'undefined') {\n",
       "        require.undef(\"plotly\");\n",
       "        requirejs.config({\n",
       "            paths: {\n",
       "                'plotly': ['https://cdn.plot.ly/plotly-latest.min']\n",
       "            }\n",
       "        });\n",
       "        require(['plotly'], function(Plotly) {\n",
       "            window._Plotly = Plotly;\n",
       "        });\n",
       "        }\n",
       "        </script>\n",
       "        "
      ]
     },
     "metadata": {},
     "output_type": "display_data"
    }
   ],
   "source": [
    "import os\n",
    "import numpy as np\n",
    "import pandas as pd\n",
    "import matplotlib.pyplot as plt\n",
    "import seaborn as sns\n",
    "import datetime as dt\n",
    "import cufflinks as cf\n",
    "\n",
    "import chart_studio.plotly as py\n",
    "import plotly.express as px\n",
    "from plotly.offline import download_plotlyjs, init_notebook_mode, plot, iplot\n",
    "import plotly.graph_objects as go\n",
    "from plotly.subplots import make_subplots\n",
    "\n",
    "init_notebook_mode(connected = True)\n",
    "cf.go_offline()\n",
    "sns.set()"
   ]
  },
  {
   "cell_type": "markdown",
   "metadata": {},
   "source": [
    "## Data import and exploration"
   ]
  },
  {
   "cell_type": "code",
   "execution_count": 2,
   "metadata": {
    "scrolled": true
   },
   "outputs": [],
   "source": [
    "rawData = pd.read_excel(os.path.join(\"../dataSet/rawData/\", \"mbih.xlsx\"), engine='openpyxl')"
   ]
  },
  {
   "cell_type": "code",
   "execution_count": 3,
   "metadata": {
    "scrolled": false
   },
   "outputs": [
    {
     "data": {
      "text/html": [
       "<div>\n",
       "<style scoped>\n",
       "    .dataframe tbody tr th:only-of-type {\n",
       "        vertical-align: middle;\n",
       "    }\n",
       "\n",
       "    .dataframe tbody tr th {\n",
       "        vertical-align: top;\n",
       "    }\n",
       "\n",
       "    .dataframe thead th {\n",
       "        text-align: right;\n",
       "    }\n",
       "</style>\n",
       "<table border=\"1\" class=\"dataframe\">\n",
       "  <thead>\n",
       "    <tr style=\"text-align: right;\">\n",
       "      <th></th>\n",
       "      <th>date</th>\n",
       "      <th>total_cases</th>\n",
       "      <th>new_cases</th>\n",
       "      <th>population</th>\n",
       "    </tr>\n",
       "  </thead>\n",
       "  <tbody>\n",
       "    <tr>\n",
       "      <th>0</th>\n",
       "      <td>2020-03-05</td>\n",
       "      <td>2</td>\n",
       "      <td>2</td>\n",
       "      <td>3280815</td>\n",
       "    </tr>\n",
       "    <tr>\n",
       "      <th>1</th>\n",
       "      <td>2020-03-06</td>\n",
       "      <td>2</td>\n",
       "      <td>0</td>\n",
       "      <td>3280815</td>\n",
       "    </tr>\n",
       "    <tr>\n",
       "      <th>2</th>\n",
       "      <td>2020-03-07</td>\n",
       "      <td>3</td>\n",
       "      <td>1</td>\n",
       "      <td>3280815</td>\n",
       "    </tr>\n",
       "    <tr>\n",
       "      <th>3</th>\n",
       "      <td>2020-03-08</td>\n",
       "      <td>3</td>\n",
       "      <td>0</td>\n",
       "      <td>3280815</td>\n",
       "    </tr>\n",
       "    <tr>\n",
       "      <th>4</th>\n",
       "      <td>2020-03-09</td>\n",
       "      <td>3</td>\n",
       "      <td>0</td>\n",
       "      <td>3280815</td>\n",
       "    </tr>\n",
       "  </tbody>\n",
       "</table>\n",
       "</div>"
      ],
      "text/plain": [
       "         date  total_cases  new_cases  population\n",
       "0  2020-03-05            2          2     3280815\n",
       "1  2020-03-06            2          0     3280815\n",
       "2  2020-03-07            3          1     3280815\n",
       "3  2020-03-08            3          0     3280815\n",
       "4  2020-03-09            3          0     3280815"
      ]
     },
     "execution_count": 3,
     "metadata": {},
     "output_type": "execute_result"
    }
   ],
   "source": [
    "rawData.head()"
   ]
  },
  {
   "cell_type": "code",
   "execution_count": 4,
   "metadata": {
    "scrolled": true
   },
   "outputs": [
    {
     "name": "stdout",
     "output_type": "stream",
     "text": [
      "<class 'pandas.core.frame.DataFrame'>\n",
      "RangeIndex: 307 entries, 0 to 306\n",
      "Data columns (total 4 columns):\n",
      " #   Column       Non-Null Count  Dtype \n",
      "---  ------       --------------  ----- \n",
      " 0   date         307 non-null    object\n",
      " 1   total_cases  307 non-null    int64 \n",
      " 2   new_cases    307 non-null    int64 \n",
      " 3   population   307 non-null    int64 \n",
      "dtypes: int64(3), object(1)\n",
      "memory usage: 9.7+ KB\n"
     ]
    }
   ],
   "source": [
    "rawData.info() # checking the datatype of each column, the null valuse"
   ]
  },
  {
   "cell_type": "code",
   "execution_count": 5,
   "metadata": {
    "scrolled": true
   },
   "outputs": [
    {
     "data": {
      "text/html": [
       "<div>\n",
       "<style scoped>\n",
       "    .dataframe tbody tr th:only-of-type {\n",
       "        vertical-align: middle;\n",
       "    }\n",
       "\n",
       "    .dataframe tbody tr th {\n",
       "        vertical-align: top;\n",
       "    }\n",
       "\n",
       "    .dataframe thead th {\n",
       "        text-align: right;\n",
       "    }\n",
       "</style>\n",
       "<table border=\"1\" class=\"dataframe\">\n",
       "  <thead>\n",
       "    <tr style=\"text-align: right;\">\n",
       "      <th></th>\n",
       "      <th>total_cases</th>\n",
       "      <th>new_cases</th>\n",
       "      <th>population</th>\n",
       "    </tr>\n",
       "  </thead>\n",
       "  <tbody>\n",
       "    <tr>\n",
       "      <th>count</th>\n",
       "      <td>307.000000</td>\n",
       "      <td>307.000000</td>\n",
       "      <td>307.0</td>\n",
       "    </tr>\n",
       "    <tr>\n",
       "      <th>mean</th>\n",
       "      <td>28054.091205</td>\n",
       "      <td>369.355049</td>\n",
       "      <td>3280815.0</td>\n",
       "    </tr>\n",
       "    <tr>\n",
       "      <th>std</th>\n",
       "      <td>34794.455409</td>\n",
       "      <td>466.664525</td>\n",
       "      <td>0.0</td>\n",
       "    </tr>\n",
       "    <tr>\n",
       "      <th>min</th>\n",
       "      <td>2.000000</td>\n",
       "      <td>0.000000</td>\n",
       "      <td>3280815.0</td>\n",
       "    </tr>\n",
       "    <tr>\n",
       "      <th>25%</th>\n",
       "      <td>2344.000000</td>\n",
       "      <td>26.500000</td>\n",
       "      <td>3280815.0</td>\n",
       "    </tr>\n",
       "    <tr>\n",
       "      <th>50%</th>\n",
       "      <td>13138.000000</td>\n",
       "      <td>220.000000</td>\n",
       "      <td>3280815.0</td>\n",
       "    </tr>\n",
       "    <tr>\n",
       "      <th>75%</th>\n",
       "      <td>35852.000000</td>\n",
       "      <td>489.000000</td>\n",
       "      <td>3280815.0</td>\n",
       "    </tr>\n",
       "    <tr>\n",
       "      <th>max</th>\n",
       "      <td>113392.000000</td>\n",
       "      <td>1953.000000</td>\n",
       "      <td>3280815.0</td>\n",
       "    </tr>\n",
       "  </tbody>\n",
       "</table>\n",
       "</div>"
      ],
      "text/plain": [
       "         total_cases    new_cases  population\n",
       "count     307.000000   307.000000       307.0\n",
       "mean    28054.091205   369.355049   3280815.0\n",
       "std     34794.455409   466.664525         0.0\n",
       "min         2.000000     0.000000   3280815.0\n",
       "25%      2344.000000    26.500000   3280815.0\n",
       "50%     13138.000000   220.000000   3280815.0\n",
       "75%     35852.000000   489.000000   3280815.0\n",
       "max    113392.000000  1953.000000   3280815.0"
      ]
     },
     "execution_count": 5,
     "metadata": {},
     "output_type": "execute_result"
    }
   ],
   "source": [
    "rawData.describe() # fast overview of statistical methods for each column"
   ]
  },
  {
   "cell_type": "markdown",
   "metadata": {},
   "source": [
    "## Data preprocessing"
   ]
  },
  {
   "cell_type": "code",
   "execution_count": 6,
   "metadata": {},
   "outputs": [
    {
     "data": {
      "text/html": [
       "<div>\n",
       "<style scoped>\n",
       "    .dataframe tbody tr th:only-of-type {\n",
       "        vertical-align: middle;\n",
       "    }\n",
       "\n",
       "    .dataframe tbody tr th {\n",
       "        vertical-align: top;\n",
       "    }\n",
       "\n",
       "    .dataframe thead th {\n",
       "        text-align: right;\n",
       "    }\n",
       "</style>\n",
       "<table border=\"1\" class=\"dataframe\">\n",
       "  <thead>\n",
       "    <tr style=\"text-align: right;\">\n",
       "      <th></th>\n",
       "      <th>date</th>\n",
       "      <th>total_cases</th>\n",
       "      <th>new_cases</th>\n",
       "      <th>population</th>\n",
       "    </tr>\n",
       "  </thead>\n",
       "  <tbody>\n",
       "    <tr>\n",
       "      <th>0</th>\n",
       "      <td>2020-03-05</td>\n",
       "      <td>2</td>\n",
       "      <td>2</td>\n",
       "      <td>3280815</td>\n",
       "    </tr>\n",
       "    <tr>\n",
       "      <th>1</th>\n",
       "      <td>2020-03-06</td>\n",
       "      <td>2</td>\n",
       "      <td>0</td>\n",
       "      <td>3280815</td>\n",
       "    </tr>\n",
       "    <tr>\n",
       "      <th>2</th>\n",
       "      <td>2020-03-07</td>\n",
       "      <td>3</td>\n",
       "      <td>1</td>\n",
       "      <td>3280815</td>\n",
       "    </tr>\n",
       "    <tr>\n",
       "      <th>3</th>\n",
       "      <td>2020-03-08</td>\n",
       "      <td>3</td>\n",
       "      <td>0</td>\n",
       "      <td>3280815</td>\n",
       "    </tr>\n",
       "    <tr>\n",
       "      <th>4</th>\n",
       "      <td>2020-03-09</td>\n",
       "      <td>3</td>\n",
       "      <td>0</td>\n",
       "      <td>3280815</td>\n",
       "    </tr>\n",
       "  </tbody>\n",
       "</table>\n",
       "</div>"
      ],
      "text/plain": [
       "        date  total_cases  new_cases  population\n",
       "0 2020-03-05            2          2     3280815\n",
       "1 2020-03-06            2          0     3280815\n",
       "2 2020-03-07            3          1     3280815\n",
       "3 2020-03-08            3          0     3280815\n",
       "4 2020-03-09            3          0     3280815"
      ]
     },
     "execution_count": 6,
     "metadata": {},
     "output_type": "execute_result"
    }
   ],
   "source": [
    "rawData['date'] = rawData['date'].astype('datetime64')\n",
    "rawData.head()"
   ]
  },
  {
   "cell_type": "code",
   "execution_count": 7,
   "metadata": {
    "scrolled": true
   },
   "outputs": [
    {
     "data": {
      "text/html": [
       "<div>\n",
       "<style scoped>\n",
       "    .dataframe tbody tr th:only-of-type {\n",
       "        vertical-align: middle;\n",
       "    }\n",
       "\n",
       "    .dataframe tbody tr th {\n",
       "        vertical-align: top;\n",
       "    }\n",
       "\n",
       "    .dataframe thead th {\n",
       "        text-align: right;\n",
       "    }\n",
       "</style>\n",
       "<table border=\"1\" class=\"dataframe\">\n",
       "  <thead>\n",
       "    <tr style=\"text-align: right;\">\n",
       "      <th></th>\n",
       "      <th>Datum</th>\n",
       "      <th>Potvrđeni slučajevi</th>\n",
       "      <th>Broj testiranih</th>\n",
       "      <th>Broj smrtnih slučajeva</th>\n",
       "      <th>Broj oporavljenih osoba</th>\n",
       "      <th>Broj aktivnih slučajeva</th>\n",
       "      <th>Broj osoba pod nadzorom</th>\n",
       "    </tr>\n",
       "  </thead>\n",
       "  <tbody>\n",
       "    <tr>\n",
       "      <th>0</th>\n",
       "      <td>30.12.2020</td>\n",
       "      <td>110985</td>\n",
       "      <td>511940</td>\n",
       "      <td>4050</td>\n",
       "      <td>77225</td>\n",
       "      <td>29710</td>\n",
       "      <td>0</td>\n",
       "    </tr>\n",
       "    <tr>\n",
       "      <th>1</th>\n",
       "      <td>29.12.2020</td>\n",
       "      <td>110454</td>\n",
       "      <td>509067</td>\n",
       "      <td>4024</td>\n",
       "      <td>76802</td>\n",
       "      <td>29628</td>\n",
       "      <td>0</td>\n",
       "    </tr>\n",
       "    <tr>\n",
       "      <th>2</th>\n",
       "      <td>28.12.2020</td>\n",
       "      <td>109911</td>\n",
       "      <td>505681</td>\n",
       "      <td>3976</td>\n",
       "      <td>76121</td>\n",
       "      <td>29814</td>\n",
       "      <td>0</td>\n",
       "    </tr>\n",
       "    <tr>\n",
       "      <th>3</th>\n",
       "      <td>27.12.2020</td>\n",
       "      <td>109691</td>\n",
       "      <td>503906</td>\n",
       "      <td>3953</td>\n",
       "      <td>75717</td>\n",
       "      <td>30021</td>\n",
       "      <td>0</td>\n",
       "    </tr>\n",
       "    <tr>\n",
       "      <th>4</th>\n",
       "      <td>26.12.2020</td>\n",
       "      <td>109330</td>\n",
       "      <td>502063</td>\n",
       "      <td>3923</td>\n",
       "      <td>75124</td>\n",
       "      <td>30283</td>\n",
       "      <td>0</td>\n",
       "    </tr>\n",
       "  </tbody>\n",
       "</table>\n",
       "</div>"
      ],
      "text/plain": [
       "        Datum  Potvrđeni slučajevi  Broj testiranih  Broj smrtnih slučajeva  \\\n",
       "0  30.12.2020               110985           511940                    4050   \n",
       "1  29.12.2020               110454           509067                    4024   \n",
       "2  28.12.2020               109911           505681                    3976   \n",
       "3  27.12.2020               109691           503906                    3953   \n",
       "4  26.12.2020               109330           502063                    3923   \n",
       "\n",
       "   Broj oporavljenih osoba  Broj aktivnih slučajeva  Broj osoba pod nadzorom  \n",
       "0                    77225                    29710                        0  \n",
       "1                    76802                    29628                        0  \n",
       "2                    76121                    29814                        0  \n",
       "3                    75717                    30021                        0  \n",
       "4                    75124                    30283                        0  "
      ]
     },
     "execution_count": 7,
     "metadata": {},
     "output_type": "execute_result"
    }
   ],
   "source": [
    "bihdata = pd.read_excel(os.path.join(\"../dataSet/rawData/\", \"bih.xlsx\"), engine='openpyxl')\n",
    "bihdata.head()"
   ]
  },
  {
   "cell_type": "code",
   "execution_count": 8,
   "metadata": {},
   "outputs": [],
   "source": [
    "tested = pd.DataFrame(columns = [\"Datum\", \"Broj testiranih dnevno\"])\n",
    "for index in range(0, len(bihdata[\"Broj testiranih\"])):    \n",
    "    if index == len(bihdata[\"Broj testiranih\"]) - 2:\n",
    "        i, j = index, len(bihdata[\"Broj testiranih\"]) - 1\n",
    "        \n",
    "        tested = tested.append(\n",
    "            {\"Datum\": str(bihdata.iloc[index, 0]), \"Broj testiranih dnevno\": bihdata.iloc[i, 2] - bihdata.iloc[j, 2]},\n",
    "            ignore_index = True)\n",
    "        \n",
    "        break\n",
    "    else:\n",
    "        i, j = index, index + 1\n",
    "        tested = tested.append(\n",
    "            {\"Datum\": str(bihdata.iloc[index, 0]), \"Broj testiranih dnevno\": bihdata.iloc[i, 2] - bihdata.iloc[j, 2]},\n",
    "            ignore_index = True)        "
   ]
  },
  {
   "cell_type": "code",
   "execution_count": 9,
   "metadata": {},
   "outputs": [],
   "source": [
    "arrayNegative = pd.DataFrame(columns = [\"Datum\", \"Broj oporavljenih osoba\"])\n",
    "for index in range(0, len(bihdata[\"Broj oporavljenih osoba\"])):    \n",
    "    if index == len(bihdata[\"Broj testiranih\"]) - 2:\n",
    "        \n",
    "        i, j = index, len(bihdata[\"Broj testiranih\"]) - 1\n",
    "\n",
    "        arrayNegative = arrayNegative.append(\n",
    "            {\"Datum\": str(bihdata.iloc[index, 0]), \"Broj oporavljenih osoba\": bihdata.iloc[i, 4] - bihdata.iloc[j, 4]},\n",
    "            ignore_index = True)\n",
    "        \n",
    "        break\n",
    "    else:\n",
    "        i, j = index, index + 1\n",
    "        \n",
    "        arrayNegative = arrayNegative.append(\n",
    "            {\"Datum\": str(bihdata.iloc[index, 0]), \"Broj oporavljenih osoba\": bihdata.iloc[i, 4] - bihdata.iloc[j, 4]},\n",
    "            ignore_index = True)        "
   ]
  },
  {
   "cell_type": "code",
   "execution_count": 10,
   "metadata": {},
   "outputs": [],
   "source": [
    "died = pd.DataFrame(columns = [\"Datum\", \"Broj smrtnih slučajeva\"])\n",
    "for index in range(0, len(bihdata[\"Broj smrtnih slučajeva\"])):    \n",
    "    if index == len(bihdata[\"Broj smrtnih slučajeva\"]) - 1:\n",
    "        i, j = index, len(bihdata[\"Broj smrtnih slučajeva\"]) - 1\n",
    "        \n",
    "        died = died.append(\n",
    "            {\"Datum\": str(bihdata.iloc[index, 0]), \"Broj smrtnih slučajeva\": bihdata.iloc[i, 3] - bihdata.iloc[j, 3]},\n",
    "            ignore_index = True)\n",
    "        \n",
    "        break\n",
    "    else:\n",
    "        i, j = index, index + 1\n",
    "        died = died.append(\n",
    "            {\"Datum\": str(bihdata.iloc[index, 0]), \"Broj smrtnih slučajeva\": bihdata.iloc[i, 3] - bihdata.iloc[j, 3]},\n",
    "            ignore_index = True)"
   ]
  },
  {
   "cell_type": "code",
   "execution_count": 11,
   "metadata": {},
   "outputs": [],
   "source": [
    "rawData['date'] = rawData['date'].dt.strftime('%d.%m.%Y')"
   ]
  },
  {
   "cell_type": "code",
   "execution_count": 12,
   "metadata": {},
   "outputs": [],
   "source": [
    "fullDataFrame = pd.merge(left=rawData, left_on='date', how = 'left',\n",
    "         right=arrayNegative[['Broj oporavljenih osoba', 'Datum']], right_on='Datum').drop('Datum', axis = 1)"
   ]
  },
  {
   "cell_type": "code",
   "execution_count": 13,
   "metadata": {},
   "outputs": [],
   "source": [
    "fullDataFrame = pd.merge(left = fullDataFrame, left_on = 'date', how = 'left',\n",
    "                        right = tested[['Datum', 'Broj testiranih dnevno']], right_on = 'Datum').drop('Datum', axis = 1)"
   ]
  },
  {
   "cell_type": "code",
   "execution_count": 14,
   "metadata": {},
   "outputs": [],
   "source": [
    "fullDataFrame = pd.merge(left = fullDataFrame, left_on = 'date', how = 'left',\n",
    "                        right = died[['Datum', 'Broj smrtnih slučajeva']], right_on = 'Datum').drop('Datum', axis = 1)"
   ]
  },
  {
   "cell_type": "code",
   "execution_count": 15,
   "metadata": {
    "scrolled": true
   },
   "outputs": [
    {
     "data": {
      "text/html": [
       "<div>\n",
       "<style scoped>\n",
       "    .dataframe tbody tr th:only-of-type {\n",
       "        vertical-align: middle;\n",
       "    }\n",
       "\n",
       "    .dataframe tbody tr th {\n",
       "        vertical-align: top;\n",
       "    }\n",
       "\n",
       "    .dataframe thead th {\n",
       "        text-align: right;\n",
       "    }\n",
       "</style>\n",
       "<table border=\"1\" class=\"dataframe\">\n",
       "  <thead>\n",
       "    <tr style=\"text-align: right;\">\n",
       "      <th></th>\n",
       "      <th>date</th>\n",
       "      <th>total_cases</th>\n",
       "      <th>new_cases</th>\n",
       "      <th>population</th>\n",
       "      <th>Broj oporavljenih osoba</th>\n",
       "      <th>Broj testiranih dnevno</th>\n",
       "      <th>Broj smrtnih slučajeva</th>\n",
       "    </tr>\n",
       "  </thead>\n",
       "  <tbody>\n",
       "    <tr>\n",
       "      <th>0</th>\n",
       "      <td>05.03.2020</td>\n",
       "      <td>2</td>\n",
       "      <td>2</td>\n",
       "      <td>3280815</td>\n",
       "      <td>NaN</td>\n",
       "      <td>NaN</td>\n",
       "      <td>NaN</td>\n",
       "    </tr>\n",
       "    <tr>\n",
       "      <th>1</th>\n",
       "      <td>06.03.2020</td>\n",
       "      <td>2</td>\n",
       "      <td>0</td>\n",
       "      <td>3280815</td>\n",
       "      <td>NaN</td>\n",
       "      <td>NaN</td>\n",
       "      <td>NaN</td>\n",
       "    </tr>\n",
       "    <tr>\n",
       "      <th>2</th>\n",
       "      <td>07.03.2020</td>\n",
       "      <td>3</td>\n",
       "      <td>1</td>\n",
       "      <td>3280815</td>\n",
       "      <td>NaN</td>\n",
       "      <td>NaN</td>\n",
       "      <td>NaN</td>\n",
       "    </tr>\n",
       "    <tr>\n",
       "      <th>3</th>\n",
       "      <td>08.03.2020</td>\n",
       "      <td>3</td>\n",
       "      <td>0</td>\n",
       "      <td>3280815</td>\n",
       "      <td>NaN</td>\n",
       "      <td>NaN</td>\n",
       "      <td>NaN</td>\n",
       "    </tr>\n",
       "    <tr>\n",
       "      <th>4</th>\n",
       "      <td>09.03.2020</td>\n",
       "      <td>3</td>\n",
       "      <td>0</td>\n",
       "      <td>3280815</td>\n",
       "      <td>NaN</td>\n",
       "      <td>NaN</td>\n",
       "      <td>NaN</td>\n",
       "    </tr>\n",
       "  </tbody>\n",
       "</table>\n",
       "</div>"
      ],
      "text/plain": [
       "         date  total_cases  new_cases  population Broj oporavljenih osoba  \\\n",
       "0  05.03.2020            2          2     3280815                     NaN   \n",
       "1  06.03.2020            2          0     3280815                     NaN   \n",
       "2  07.03.2020            3          1     3280815                     NaN   \n",
       "3  08.03.2020            3          0     3280815                     NaN   \n",
       "4  09.03.2020            3          0     3280815                     NaN   \n",
       "\n",
       "  Broj testiranih dnevno Broj smrtnih slučajeva  \n",
       "0                    NaN                    NaN  \n",
       "1                    NaN                    NaN  \n",
       "2                    NaN                    NaN  \n",
       "3                    NaN                    NaN  \n",
       "4                    NaN                    NaN  "
      ]
     },
     "execution_count": 15,
     "metadata": {},
     "output_type": "execute_result"
    }
   ],
   "source": [
    "fullDataFrame.head()"
   ]
  },
  {
   "cell_type": "code",
   "execution_count": 273,
   "metadata": {},
   "outputs": [],
   "source": [
    "missingData = pd.read_excel(os.path.join(\"../dataSet/cleanData\", \"missingDataValues.xlsx\"), engine = \"openpyxl\")"
   ]
  },
  {
   "cell_type": "code",
   "execution_count": 22,
   "metadata": {
    "scrolled": true
   },
   "outputs": [],
   "source": [
    "fullDataFrame = pd.read_excel(os.path.join(\"../dataSet/cleanData\", \"missingData.xlsx\"), engine = \"openpyxl\")"
   ]
  },
  {
   "cell_type": "code",
   "execution_count": 29,
   "metadata": {},
   "outputs": [
    {
     "data": {
      "text/html": [
       "<div>\n",
       "<style scoped>\n",
       "    .dataframe tbody tr th:only-of-type {\n",
       "        vertical-align: middle;\n",
       "    }\n",
       "\n",
       "    .dataframe tbody tr th {\n",
       "        vertical-align: top;\n",
       "    }\n",
       "\n",
       "    .dataframe thead th {\n",
       "        text-align: right;\n",
       "    }\n",
       "</style>\n",
       "<table border=\"1\" class=\"dataframe\">\n",
       "  <thead>\n",
       "    <tr style=\"text-align: right;\">\n",
       "      <th></th>\n",
       "      <th>date</th>\n",
       "      <th>total_cases</th>\n",
       "      <th>new_cases</th>\n",
       "      <th>population</th>\n",
       "      <th>Broj oporavljenih osoba</th>\n",
       "      <th>Broj testiranih dnevno</th>\n",
       "      <th>Broj smrtnih slučajeva</th>\n",
       "    </tr>\n",
       "  </thead>\n",
       "  <tbody>\n",
       "    <tr>\n",
       "      <th>0</th>\n",
       "      <td>05.03.2020</td>\n",
       "      <td>2</td>\n",
       "      <td>2</td>\n",
       "      <td>3280815</td>\n",
       "      <td>NaN</td>\n",
       "      <td>NaN</td>\n",
       "      <td>NaN</td>\n",
       "    </tr>\n",
       "    <tr>\n",
       "      <th>1</th>\n",
       "      <td>06.03.2020</td>\n",
       "      <td>2</td>\n",
       "      <td>0</td>\n",
       "      <td>3280815</td>\n",
       "      <td>NaN</td>\n",
       "      <td>NaN</td>\n",
       "      <td>NaN</td>\n",
       "    </tr>\n",
       "    <tr>\n",
       "      <th>2</th>\n",
       "      <td>07.03.2020</td>\n",
       "      <td>3</td>\n",
       "      <td>1</td>\n",
       "      <td>3280815</td>\n",
       "      <td>NaN</td>\n",
       "      <td>NaN</td>\n",
       "      <td>NaN</td>\n",
       "    </tr>\n",
       "    <tr>\n",
       "      <th>3</th>\n",
       "      <td>08.03.2020</td>\n",
       "      <td>3</td>\n",
       "      <td>0</td>\n",
       "      <td>3280815</td>\n",
       "      <td>NaN</td>\n",
       "      <td>NaN</td>\n",
       "      <td>NaN</td>\n",
       "    </tr>\n",
       "    <tr>\n",
       "      <th>4</th>\n",
       "      <td>09.03.2020</td>\n",
       "      <td>3</td>\n",
       "      <td>0</td>\n",
       "      <td>3280815</td>\n",
       "      <td>NaN</td>\n",
       "      <td>NaN</td>\n",
       "      <td>NaN</td>\n",
       "    </tr>\n",
       "    <tr>\n",
       "      <th>...</th>\n",
       "      <td>...</td>\n",
       "      <td>...</td>\n",
       "      <td>...</td>\n",
       "      <td>...</td>\n",
       "      <td>...</td>\n",
       "      <td>...</td>\n",
       "      <td>...</td>\n",
       "    </tr>\n",
       "    <tr>\n",
       "      <th>302</th>\n",
       "      <td>01.01.2021</td>\n",
       "      <td>112143</td>\n",
       "      <td>1158</td>\n",
       "      <td>3280815</td>\n",
       "      <td>NaN</td>\n",
       "      <td>NaN</td>\n",
       "      <td>NaN</td>\n",
       "    </tr>\n",
       "    <tr>\n",
       "      <th>303</th>\n",
       "      <td>02.01.2021</td>\n",
       "      <td>112143</td>\n",
       "      <td>0</td>\n",
       "      <td>3280815</td>\n",
       "      <td>NaN</td>\n",
       "      <td>NaN</td>\n",
       "      <td>NaN</td>\n",
       "    </tr>\n",
       "    <tr>\n",
       "      <th>304</th>\n",
       "      <td>03.01.2021</td>\n",
       "      <td>112645</td>\n",
       "      <td>502</td>\n",
       "      <td>3280815</td>\n",
       "      <td>NaN</td>\n",
       "      <td>NaN</td>\n",
       "      <td>NaN</td>\n",
       "    </tr>\n",
       "    <tr>\n",
       "      <th>305</th>\n",
       "      <td>04.01.2021</td>\n",
       "      <td>112645</td>\n",
       "      <td>0</td>\n",
       "      <td>3280815</td>\n",
       "      <td>NaN</td>\n",
       "      <td>NaN</td>\n",
       "      <td>NaN</td>\n",
       "    </tr>\n",
       "    <tr>\n",
       "      <th>306</th>\n",
       "      <td>05.01.2021</td>\n",
       "      <td>113392</td>\n",
       "      <td>747</td>\n",
       "      <td>3280815</td>\n",
       "      <td>NaN</td>\n",
       "      <td>NaN</td>\n",
       "      <td>NaN</td>\n",
       "    </tr>\n",
       "  </tbody>\n",
       "</table>\n",
       "<p>307 rows × 7 columns</p>\n",
       "</div>"
      ],
      "text/plain": [
       "           date  total_cases  new_cases  population  Broj oporavljenih osoba  \\\n",
       "0    05.03.2020            2          2     3280815                      NaN   \n",
       "1    06.03.2020            2          0     3280815                      NaN   \n",
       "2    07.03.2020            3          1     3280815                      NaN   \n",
       "3    08.03.2020            3          0     3280815                      NaN   \n",
       "4    09.03.2020            3          0     3280815                      NaN   \n",
       "..          ...          ...        ...         ...                      ...   \n",
       "302  01.01.2021       112143       1158     3280815                      NaN   \n",
       "303  02.01.2021       112143          0     3280815                      NaN   \n",
       "304  03.01.2021       112645        502     3280815                      NaN   \n",
       "305  04.01.2021       112645          0     3280815                      NaN   \n",
       "306  05.01.2021       113392        747     3280815                      NaN   \n",
       "\n",
       "     Broj testiranih dnevno  Broj smrtnih slučajeva  \n",
       "0                       NaN                     NaN  \n",
       "1                       NaN                     NaN  \n",
       "2                       NaN                     NaN  \n",
       "3                       NaN                     NaN  \n",
       "4                       NaN                     NaN  \n",
       "..                      ...                     ...  \n",
       "302                     NaN                     NaN  \n",
       "303                     NaN                     NaN  \n",
       "304                     NaN                     NaN  \n",
       "305                     NaN                     NaN  \n",
       "306                     NaN                     NaN  \n",
       "\n",
       "[307 rows x 7 columns]"
      ]
     },
     "execution_count": 29,
     "metadata": {},
     "output_type": "execute_result"
    }
   ],
   "source": [
    " fullDataFrame"
   ]
  },
  {
   "cell_type": "code",
   "execution_count": 30,
   "metadata": {},
   "outputs": [
    {
     "data": {
      "application/vnd.plotly.v1+json": {
       "config": {
        "plotlyServerURL": "https://plot.ly"
       },
       "data": [
        {
         "marker": {
          "color": "#001024"
         },
         "name": "Available Data",
         "type": "bar",
         "x": [
          "date",
          "total_cases",
          "new_cases",
          "population",
          "Broj oporavljenih osoba",
          "Broj testiranih dnevno",
          "Broj smrtnih slučajeva"
         ],
         "y": [
          307,
          307,
          307,
          307,
          231,
          231,
          232
         ]
        },
        {
         "marker": {
          "color": "#FF800B"
         },
         "name": "Missing Data",
         "type": "bar",
         "x": [
          "date",
          "total_cases",
          "new_cases",
          "population",
          "Broj oporavljenih osoba",
          "Broj testiranih dnevno",
          "Broj smrtnih slučajeva"
         ],
         "y": [
          0,
          0,
          0,
          0,
          76,
          76,
          75
         ]
        }
       ],
       "layout": {
        "barmode": "group",
        "hovermode": "x unified",
        "template": {
         "data": {
          "bar": [
           {
            "error_x": {
             "color": "#2a3f5f"
            },
            "error_y": {
             "color": "#2a3f5f"
            },
            "marker": {
             "line": {
              "color": "#E5ECF6",
              "width": 0.5
             }
            },
            "type": "bar"
           }
          ],
          "barpolar": [
           {
            "marker": {
             "line": {
              "color": "#E5ECF6",
              "width": 0.5
             }
            },
            "type": "barpolar"
           }
          ],
          "carpet": [
           {
            "aaxis": {
             "endlinecolor": "#2a3f5f",
             "gridcolor": "white",
             "linecolor": "white",
             "minorgridcolor": "white",
             "startlinecolor": "#2a3f5f"
            },
            "baxis": {
             "endlinecolor": "#2a3f5f",
             "gridcolor": "white",
             "linecolor": "white",
             "minorgridcolor": "white",
             "startlinecolor": "#2a3f5f"
            },
            "type": "carpet"
           }
          ],
          "choropleth": [
           {
            "colorbar": {
             "outlinewidth": 0,
             "ticks": ""
            },
            "type": "choropleth"
           }
          ],
          "contour": [
           {
            "colorbar": {
             "outlinewidth": 0,
             "ticks": ""
            },
            "colorscale": [
             [
              0,
              "#0d0887"
             ],
             [
              0.1111111111111111,
              "#46039f"
             ],
             [
              0.2222222222222222,
              "#7201a8"
             ],
             [
              0.3333333333333333,
              "#9c179e"
             ],
             [
              0.4444444444444444,
              "#bd3786"
             ],
             [
              0.5555555555555556,
              "#d8576b"
             ],
             [
              0.6666666666666666,
              "#ed7953"
             ],
             [
              0.7777777777777778,
              "#fb9f3a"
             ],
             [
              0.8888888888888888,
              "#fdca26"
             ],
             [
              1,
              "#f0f921"
             ]
            ],
            "type": "contour"
           }
          ],
          "contourcarpet": [
           {
            "colorbar": {
             "outlinewidth": 0,
             "ticks": ""
            },
            "type": "contourcarpet"
           }
          ],
          "heatmap": [
           {
            "colorbar": {
             "outlinewidth": 0,
             "ticks": ""
            },
            "colorscale": [
             [
              0,
              "#0d0887"
             ],
             [
              0.1111111111111111,
              "#46039f"
             ],
             [
              0.2222222222222222,
              "#7201a8"
             ],
             [
              0.3333333333333333,
              "#9c179e"
             ],
             [
              0.4444444444444444,
              "#bd3786"
             ],
             [
              0.5555555555555556,
              "#d8576b"
             ],
             [
              0.6666666666666666,
              "#ed7953"
             ],
             [
              0.7777777777777778,
              "#fb9f3a"
             ],
             [
              0.8888888888888888,
              "#fdca26"
             ],
             [
              1,
              "#f0f921"
             ]
            ],
            "type": "heatmap"
           }
          ],
          "heatmapgl": [
           {
            "colorbar": {
             "outlinewidth": 0,
             "ticks": ""
            },
            "colorscale": [
             [
              0,
              "#0d0887"
             ],
             [
              0.1111111111111111,
              "#46039f"
             ],
             [
              0.2222222222222222,
              "#7201a8"
             ],
             [
              0.3333333333333333,
              "#9c179e"
             ],
             [
              0.4444444444444444,
              "#bd3786"
             ],
             [
              0.5555555555555556,
              "#d8576b"
             ],
             [
              0.6666666666666666,
              "#ed7953"
             ],
             [
              0.7777777777777778,
              "#fb9f3a"
             ],
             [
              0.8888888888888888,
              "#fdca26"
             ],
             [
              1,
              "#f0f921"
             ]
            ],
            "type": "heatmapgl"
           }
          ],
          "histogram": [
           {
            "marker": {
             "colorbar": {
              "outlinewidth": 0,
              "ticks": ""
             }
            },
            "type": "histogram"
           }
          ],
          "histogram2d": [
           {
            "colorbar": {
             "outlinewidth": 0,
             "ticks": ""
            },
            "colorscale": [
             [
              0,
              "#0d0887"
             ],
             [
              0.1111111111111111,
              "#46039f"
             ],
             [
              0.2222222222222222,
              "#7201a8"
             ],
             [
              0.3333333333333333,
              "#9c179e"
             ],
             [
              0.4444444444444444,
              "#bd3786"
             ],
             [
              0.5555555555555556,
              "#d8576b"
             ],
             [
              0.6666666666666666,
              "#ed7953"
             ],
             [
              0.7777777777777778,
              "#fb9f3a"
             ],
             [
              0.8888888888888888,
              "#fdca26"
             ],
             [
              1,
              "#f0f921"
             ]
            ],
            "type": "histogram2d"
           }
          ],
          "histogram2dcontour": [
           {
            "colorbar": {
             "outlinewidth": 0,
             "ticks": ""
            },
            "colorscale": [
             [
              0,
              "#0d0887"
             ],
             [
              0.1111111111111111,
              "#46039f"
             ],
             [
              0.2222222222222222,
              "#7201a8"
             ],
             [
              0.3333333333333333,
              "#9c179e"
             ],
             [
              0.4444444444444444,
              "#bd3786"
             ],
             [
              0.5555555555555556,
              "#d8576b"
             ],
             [
              0.6666666666666666,
              "#ed7953"
             ],
             [
              0.7777777777777778,
              "#fb9f3a"
             ],
             [
              0.8888888888888888,
              "#fdca26"
             ],
             [
              1,
              "#f0f921"
             ]
            ],
            "type": "histogram2dcontour"
           }
          ],
          "mesh3d": [
           {
            "colorbar": {
             "outlinewidth": 0,
             "ticks": ""
            },
            "type": "mesh3d"
           }
          ],
          "parcoords": [
           {
            "line": {
             "colorbar": {
              "outlinewidth": 0,
              "ticks": ""
             }
            },
            "type": "parcoords"
           }
          ],
          "pie": [
           {
            "automargin": true,
            "type": "pie"
           }
          ],
          "scatter": [
           {
            "marker": {
             "colorbar": {
              "outlinewidth": 0,
              "ticks": ""
             }
            },
            "type": "scatter"
           }
          ],
          "scatter3d": [
           {
            "line": {
             "colorbar": {
              "outlinewidth": 0,
              "ticks": ""
             }
            },
            "marker": {
             "colorbar": {
              "outlinewidth": 0,
              "ticks": ""
             }
            },
            "type": "scatter3d"
           }
          ],
          "scattercarpet": [
           {
            "marker": {
             "colorbar": {
              "outlinewidth": 0,
              "ticks": ""
             }
            },
            "type": "scattercarpet"
           }
          ],
          "scattergeo": [
           {
            "marker": {
             "colorbar": {
              "outlinewidth": 0,
              "ticks": ""
             }
            },
            "type": "scattergeo"
           }
          ],
          "scattergl": [
           {
            "marker": {
             "colorbar": {
              "outlinewidth": 0,
              "ticks": ""
             }
            },
            "type": "scattergl"
           }
          ],
          "scattermapbox": [
           {
            "marker": {
             "colorbar": {
              "outlinewidth": 0,
              "ticks": ""
             }
            },
            "type": "scattermapbox"
           }
          ],
          "scatterpolar": [
           {
            "marker": {
             "colorbar": {
              "outlinewidth": 0,
              "ticks": ""
             }
            },
            "type": "scatterpolar"
           }
          ],
          "scatterpolargl": [
           {
            "marker": {
             "colorbar": {
              "outlinewidth": 0,
              "ticks": ""
             }
            },
            "type": "scatterpolargl"
           }
          ],
          "scatterternary": [
           {
            "marker": {
             "colorbar": {
              "outlinewidth": 0,
              "ticks": ""
             }
            },
            "type": "scatterternary"
           }
          ],
          "surface": [
           {
            "colorbar": {
             "outlinewidth": 0,
             "ticks": ""
            },
            "colorscale": [
             [
              0,
              "#0d0887"
             ],
             [
              0.1111111111111111,
              "#46039f"
             ],
             [
              0.2222222222222222,
              "#7201a8"
             ],
             [
              0.3333333333333333,
              "#9c179e"
             ],
             [
              0.4444444444444444,
              "#bd3786"
             ],
             [
              0.5555555555555556,
              "#d8576b"
             ],
             [
              0.6666666666666666,
              "#ed7953"
             ],
             [
              0.7777777777777778,
              "#fb9f3a"
             ],
             [
              0.8888888888888888,
              "#fdca26"
             ],
             [
              1,
              "#f0f921"
             ]
            ],
            "type": "surface"
           }
          ],
          "table": [
           {
            "cells": {
             "fill": {
              "color": "#EBF0F8"
             },
             "line": {
              "color": "white"
             }
            },
            "header": {
             "fill": {
              "color": "#C8D4E3"
             },
             "line": {
              "color": "white"
             }
            },
            "type": "table"
           }
          ]
         },
         "layout": {
          "annotationdefaults": {
           "arrowcolor": "#2a3f5f",
           "arrowhead": 0,
           "arrowwidth": 1
          },
          "autotypenumbers": "strict",
          "coloraxis": {
           "colorbar": {
            "outlinewidth": 0,
            "ticks": ""
           }
          },
          "colorscale": {
           "diverging": [
            [
             0,
             "#8e0152"
            ],
            [
             0.1,
             "#c51b7d"
            ],
            [
             0.2,
             "#de77ae"
            ],
            [
             0.3,
             "#f1b6da"
            ],
            [
             0.4,
             "#fde0ef"
            ],
            [
             0.5,
             "#f7f7f7"
            ],
            [
             0.6,
             "#e6f5d0"
            ],
            [
             0.7,
             "#b8e186"
            ],
            [
             0.8,
             "#7fbc41"
            ],
            [
             0.9,
             "#4d9221"
            ],
            [
             1,
             "#276419"
            ]
           ],
           "sequential": [
            [
             0,
             "#0d0887"
            ],
            [
             0.1111111111111111,
             "#46039f"
            ],
            [
             0.2222222222222222,
             "#7201a8"
            ],
            [
             0.3333333333333333,
             "#9c179e"
            ],
            [
             0.4444444444444444,
             "#bd3786"
            ],
            [
             0.5555555555555556,
             "#d8576b"
            ],
            [
             0.6666666666666666,
             "#ed7953"
            ],
            [
             0.7777777777777778,
             "#fb9f3a"
            ],
            [
             0.8888888888888888,
             "#fdca26"
            ],
            [
             1,
             "#f0f921"
            ]
           ],
           "sequentialminus": [
            [
             0,
             "#0d0887"
            ],
            [
             0.1111111111111111,
             "#46039f"
            ],
            [
             0.2222222222222222,
             "#7201a8"
            ],
            [
             0.3333333333333333,
             "#9c179e"
            ],
            [
             0.4444444444444444,
             "#bd3786"
            ],
            [
             0.5555555555555556,
             "#d8576b"
            ],
            [
             0.6666666666666666,
             "#ed7953"
            ],
            [
             0.7777777777777778,
             "#fb9f3a"
            ],
            [
             0.8888888888888888,
             "#fdca26"
            ],
            [
             1,
             "#f0f921"
            ]
           ]
          },
          "colorway": [
           "#636efa",
           "#EF553B",
           "#00cc96",
           "#ab63fa",
           "#FFA15A",
           "#19d3f3",
           "#FF6692",
           "#B6E880",
           "#FF97FF",
           "#FECB52"
          ],
          "font": {
           "color": "#2a3f5f"
          },
          "geo": {
           "bgcolor": "white",
           "lakecolor": "white",
           "landcolor": "#E5ECF6",
           "showlakes": true,
           "showland": true,
           "subunitcolor": "white"
          },
          "hoverlabel": {
           "align": "left"
          },
          "hovermode": "closest",
          "mapbox": {
           "style": "light"
          },
          "paper_bgcolor": "white",
          "plot_bgcolor": "#E5ECF6",
          "polar": {
           "angularaxis": {
            "gridcolor": "white",
            "linecolor": "white",
            "ticks": ""
           },
           "bgcolor": "#E5ECF6",
           "radialaxis": {
            "gridcolor": "white",
            "linecolor": "white",
            "ticks": ""
           }
          },
          "scene": {
           "xaxis": {
            "backgroundcolor": "#E5ECF6",
            "gridcolor": "white",
            "gridwidth": 2,
            "linecolor": "white",
            "showbackground": true,
            "ticks": "",
            "zerolinecolor": "white"
           },
           "yaxis": {
            "backgroundcolor": "#E5ECF6",
            "gridcolor": "white",
            "gridwidth": 2,
            "linecolor": "white",
            "showbackground": true,
            "ticks": "",
            "zerolinecolor": "white"
           },
           "zaxis": {
            "backgroundcolor": "#E5ECF6",
            "gridcolor": "white",
            "gridwidth": 2,
            "linecolor": "white",
            "showbackground": true,
            "ticks": "",
            "zerolinecolor": "white"
           }
          },
          "shapedefaults": {
           "line": {
            "color": "#2a3f5f"
           }
          },
          "ternary": {
           "aaxis": {
            "gridcolor": "white",
            "linecolor": "white",
            "ticks": ""
           },
           "baxis": {
            "gridcolor": "white",
            "linecolor": "white",
            "ticks": ""
           },
           "bgcolor": "#E5ECF6",
           "caxis": {
            "gridcolor": "white",
            "linecolor": "white",
            "ticks": ""
           }
          },
          "title": {
           "x": 0.05
          },
          "xaxis": {
           "automargin": true,
           "gridcolor": "white",
           "linecolor": "white",
           "ticks": "",
           "title": {
            "standoff": 15
           },
           "zerolinecolor": "white",
           "zerolinewidth": 2
          },
          "yaxis": {
           "automargin": true,
           "gridcolor": "white",
           "linecolor": "white",
           "ticks": "",
           "title": {
            "standoff": 15
           },
           "zerolinecolor": "white",
           "zerolinewidth": 2
          }
         }
        },
        "title": {
         "text": "Missing Data for each Column of the Data Set"
        },
        "xaxis": {
         "tickangle": -45
        }
       }
      },
      "text/html": [
       "<div>                            <div id=\"19e0ba97-8b62-4dd8-bc61-afe875fbe230\" class=\"plotly-graph-div\" style=\"height:525px; width:100%;\"></div>            <script type=\"text/javascript\">                require([\"plotly\"], function(Plotly) {                    window.PLOTLYENV=window.PLOTLYENV || {};                                    if (document.getElementById(\"19e0ba97-8b62-4dd8-bc61-afe875fbe230\")) {                    Plotly.newPlot(                        \"19e0ba97-8b62-4dd8-bc61-afe875fbe230\",                        [{\"marker\": {\"color\": \"#001024\"}, \"name\": \"Available Data\", \"type\": \"bar\", \"x\": [\"date\", \"total_cases\", \"new_cases\", \"population\", \"Broj oporavljenih osoba\", \"Broj testiranih dnevno\", \"Broj smrtnih slu\\u010dajeva\"], \"y\": [307, 307, 307, 307, 231, 231, 232]}, {\"marker\": {\"color\": \"#FF800B\"}, \"name\": \"Missing Data\", \"type\": \"bar\", \"x\": [\"date\", \"total_cases\", \"new_cases\", \"population\", \"Broj oporavljenih osoba\", \"Broj testiranih dnevno\", \"Broj smrtnih slu\\u010dajeva\"], \"y\": [0, 0, 0, 0, 76, 76, 75]}],                        {\"barmode\": \"group\", \"hovermode\": \"x unified\", \"template\": {\"data\": {\"bar\": [{\"error_x\": {\"color\": \"#2a3f5f\"}, \"error_y\": {\"color\": \"#2a3f5f\"}, \"marker\": {\"line\": {\"color\": \"#E5ECF6\", \"width\": 0.5}}, \"type\": \"bar\"}], \"barpolar\": [{\"marker\": {\"line\": {\"color\": \"#E5ECF6\", \"width\": 0.5}}, \"type\": \"barpolar\"}], \"carpet\": [{\"aaxis\": {\"endlinecolor\": \"#2a3f5f\", \"gridcolor\": \"white\", \"linecolor\": \"white\", \"minorgridcolor\": \"white\", \"startlinecolor\": \"#2a3f5f\"}, \"baxis\": {\"endlinecolor\": \"#2a3f5f\", \"gridcolor\": \"white\", \"linecolor\": \"white\", \"minorgridcolor\": \"white\", \"startlinecolor\": \"#2a3f5f\"}, \"type\": \"carpet\"}], \"choropleth\": [{\"colorbar\": {\"outlinewidth\": 0, \"ticks\": \"\"}, \"type\": \"choropleth\"}], \"contour\": [{\"colorbar\": {\"outlinewidth\": 0, \"ticks\": \"\"}, \"colorscale\": [[0.0, \"#0d0887\"], [0.1111111111111111, \"#46039f\"], [0.2222222222222222, \"#7201a8\"], [0.3333333333333333, \"#9c179e\"], [0.4444444444444444, \"#bd3786\"], [0.5555555555555556, \"#d8576b\"], [0.6666666666666666, \"#ed7953\"], [0.7777777777777778, \"#fb9f3a\"], [0.8888888888888888, \"#fdca26\"], [1.0, \"#f0f921\"]], \"type\": \"contour\"}], \"contourcarpet\": [{\"colorbar\": {\"outlinewidth\": 0, \"ticks\": \"\"}, \"type\": \"contourcarpet\"}], \"heatmap\": [{\"colorbar\": {\"outlinewidth\": 0, \"ticks\": \"\"}, \"colorscale\": [[0.0, \"#0d0887\"], [0.1111111111111111, \"#46039f\"], [0.2222222222222222, \"#7201a8\"], [0.3333333333333333, \"#9c179e\"], [0.4444444444444444, \"#bd3786\"], [0.5555555555555556, \"#d8576b\"], [0.6666666666666666, \"#ed7953\"], [0.7777777777777778, \"#fb9f3a\"], [0.8888888888888888, \"#fdca26\"], [1.0, \"#f0f921\"]], \"type\": \"heatmap\"}], \"heatmapgl\": [{\"colorbar\": {\"outlinewidth\": 0, \"ticks\": \"\"}, \"colorscale\": [[0.0, \"#0d0887\"], [0.1111111111111111, \"#46039f\"], [0.2222222222222222, \"#7201a8\"], [0.3333333333333333, \"#9c179e\"], [0.4444444444444444, \"#bd3786\"], [0.5555555555555556, \"#d8576b\"], [0.6666666666666666, \"#ed7953\"], [0.7777777777777778, \"#fb9f3a\"], [0.8888888888888888, \"#fdca26\"], [1.0, \"#f0f921\"]], \"type\": \"heatmapgl\"}], \"histogram\": [{\"marker\": {\"colorbar\": {\"outlinewidth\": 0, \"ticks\": \"\"}}, \"type\": \"histogram\"}], \"histogram2d\": [{\"colorbar\": {\"outlinewidth\": 0, \"ticks\": \"\"}, \"colorscale\": [[0.0, \"#0d0887\"], [0.1111111111111111, \"#46039f\"], [0.2222222222222222, \"#7201a8\"], [0.3333333333333333, \"#9c179e\"], [0.4444444444444444, \"#bd3786\"], [0.5555555555555556, \"#d8576b\"], [0.6666666666666666, \"#ed7953\"], [0.7777777777777778, \"#fb9f3a\"], [0.8888888888888888, \"#fdca26\"], [1.0, \"#f0f921\"]], \"type\": \"histogram2d\"}], \"histogram2dcontour\": [{\"colorbar\": {\"outlinewidth\": 0, \"ticks\": \"\"}, \"colorscale\": [[0.0, \"#0d0887\"], [0.1111111111111111, \"#46039f\"], [0.2222222222222222, \"#7201a8\"], [0.3333333333333333, \"#9c179e\"], [0.4444444444444444, \"#bd3786\"], [0.5555555555555556, \"#d8576b\"], [0.6666666666666666, \"#ed7953\"], [0.7777777777777778, \"#fb9f3a\"], [0.8888888888888888, \"#fdca26\"], [1.0, \"#f0f921\"]], \"type\": \"histogram2dcontour\"}], \"mesh3d\": [{\"colorbar\": {\"outlinewidth\": 0, \"ticks\": \"\"}, \"type\": \"mesh3d\"}], \"parcoords\": [{\"line\": {\"colorbar\": {\"outlinewidth\": 0, \"ticks\": \"\"}}, \"type\": \"parcoords\"}], \"pie\": [{\"automargin\": true, \"type\": \"pie\"}], \"scatter\": [{\"marker\": {\"colorbar\": {\"outlinewidth\": 0, \"ticks\": \"\"}}, \"type\": \"scatter\"}], \"scatter3d\": [{\"line\": {\"colorbar\": {\"outlinewidth\": 0, \"ticks\": \"\"}}, \"marker\": {\"colorbar\": {\"outlinewidth\": 0, \"ticks\": \"\"}}, \"type\": \"scatter3d\"}], \"scattercarpet\": [{\"marker\": {\"colorbar\": {\"outlinewidth\": 0, \"ticks\": \"\"}}, \"type\": \"scattercarpet\"}], \"scattergeo\": [{\"marker\": {\"colorbar\": {\"outlinewidth\": 0, \"ticks\": \"\"}}, \"type\": \"scattergeo\"}], \"scattergl\": [{\"marker\": {\"colorbar\": {\"outlinewidth\": 0, \"ticks\": \"\"}}, \"type\": \"scattergl\"}], \"scattermapbox\": [{\"marker\": {\"colorbar\": {\"outlinewidth\": 0, \"ticks\": \"\"}}, \"type\": \"scattermapbox\"}], \"scatterpolar\": [{\"marker\": {\"colorbar\": {\"outlinewidth\": 0, \"ticks\": \"\"}}, \"type\": \"scatterpolar\"}], \"scatterpolargl\": [{\"marker\": {\"colorbar\": {\"outlinewidth\": 0, \"ticks\": \"\"}}, \"type\": \"scatterpolargl\"}], \"scatterternary\": [{\"marker\": {\"colorbar\": {\"outlinewidth\": 0, \"ticks\": \"\"}}, \"type\": \"scatterternary\"}], \"surface\": [{\"colorbar\": {\"outlinewidth\": 0, \"ticks\": \"\"}, \"colorscale\": [[0.0, \"#0d0887\"], [0.1111111111111111, \"#46039f\"], [0.2222222222222222, \"#7201a8\"], [0.3333333333333333, \"#9c179e\"], [0.4444444444444444, \"#bd3786\"], [0.5555555555555556, \"#d8576b\"], [0.6666666666666666, \"#ed7953\"], [0.7777777777777778, \"#fb9f3a\"], [0.8888888888888888, \"#fdca26\"], [1.0, \"#f0f921\"]], \"type\": \"surface\"}], \"table\": [{\"cells\": {\"fill\": {\"color\": \"#EBF0F8\"}, \"line\": {\"color\": \"white\"}}, \"header\": {\"fill\": {\"color\": \"#C8D4E3\"}, \"line\": {\"color\": \"white\"}}, \"type\": \"table\"}]}, \"layout\": {\"annotationdefaults\": {\"arrowcolor\": \"#2a3f5f\", \"arrowhead\": 0, \"arrowwidth\": 1}, \"autotypenumbers\": \"strict\", \"coloraxis\": {\"colorbar\": {\"outlinewidth\": 0, \"ticks\": \"\"}}, \"colorscale\": {\"diverging\": [[0, \"#8e0152\"], [0.1, \"#c51b7d\"], [0.2, \"#de77ae\"], [0.3, \"#f1b6da\"], [0.4, \"#fde0ef\"], [0.5, \"#f7f7f7\"], [0.6, \"#e6f5d0\"], [0.7, \"#b8e186\"], [0.8, \"#7fbc41\"], [0.9, \"#4d9221\"], [1, \"#276419\"]], \"sequential\": [[0.0, \"#0d0887\"], [0.1111111111111111, \"#46039f\"], [0.2222222222222222, \"#7201a8\"], [0.3333333333333333, \"#9c179e\"], [0.4444444444444444, \"#bd3786\"], [0.5555555555555556, \"#d8576b\"], [0.6666666666666666, \"#ed7953\"], [0.7777777777777778, \"#fb9f3a\"], [0.8888888888888888, \"#fdca26\"], [1.0, \"#f0f921\"]], \"sequentialminus\": [[0.0, \"#0d0887\"], [0.1111111111111111, \"#46039f\"], [0.2222222222222222, \"#7201a8\"], [0.3333333333333333, \"#9c179e\"], [0.4444444444444444, \"#bd3786\"], [0.5555555555555556, \"#d8576b\"], [0.6666666666666666, \"#ed7953\"], [0.7777777777777778, \"#fb9f3a\"], [0.8888888888888888, \"#fdca26\"], [1.0, \"#f0f921\"]]}, \"colorway\": [\"#636efa\", \"#EF553B\", \"#00cc96\", \"#ab63fa\", \"#FFA15A\", \"#19d3f3\", \"#FF6692\", \"#B6E880\", \"#FF97FF\", \"#FECB52\"], \"font\": {\"color\": \"#2a3f5f\"}, \"geo\": {\"bgcolor\": \"white\", \"lakecolor\": \"white\", \"landcolor\": \"#E5ECF6\", \"showlakes\": true, \"showland\": true, \"subunitcolor\": \"white\"}, \"hoverlabel\": {\"align\": \"left\"}, \"hovermode\": \"closest\", \"mapbox\": {\"style\": \"light\"}, \"paper_bgcolor\": \"white\", \"plot_bgcolor\": \"#E5ECF6\", \"polar\": {\"angularaxis\": {\"gridcolor\": \"white\", \"linecolor\": \"white\", \"ticks\": \"\"}, \"bgcolor\": \"#E5ECF6\", \"radialaxis\": {\"gridcolor\": \"white\", \"linecolor\": \"white\", \"ticks\": \"\"}}, \"scene\": {\"xaxis\": {\"backgroundcolor\": \"#E5ECF6\", \"gridcolor\": \"white\", \"gridwidth\": 2, \"linecolor\": \"white\", \"showbackground\": true, \"ticks\": \"\", \"zerolinecolor\": \"white\"}, \"yaxis\": {\"backgroundcolor\": \"#E5ECF6\", \"gridcolor\": \"white\", \"gridwidth\": 2, \"linecolor\": \"white\", \"showbackground\": true, \"ticks\": \"\", \"zerolinecolor\": \"white\"}, \"zaxis\": {\"backgroundcolor\": \"#E5ECF6\", \"gridcolor\": \"white\", \"gridwidth\": 2, \"linecolor\": \"white\", \"showbackground\": true, \"ticks\": \"\", \"zerolinecolor\": \"white\"}}, \"shapedefaults\": {\"line\": {\"color\": \"#2a3f5f\"}}, \"ternary\": {\"aaxis\": {\"gridcolor\": \"white\", \"linecolor\": \"white\", \"ticks\": \"\"}, \"baxis\": {\"gridcolor\": \"white\", \"linecolor\": \"white\", \"ticks\": \"\"}, \"bgcolor\": \"#E5ECF6\", \"caxis\": {\"gridcolor\": \"white\", \"linecolor\": \"white\", \"ticks\": \"\"}}, \"title\": {\"x\": 0.05}, \"xaxis\": {\"automargin\": true, \"gridcolor\": \"white\", \"linecolor\": \"white\", \"ticks\": \"\", \"title\": {\"standoff\": 15}, \"zerolinecolor\": \"white\", \"zerolinewidth\": 2}, \"yaxis\": {\"automargin\": true, \"gridcolor\": \"white\", \"linecolor\": \"white\", \"ticks\": \"\", \"title\": {\"standoff\": 15}, \"zerolinecolor\": \"white\", \"zerolinewidth\": 2}}}, \"title\": {\"text\": \"Missing Data for each Column of the Data Set\"}, \"xaxis\": {\"tickangle\": -45}},                        {\"responsive\": true}                    ).then(function(){\n",
       "                            \n",
       "var gd = document.getElementById('19e0ba97-8b62-4dd8-bc61-afe875fbe230');\n",
       "var x = new MutationObserver(function (mutations, observer) {{\n",
       "        var display = window.getComputedStyle(gd).display;\n",
       "        if (!display || display === 'none') {{\n",
       "            console.log([gd, 'removed!']);\n",
       "            Plotly.purge(gd);\n",
       "            observer.disconnect();\n",
       "        }}\n",
       "}});\n",
       "\n",
       "// Listen for the removal of the full notebook cells\n",
       "var notebookContainer = gd.closest('#notebook-container');\n",
       "if (notebookContainer) {{\n",
       "    x.observe(notebookContainer, {childList: true});\n",
       "}}\n",
       "\n",
       "// Listen for the clearing of the current output cell\n",
       "var outputEl = gd.closest('.output');\n",
       "if (outputEl) {{\n",
       "    x.observe(outputEl, {childList: true});\n",
       "}}\n",
       "\n",
       "                        })                };                });            </script>        </div>"
      ]
     },
     "metadata": {},
     "output_type": "display_data"
    }
   ],
   "source": [
    "fig = go.Figure()\n",
    "\n",
    "fig.add_trace(go.Bar(x = missingData[\"Column Name\"], y = missingData[\"Available Data\"],\n",
    "                     marker_color = \"#001024\", name = \"Available Data\"))\n",
    "fig.add_trace(go.Bar(x = missingData[\"Column Name\"], y = missingData[\"Missing Data\"],\n",
    "                     marker_color = \"#FF800B\", name = \"Missing Data\"))\n",
    "\n",
    "fig.update_layout(barmode='group', xaxis_tickangle=-45, title = \"Missing Data for each Column of the Data Set\", hovermode=\"x unified\")\n",
    "fig.show()\n"
   ]
  },
  {
   "cell_type": "code",
   "execution_count": 33,
   "metadata": {},
   "outputs": [
    {
     "data": {
      "text/plain": [
       "date                        0\n",
       "total_cases                 0\n",
       "new_cases                   0\n",
       "population                  0\n",
       "Broj oporavljenih osoba    76\n",
       "Broj testiranih dnevno     76\n",
       "Broj smrtnih slučajeva     75\n",
       "dtype: int64"
      ]
     },
     "execution_count": 33,
     "metadata": {},
     "output_type": "execute_result"
    }
   ],
   "source": [
    "fullDataFrame.isnull().sum()"
   ]
  },
  {
   "cell_type": "code",
   "execution_count": 270,
   "metadata": {},
   "outputs": [
    {
     "data": {
      "text/html": [
       "<div>\n",
       "<style scoped>\n",
       "    .dataframe tbody tr th:only-of-type {\n",
       "        vertical-align: middle;\n",
       "    }\n",
       "\n",
       "    .dataframe tbody tr th {\n",
       "        vertical-align: top;\n",
       "    }\n",
       "\n",
       "    .dataframe thead th {\n",
       "        text-align: right;\n",
       "    }\n",
       "</style>\n",
       "<table border=\"1\" class=\"dataframe\">\n",
       "  <thead>\n",
       "    <tr style=\"text-align: right;\">\n",
       "      <th></th>\n",
       "      <th>Column Name</th>\n",
       "      <th>Available Data</th>\n",
       "      <th>Missing Data</th>\n",
       "      <th>Missing Pct</th>\n",
       "    </tr>\n",
       "  </thead>\n",
       "  <tbody>\n",
       "    <tr>\n",
       "      <th>0</th>\n",
       "      <td>date</td>\n",
       "      <td>307</td>\n",
       "      <td>0</td>\n",
       "      <td>0.000000</td>\n",
       "    </tr>\n",
       "    <tr>\n",
       "      <th>1</th>\n",
       "      <td>total_cases</td>\n",
       "      <td>307</td>\n",
       "      <td>0</td>\n",
       "      <td>0.000000</td>\n",
       "    </tr>\n",
       "    <tr>\n",
       "      <th>2</th>\n",
       "      <td>new_cases</td>\n",
       "      <td>307</td>\n",
       "      <td>0</td>\n",
       "      <td>0.000000</td>\n",
       "    </tr>\n",
       "    <tr>\n",
       "      <th>3</th>\n",
       "      <td>population</td>\n",
       "      <td>307</td>\n",
       "      <td>0</td>\n",
       "      <td>0.000000</td>\n",
       "    </tr>\n",
       "    <tr>\n",
       "      <th>4</th>\n",
       "      <td>Oporavljeni</td>\n",
       "      <td>231</td>\n",
       "      <td>76</td>\n",
       "      <td>0.329004</td>\n",
       "    </tr>\n",
       "    <tr>\n",
       "      <th>5</th>\n",
       "      <td>Testirani</td>\n",
       "      <td>231</td>\n",
       "      <td>76</td>\n",
       "      <td>0.329004</td>\n",
       "    </tr>\n",
       "    <tr>\n",
       "      <th>6</th>\n",
       "      <td>Smrtnih slučajevi</td>\n",
       "      <td>232</td>\n",
       "      <td>75</td>\n",
       "      <td>0.323276</td>\n",
       "    </tr>\n",
       "  </tbody>\n",
       "</table>\n",
       "</div>"
      ],
      "text/plain": [
       "         Column Name  Available Data  Missing Data  Missing Pct\n",
       "0               date             307             0     0.000000\n",
       "1        total_cases             307             0     0.000000\n",
       "2          new_cases             307             0     0.000000\n",
       "3         population             307             0     0.000000\n",
       "4        Oporavljeni             231            76     0.329004\n",
       "5          Testirani             231            76     0.329004\n",
       "6  Smrtnih slučajevi             232            75     0.323276"
      ]
     },
     "execution_count": 270,
     "metadata": {},
     "output_type": "execute_result"
    }
   ],
   "source": [
    "missingData"
   ]
  },
  {
   "cell_type": "code",
   "execution_count": 294,
   "metadata": {},
   "outputs": [],
   "source": [
    "def MissingDataPlot(dataFrame):\n",
    "    colors = [\"#FF800B\", \"#001024\"]\n",
    "    names = [\"Missing Values\", \"Present Values\"]\n",
    "    \n",
    "    columns = [col for col in dataFrame[\"Column Name\"]]\n",
    "    \n",
    "    specs = []\n",
    "\n",
    "    \n",
    "    for sp in range(len(columns)):\n",
    "        specs.append({\"type\": \"pie\", \"rowspan\": 0})\n",
    "    \n",
    "    fig = make_subplots(rows = 1, cols = len(columns), specs = [specs], subplot_titles = columns)\n",
    "    \n",
    "    data = []\n",
    "    \n",
    " \n",
    "    position = 0.024\n",
    "    \n",
    "    for index in range(len(missingData[\"Missing Data\"])):\n",
    "        move = 0.15\n",
    "        avail = missingData.iloc[index, 2] \n",
    "        miss = missingData.iloc[index, 1]\n",
    "        pct = missingData.iloc[index, 3]\n",
    "    \n",
    "        fig.add_trace(go.Pie(labels = names, values = [avail, miss], textinfo = \"none\", hole = .8),\n",
    "                     row = 1, col = index + 1)\n",
    "        \n",
    "        if index == 0:\n",
    "            fig.add_annotation(x = position, y=0.5, text=\"{:.2%}\".format(pct), font_size = 15, showarrow = False)\n",
    "            fig.update_traces(hoverinfo = 'label + value', marker = dict(colors = colors), col = index + 1)\n",
    "#         \n",
    "        elif index <= 2:\n",
    "            move = 0.15\n",
    "            position += move\n",
    "            fig.add_annotation(x = position, y=0.5, text=\"{:.2%}\".format(pct), font_size = 15, showarrow = False)\n",
    "            fig.update_traces(hoverinfo = 'label + value', marker = dict(colors = colors), col = index + 1)\n",
    "          \n",
    "        elif index == 3:\n",
    "            move = 0.18\n",
    "            position += move\n",
    "            fig.add_annotation(x = position, y=0.5, text=\"{:.2%}\".format(pct), font_size = 15, showarrow = False)\n",
    "            fig.update_traces(hoverinfo = 'label + value', marker = dict(colors = colors), col = index + 1)\n",
    "        elif index == 4:\n",
    "            move = 0.19\n",
    "            position += move\n",
    "            fig.add_annotation(x = position, y=0.5, text=\"{:.2%}\".format(pct), font_size = 15, showarrow = False)\n",
    "            fig.update_traces(hoverinfo = 'label + value', marker = dict(colors = colors), col = index + 1)\n",
    "        elif index > 4:\n",
    "            move = 0.147\n",
    "            position += move\n",
    "            fig.add_annotation(x = position, y=0.5, text=\"{:.2%}\".format(pct), font_size = 15, showarrow = False)\n",
    "            fig.update_traces(hoverinfo = 'label + value', marker = dict(colors = colors), col = index + 1)\n",
    "    \n",
    "    \n",
    "    fig.show()"
   ]
  },
  {
   "cell_type": "code",
   "execution_count": 295,
   "metadata": {},
   "outputs": [
    {
     "data": {
      "application/vnd.plotly.v1+json": {
       "config": {
        "plotlyServerURL": "https://plot.ly"
       },
       "data": [
        {
         "domain": {
          "x": [
           0,
           0.1183673469387755
          ],
          "y": [
           0,
           1
          ]
         },
         "hole": 0.8,
         "hoverinfo": "label+value",
         "labels": [
          "Missing Values",
          "Present Values"
         ],
         "marker": {
          "colors": [
           "#FF800B",
           "#001024"
          ]
         },
         "textinfo": "none",
         "type": "pie",
         "values": [
          0,
          307
         ]
        },
        {
         "domain": {
          "x": [
           0.14693877551020407,
           0.26530612244897955
          ],
          "y": [
           0,
           1
          ]
         },
         "hole": 0.8,
         "hoverinfo": "label+value",
         "labels": [
          "Missing Values",
          "Present Values"
         ],
         "marker": {
          "colors": [
           "#FF800B",
           "#001024"
          ]
         },
         "textinfo": "none",
         "type": "pie",
         "values": [
          0,
          307
         ]
        },
        {
         "domain": {
          "x": [
           0.29387755102040813,
           0.4122448979591836
          ],
          "y": [
           0,
           1
          ]
         },
         "hole": 0.8,
         "hoverinfo": "label+value",
         "labels": [
          "Missing Values",
          "Present Values"
         ],
         "marker": {
          "colors": [
           "#FF800B",
           "#001024"
          ]
         },
         "textinfo": "none",
         "type": "pie",
         "values": [
          0,
          307
         ]
        },
        {
         "domain": {
          "x": [
           0.4408163265306122,
           0.5591836734693877
          ],
          "y": [
           0,
           1
          ]
         },
         "hole": 0.8,
         "hoverinfo": "label+value",
         "labels": [
          "Missing Values",
          "Present Values"
         ],
         "marker": {
          "colors": [
           "#FF800B",
           "#001024"
          ]
         },
         "textinfo": "none",
         "type": "pie",
         "values": [
          0,
          307
         ]
        },
        {
         "domain": {
          "x": [
           0.5877551020408163,
           0.7061224489795918
          ],
          "y": [
           0,
           1
          ]
         },
         "hole": 0.8,
         "hoverinfo": "label+value",
         "labels": [
          "Missing Values",
          "Present Values"
         ],
         "marker": {
          "colors": [
           "#FF800B",
           "#001024"
          ]
         },
         "textinfo": "none",
         "type": "pie",
         "values": [
          76,
          231
         ]
        },
        {
         "domain": {
          "x": [
           0.7346938775510204,
           0.8530612244897959
          ],
          "y": [
           0,
           1
          ]
         },
         "hole": 0.8,
         "hoverinfo": "label+value",
         "labels": [
          "Missing Values",
          "Present Values"
         ],
         "marker": {
          "colors": [
           "#FF800B",
           "#001024"
          ]
         },
         "textinfo": "none",
         "type": "pie",
         "values": [
          76,
          231
         ]
        },
        {
         "domain": {
          "x": [
           0.8816326530612244,
           0.9999999999999999
          ],
          "y": [
           0,
           1
          ]
         },
         "hole": 0.8,
         "hoverinfo": "label+value",
         "labels": [
          "Missing Values",
          "Present Values"
         ],
         "marker": {
          "colors": [
           "#FF800B",
           "#001024"
          ]
         },
         "textinfo": "none",
         "type": "pie",
         "values": [
          75,
          232
         ]
        }
       ],
       "layout": {
        "annotations": [
         {
          "font": {
           "size": 16
          },
          "showarrow": false,
          "text": "date",
          "x": 0.05918367346938775,
          "xanchor": "center",
          "xref": "paper",
          "y": 1,
          "yanchor": "bottom",
          "yref": "paper"
         },
         {
          "font": {
           "size": 16
          },
          "showarrow": false,
          "text": "total_cases",
          "x": 0.2061224489795918,
          "xanchor": "center",
          "xref": "paper",
          "y": 1,
          "yanchor": "bottom",
          "yref": "paper"
         },
         {
          "font": {
           "size": 16
          },
          "showarrow": false,
          "text": "new_cases",
          "x": 0.3530612244897959,
          "xanchor": "center",
          "xref": "paper",
          "y": 1,
          "yanchor": "bottom",
          "yref": "paper"
         },
         {
          "font": {
           "size": 16
          },
          "showarrow": false,
          "text": "population",
          "x": 0.49999999999999994,
          "xanchor": "center",
          "xref": "paper",
          "y": 1,
          "yanchor": "bottom",
          "yref": "paper"
         },
         {
          "font": {
           "size": 16
          },
          "showarrow": false,
          "text": "Oporavljeni",
          "x": 0.6469387755102041,
          "xanchor": "center",
          "xref": "paper",
          "y": 1,
          "yanchor": "bottom",
          "yref": "paper"
         },
         {
          "font": {
           "size": 16
          },
          "showarrow": false,
          "text": "Testirani",
          "x": 0.7938775510204081,
          "xanchor": "center",
          "xref": "paper",
          "y": 1,
          "yanchor": "bottom",
          "yref": "paper"
         },
         {
          "font": {
           "size": 16
          },
          "showarrow": false,
          "text": "Smrtni sl.",
          "x": 0.9408163265306122,
          "xanchor": "center",
          "xref": "paper",
          "y": 1,
          "yanchor": "bottom",
          "yref": "paper"
         },
         {
          "font": {
           "size": 15
          },
          "showarrow": false,
          "text": "0.00%",
          "x": 0.024,
          "y": 0.5
         },
         {
          "font": {
           "size": 15
          },
          "showarrow": false,
          "text": "0.00%",
          "x": 0.174,
          "y": 0.5
         },
         {
          "font": {
           "size": 15
          },
          "showarrow": false,
          "text": "0.00%",
          "x": 0.32399999999999995,
          "y": 0.5
         },
         {
          "font": {
           "size": 15
          },
          "showarrow": false,
          "text": "0.00%",
          "x": 0.504,
          "y": 0.5
         },
         {
          "font": {
           "size": 15
          },
          "showarrow": false,
          "text": "32.90%",
          "x": 0.694,
          "y": 0.5
         },
         {
          "font": {
           "size": 15
          },
          "showarrow": false,
          "text": "32.90%",
          "x": 0.841,
          "y": 0.5
         },
         {
          "font": {
           "size": 15
          },
          "showarrow": false,
          "text": "32.33%",
          "x": 0.988,
          "y": 0.5
         }
        ],
        "template": {
         "data": {
          "bar": [
           {
            "error_x": {
             "color": "#2a3f5f"
            },
            "error_y": {
             "color": "#2a3f5f"
            },
            "marker": {
             "line": {
              "color": "#E5ECF6",
              "width": 0.5
             }
            },
            "type": "bar"
           }
          ],
          "barpolar": [
           {
            "marker": {
             "line": {
              "color": "#E5ECF6",
              "width": 0.5
             }
            },
            "type": "barpolar"
           }
          ],
          "carpet": [
           {
            "aaxis": {
             "endlinecolor": "#2a3f5f",
             "gridcolor": "white",
             "linecolor": "white",
             "minorgridcolor": "white",
             "startlinecolor": "#2a3f5f"
            },
            "baxis": {
             "endlinecolor": "#2a3f5f",
             "gridcolor": "white",
             "linecolor": "white",
             "minorgridcolor": "white",
             "startlinecolor": "#2a3f5f"
            },
            "type": "carpet"
           }
          ],
          "choropleth": [
           {
            "colorbar": {
             "outlinewidth": 0,
             "ticks": ""
            },
            "type": "choropleth"
           }
          ],
          "contour": [
           {
            "colorbar": {
             "outlinewidth": 0,
             "ticks": ""
            },
            "colorscale": [
             [
              0,
              "#0d0887"
             ],
             [
              0.1111111111111111,
              "#46039f"
             ],
             [
              0.2222222222222222,
              "#7201a8"
             ],
             [
              0.3333333333333333,
              "#9c179e"
             ],
             [
              0.4444444444444444,
              "#bd3786"
             ],
             [
              0.5555555555555556,
              "#d8576b"
             ],
             [
              0.6666666666666666,
              "#ed7953"
             ],
             [
              0.7777777777777778,
              "#fb9f3a"
             ],
             [
              0.8888888888888888,
              "#fdca26"
             ],
             [
              1,
              "#f0f921"
             ]
            ],
            "type": "contour"
           }
          ],
          "contourcarpet": [
           {
            "colorbar": {
             "outlinewidth": 0,
             "ticks": ""
            },
            "type": "contourcarpet"
           }
          ],
          "heatmap": [
           {
            "colorbar": {
             "outlinewidth": 0,
             "ticks": ""
            },
            "colorscale": [
             [
              0,
              "#0d0887"
             ],
             [
              0.1111111111111111,
              "#46039f"
             ],
             [
              0.2222222222222222,
              "#7201a8"
             ],
             [
              0.3333333333333333,
              "#9c179e"
             ],
             [
              0.4444444444444444,
              "#bd3786"
             ],
             [
              0.5555555555555556,
              "#d8576b"
             ],
             [
              0.6666666666666666,
              "#ed7953"
             ],
             [
              0.7777777777777778,
              "#fb9f3a"
             ],
             [
              0.8888888888888888,
              "#fdca26"
             ],
             [
              1,
              "#f0f921"
             ]
            ],
            "type": "heatmap"
           }
          ],
          "heatmapgl": [
           {
            "colorbar": {
             "outlinewidth": 0,
             "ticks": ""
            },
            "colorscale": [
             [
              0,
              "#0d0887"
             ],
             [
              0.1111111111111111,
              "#46039f"
             ],
             [
              0.2222222222222222,
              "#7201a8"
             ],
             [
              0.3333333333333333,
              "#9c179e"
             ],
             [
              0.4444444444444444,
              "#bd3786"
             ],
             [
              0.5555555555555556,
              "#d8576b"
             ],
             [
              0.6666666666666666,
              "#ed7953"
             ],
             [
              0.7777777777777778,
              "#fb9f3a"
             ],
             [
              0.8888888888888888,
              "#fdca26"
             ],
             [
              1,
              "#f0f921"
             ]
            ],
            "type": "heatmapgl"
           }
          ],
          "histogram": [
           {
            "marker": {
             "colorbar": {
              "outlinewidth": 0,
              "ticks": ""
             }
            },
            "type": "histogram"
           }
          ],
          "histogram2d": [
           {
            "colorbar": {
             "outlinewidth": 0,
             "ticks": ""
            },
            "colorscale": [
             [
              0,
              "#0d0887"
             ],
             [
              0.1111111111111111,
              "#46039f"
             ],
             [
              0.2222222222222222,
              "#7201a8"
             ],
             [
              0.3333333333333333,
              "#9c179e"
             ],
             [
              0.4444444444444444,
              "#bd3786"
             ],
             [
              0.5555555555555556,
              "#d8576b"
             ],
             [
              0.6666666666666666,
              "#ed7953"
             ],
             [
              0.7777777777777778,
              "#fb9f3a"
             ],
             [
              0.8888888888888888,
              "#fdca26"
             ],
             [
              1,
              "#f0f921"
             ]
            ],
            "type": "histogram2d"
           }
          ],
          "histogram2dcontour": [
           {
            "colorbar": {
             "outlinewidth": 0,
             "ticks": ""
            },
            "colorscale": [
             [
              0,
              "#0d0887"
             ],
             [
              0.1111111111111111,
              "#46039f"
             ],
             [
              0.2222222222222222,
              "#7201a8"
             ],
             [
              0.3333333333333333,
              "#9c179e"
             ],
             [
              0.4444444444444444,
              "#bd3786"
             ],
             [
              0.5555555555555556,
              "#d8576b"
             ],
             [
              0.6666666666666666,
              "#ed7953"
             ],
             [
              0.7777777777777778,
              "#fb9f3a"
             ],
             [
              0.8888888888888888,
              "#fdca26"
             ],
             [
              1,
              "#f0f921"
             ]
            ],
            "type": "histogram2dcontour"
           }
          ],
          "mesh3d": [
           {
            "colorbar": {
             "outlinewidth": 0,
             "ticks": ""
            },
            "type": "mesh3d"
           }
          ],
          "parcoords": [
           {
            "line": {
             "colorbar": {
              "outlinewidth": 0,
              "ticks": ""
             }
            },
            "type": "parcoords"
           }
          ],
          "pie": [
           {
            "automargin": true,
            "type": "pie"
           }
          ],
          "scatter": [
           {
            "marker": {
             "colorbar": {
              "outlinewidth": 0,
              "ticks": ""
             }
            },
            "type": "scatter"
           }
          ],
          "scatter3d": [
           {
            "line": {
             "colorbar": {
              "outlinewidth": 0,
              "ticks": ""
             }
            },
            "marker": {
             "colorbar": {
              "outlinewidth": 0,
              "ticks": ""
             }
            },
            "type": "scatter3d"
           }
          ],
          "scattercarpet": [
           {
            "marker": {
             "colorbar": {
              "outlinewidth": 0,
              "ticks": ""
             }
            },
            "type": "scattercarpet"
           }
          ],
          "scattergeo": [
           {
            "marker": {
             "colorbar": {
              "outlinewidth": 0,
              "ticks": ""
             }
            },
            "type": "scattergeo"
           }
          ],
          "scattergl": [
           {
            "marker": {
             "colorbar": {
              "outlinewidth": 0,
              "ticks": ""
             }
            },
            "type": "scattergl"
           }
          ],
          "scattermapbox": [
           {
            "marker": {
             "colorbar": {
              "outlinewidth": 0,
              "ticks": ""
             }
            },
            "type": "scattermapbox"
           }
          ],
          "scatterpolar": [
           {
            "marker": {
             "colorbar": {
              "outlinewidth": 0,
              "ticks": ""
             }
            },
            "type": "scatterpolar"
           }
          ],
          "scatterpolargl": [
           {
            "marker": {
             "colorbar": {
              "outlinewidth": 0,
              "ticks": ""
             }
            },
            "type": "scatterpolargl"
           }
          ],
          "scatterternary": [
           {
            "marker": {
             "colorbar": {
              "outlinewidth": 0,
              "ticks": ""
             }
            },
            "type": "scatterternary"
           }
          ],
          "surface": [
           {
            "colorbar": {
             "outlinewidth": 0,
             "ticks": ""
            },
            "colorscale": [
             [
              0,
              "#0d0887"
             ],
             [
              0.1111111111111111,
              "#46039f"
             ],
             [
              0.2222222222222222,
              "#7201a8"
             ],
             [
              0.3333333333333333,
              "#9c179e"
             ],
             [
              0.4444444444444444,
              "#bd3786"
             ],
             [
              0.5555555555555556,
              "#d8576b"
             ],
             [
              0.6666666666666666,
              "#ed7953"
             ],
             [
              0.7777777777777778,
              "#fb9f3a"
             ],
             [
              0.8888888888888888,
              "#fdca26"
             ],
             [
              1,
              "#f0f921"
             ]
            ],
            "type": "surface"
           }
          ],
          "table": [
           {
            "cells": {
             "fill": {
              "color": "#EBF0F8"
             },
             "line": {
              "color": "white"
             }
            },
            "header": {
             "fill": {
              "color": "#C8D4E3"
             },
             "line": {
              "color": "white"
             }
            },
            "type": "table"
           }
          ]
         },
         "layout": {
          "annotationdefaults": {
           "arrowcolor": "#2a3f5f",
           "arrowhead": 0,
           "arrowwidth": 1
          },
          "autotypenumbers": "strict",
          "coloraxis": {
           "colorbar": {
            "outlinewidth": 0,
            "ticks": ""
           }
          },
          "colorscale": {
           "diverging": [
            [
             0,
             "#8e0152"
            ],
            [
             0.1,
             "#c51b7d"
            ],
            [
             0.2,
             "#de77ae"
            ],
            [
             0.3,
             "#f1b6da"
            ],
            [
             0.4,
             "#fde0ef"
            ],
            [
             0.5,
             "#f7f7f7"
            ],
            [
             0.6,
             "#e6f5d0"
            ],
            [
             0.7,
             "#b8e186"
            ],
            [
             0.8,
             "#7fbc41"
            ],
            [
             0.9,
             "#4d9221"
            ],
            [
             1,
             "#276419"
            ]
           ],
           "sequential": [
            [
             0,
             "#0d0887"
            ],
            [
             0.1111111111111111,
             "#46039f"
            ],
            [
             0.2222222222222222,
             "#7201a8"
            ],
            [
             0.3333333333333333,
             "#9c179e"
            ],
            [
             0.4444444444444444,
             "#bd3786"
            ],
            [
             0.5555555555555556,
             "#d8576b"
            ],
            [
             0.6666666666666666,
             "#ed7953"
            ],
            [
             0.7777777777777778,
             "#fb9f3a"
            ],
            [
             0.8888888888888888,
             "#fdca26"
            ],
            [
             1,
             "#f0f921"
            ]
           ],
           "sequentialminus": [
            [
             0,
             "#0d0887"
            ],
            [
             0.1111111111111111,
             "#46039f"
            ],
            [
             0.2222222222222222,
             "#7201a8"
            ],
            [
             0.3333333333333333,
             "#9c179e"
            ],
            [
             0.4444444444444444,
             "#bd3786"
            ],
            [
             0.5555555555555556,
             "#d8576b"
            ],
            [
             0.6666666666666666,
             "#ed7953"
            ],
            [
             0.7777777777777778,
             "#fb9f3a"
            ],
            [
             0.8888888888888888,
             "#fdca26"
            ],
            [
             1,
             "#f0f921"
            ]
           ]
          },
          "colorway": [
           "#636efa",
           "#EF553B",
           "#00cc96",
           "#ab63fa",
           "#FFA15A",
           "#19d3f3",
           "#FF6692",
           "#B6E880",
           "#FF97FF",
           "#FECB52"
          ],
          "font": {
           "color": "#2a3f5f"
          },
          "geo": {
           "bgcolor": "white",
           "lakecolor": "white",
           "landcolor": "#E5ECF6",
           "showlakes": true,
           "showland": true,
           "subunitcolor": "white"
          },
          "hoverlabel": {
           "align": "left"
          },
          "hovermode": "closest",
          "mapbox": {
           "style": "light"
          },
          "paper_bgcolor": "white",
          "plot_bgcolor": "#E5ECF6",
          "polar": {
           "angularaxis": {
            "gridcolor": "white",
            "linecolor": "white",
            "ticks": ""
           },
           "bgcolor": "#E5ECF6",
           "radialaxis": {
            "gridcolor": "white",
            "linecolor": "white",
            "ticks": ""
           }
          },
          "scene": {
           "xaxis": {
            "backgroundcolor": "#E5ECF6",
            "gridcolor": "white",
            "gridwidth": 2,
            "linecolor": "white",
            "showbackground": true,
            "ticks": "",
            "zerolinecolor": "white"
           },
           "yaxis": {
            "backgroundcolor": "#E5ECF6",
            "gridcolor": "white",
            "gridwidth": 2,
            "linecolor": "white",
            "showbackground": true,
            "ticks": "",
            "zerolinecolor": "white"
           },
           "zaxis": {
            "backgroundcolor": "#E5ECF6",
            "gridcolor": "white",
            "gridwidth": 2,
            "linecolor": "white",
            "showbackground": true,
            "ticks": "",
            "zerolinecolor": "white"
           }
          },
          "shapedefaults": {
           "line": {
            "color": "#2a3f5f"
           }
          },
          "ternary": {
           "aaxis": {
            "gridcolor": "white",
            "linecolor": "white",
            "ticks": ""
           },
           "baxis": {
            "gridcolor": "white",
            "linecolor": "white",
            "ticks": ""
           },
           "bgcolor": "#E5ECF6",
           "caxis": {
            "gridcolor": "white",
            "linecolor": "white",
            "ticks": ""
           }
          },
          "title": {
           "x": 0.05
          },
          "xaxis": {
           "automargin": true,
           "gridcolor": "white",
           "linecolor": "white",
           "ticks": "",
           "title": {
            "standoff": 15
           },
           "zerolinecolor": "white",
           "zerolinewidth": 2
          },
          "yaxis": {
           "automargin": true,
           "gridcolor": "white",
           "linecolor": "white",
           "ticks": "",
           "title": {
            "standoff": 15
           },
           "zerolinecolor": "white",
           "zerolinewidth": 2
          }
         }
        }
       }
      },
      "text/html": [
       "<div>                            <div id=\"cd0dc8fe-53a8-4f84-b7a8-8ec2b77517d8\" class=\"plotly-graph-div\" style=\"height:525px; width:100%;\"></div>            <script type=\"text/javascript\">                require([\"plotly\"], function(Plotly) {                    window.PLOTLYENV=window.PLOTLYENV || {};                                    if (document.getElementById(\"cd0dc8fe-53a8-4f84-b7a8-8ec2b77517d8\")) {                    Plotly.newPlot(                        \"cd0dc8fe-53a8-4f84-b7a8-8ec2b77517d8\",                        [{\"domain\": {\"x\": [0.0, 0.1183673469387755], \"y\": [0.0, 1.0]}, \"hole\": 0.8, \"hoverinfo\": \"label+value\", \"labels\": [\"Missing Values\", \"Present Values\"], \"marker\": {\"colors\": [\"#FF800B\", \"#001024\"]}, \"textinfo\": \"none\", \"type\": \"pie\", \"values\": [0, 307]}, {\"domain\": {\"x\": [0.14693877551020407, 0.26530612244897955], \"y\": [0.0, 1.0]}, \"hole\": 0.8, \"hoverinfo\": \"label+value\", \"labels\": [\"Missing Values\", \"Present Values\"], \"marker\": {\"colors\": [\"#FF800B\", \"#001024\"]}, \"textinfo\": \"none\", \"type\": \"pie\", \"values\": [0, 307]}, {\"domain\": {\"x\": [0.29387755102040813, 0.4122448979591836], \"y\": [0.0, 1.0]}, \"hole\": 0.8, \"hoverinfo\": \"label+value\", \"labels\": [\"Missing Values\", \"Present Values\"], \"marker\": {\"colors\": [\"#FF800B\", \"#001024\"]}, \"textinfo\": \"none\", \"type\": \"pie\", \"values\": [0, 307]}, {\"domain\": {\"x\": [0.4408163265306122, 0.5591836734693877], \"y\": [0.0, 1.0]}, \"hole\": 0.8, \"hoverinfo\": \"label+value\", \"labels\": [\"Missing Values\", \"Present Values\"], \"marker\": {\"colors\": [\"#FF800B\", \"#001024\"]}, \"textinfo\": \"none\", \"type\": \"pie\", \"values\": [0, 307]}, {\"domain\": {\"x\": [0.5877551020408163, 0.7061224489795918], \"y\": [0.0, 1.0]}, \"hole\": 0.8, \"hoverinfo\": \"label+value\", \"labels\": [\"Missing Values\", \"Present Values\"], \"marker\": {\"colors\": [\"#FF800B\", \"#001024\"]}, \"textinfo\": \"none\", \"type\": \"pie\", \"values\": [76, 231]}, {\"domain\": {\"x\": [0.7346938775510204, 0.8530612244897959], \"y\": [0.0, 1.0]}, \"hole\": 0.8, \"hoverinfo\": \"label+value\", \"labels\": [\"Missing Values\", \"Present Values\"], \"marker\": {\"colors\": [\"#FF800B\", \"#001024\"]}, \"textinfo\": \"none\", \"type\": \"pie\", \"values\": [76, 231]}, {\"domain\": {\"x\": [0.8816326530612244, 0.9999999999999999], \"y\": [0.0, 1.0]}, \"hole\": 0.8, \"hoverinfo\": \"label+value\", \"labels\": [\"Missing Values\", \"Present Values\"], \"marker\": {\"colors\": [\"#FF800B\", \"#001024\"]}, \"textinfo\": \"none\", \"type\": \"pie\", \"values\": [75, 232]}],                        {\"annotations\": [{\"font\": {\"size\": 16}, \"showarrow\": false, \"text\": \"date\", \"x\": 0.05918367346938775, \"xanchor\": \"center\", \"xref\": \"paper\", \"y\": 1.0, \"yanchor\": \"bottom\", \"yref\": \"paper\"}, {\"font\": {\"size\": 16}, \"showarrow\": false, \"text\": \"total_cases\", \"x\": 0.2061224489795918, \"xanchor\": \"center\", \"xref\": \"paper\", \"y\": 1.0, \"yanchor\": \"bottom\", \"yref\": \"paper\"}, {\"font\": {\"size\": 16}, \"showarrow\": false, \"text\": \"new_cases\", \"x\": 0.3530612244897959, \"xanchor\": \"center\", \"xref\": \"paper\", \"y\": 1.0, \"yanchor\": \"bottom\", \"yref\": \"paper\"}, {\"font\": {\"size\": 16}, \"showarrow\": false, \"text\": \"population\", \"x\": 0.49999999999999994, \"xanchor\": \"center\", \"xref\": \"paper\", \"y\": 1.0, \"yanchor\": \"bottom\", \"yref\": \"paper\"}, {\"font\": {\"size\": 16}, \"showarrow\": false, \"text\": \"Oporavljeni\", \"x\": 0.6469387755102041, \"xanchor\": \"center\", \"xref\": \"paper\", \"y\": 1.0, \"yanchor\": \"bottom\", \"yref\": \"paper\"}, {\"font\": {\"size\": 16}, \"showarrow\": false, \"text\": \"Testirani\", \"x\": 0.7938775510204081, \"xanchor\": \"center\", \"xref\": \"paper\", \"y\": 1.0, \"yanchor\": \"bottom\", \"yref\": \"paper\"}, {\"font\": {\"size\": 16}, \"showarrow\": false, \"text\": \"Smrtni sl.\", \"x\": 0.9408163265306122, \"xanchor\": \"center\", \"xref\": \"paper\", \"y\": 1.0, \"yanchor\": \"bottom\", \"yref\": \"paper\"}, {\"font\": {\"size\": 15}, \"showarrow\": false, \"text\": \"0.00%\", \"x\": 0.024, \"y\": 0.5}, {\"font\": {\"size\": 15}, \"showarrow\": false, \"text\": \"0.00%\", \"x\": 0.174, \"y\": 0.5}, {\"font\": {\"size\": 15}, \"showarrow\": false, \"text\": \"0.00%\", \"x\": 0.32399999999999995, \"y\": 0.5}, {\"font\": {\"size\": 15}, \"showarrow\": false, \"text\": \"0.00%\", \"x\": 0.504, \"y\": 0.5}, {\"font\": {\"size\": 15}, \"showarrow\": false, \"text\": \"32.90%\", \"x\": 0.694, \"y\": 0.5}, {\"font\": {\"size\": 15}, \"showarrow\": false, \"text\": \"32.90%\", \"x\": 0.841, \"y\": 0.5}, {\"font\": {\"size\": 15}, \"showarrow\": false, \"text\": \"32.33%\", \"x\": 0.988, \"y\": 0.5}], \"template\": {\"data\": {\"bar\": [{\"error_x\": {\"color\": \"#2a3f5f\"}, \"error_y\": {\"color\": \"#2a3f5f\"}, \"marker\": {\"line\": {\"color\": \"#E5ECF6\", \"width\": 0.5}}, \"type\": \"bar\"}], \"barpolar\": [{\"marker\": {\"line\": {\"color\": \"#E5ECF6\", \"width\": 0.5}}, \"type\": \"barpolar\"}], \"carpet\": [{\"aaxis\": {\"endlinecolor\": \"#2a3f5f\", \"gridcolor\": \"white\", \"linecolor\": \"white\", \"minorgridcolor\": \"white\", \"startlinecolor\": \"#2a3f5f\"}, \"baxis\": {\"endlinecolor\": \"#2a3f5f\", \"gridcolor\": \"white\", \"linecolor\": \"white\", \"minorgridcolor\": \"white\", \"startlinecolor\": \"#2a3f5f\"}, \"type\": \"carpet\"}], \"choropleth\": [{\"colorbar\": {\"outlinewidth\": 0, \"ticks\": \"\"}, \"type\": \"choropleth\"}], \"contour\": [{\"colorbar\": {\"outlinewidth\": 0, \"ticks\": \"\"}, \"colorscale\": [[0.0, \"#0d0887\"], [0.1111111111111111, \"#46039f\"], [0.2222222222222222, \"#7201a8\"], [0.3333333333333333, \"#9c179e\"], [0.4444444444444444, \"#bd3786\"], [0.5555555555555556, \"#d8576b\"], [0.6666666666666666, \"#ed7953\"], [0.7777777777777778, \"#fb9f3a\"], [0.8888888888888888, \"#fdca26\"], [1.0, \"#f0f921\"]], \"type\": \"contour\"}], \"contourcarpet\": [{\"colorbar\": {\"outlinewidth\": 0, \"ticks\": \"\"}, \"type\": \"contourcarpet\"}], \"heatmap\": [{\"colorbar\": {\"outlinewidth\": 0, \"ticks\": \"\"}, \"colorscale\": [[0.0, \"#0d0887\"], [0.1111111111111111, \"#46039f\"], [0.2222222222222222, \"#7201a8\"], [0.3333333333333333, \"#9c179e\"], [0.4444444444444444, \"#bd3786\"], [0.5555555555555556, \"#d8576b\"], [0.6666666666666666, \"#ed7953\"], [0.7777777777777778, \"#fb9f3a\"], [0.8888888888888888, \"#fdca26\"], [1.0, \"#f0f921\"]], \"type\": \"heatmap\"}], \"heatmapgl\": [{\"colorbar\": {\"outlinewidth\": 0, \"ticks\": \"\"}, \"colorscale\": [[0.0, \"#0d0887\"], [0.1111111111111111, \"#46039f\"], [0.2222222222222222, \"#7201a8\"], [0.3333333333333333, \"#9c179e\"], [0.4444444444444444, \"#bd3786\"], [0.5555555555555556, \"#d8576b\"], [0.6666666666666666, \"#ed7953\"], [0.7777777777777778, \"#fb9f3a\"], [0.8888888888888888, \"#fdca26\"], [1.0, \"#f0f921\"]], \"type\": \"heatmapgl\"}], \"histogram\": [{\"marker\": {\"colorbar\": {\"outlinewidth\": 0, \"ticks\": \"\"}}, \"type\": \"histogram\"}], \"histogram2d\": [{\"colorbar\": {\"outlinewidth\": 0, \"ticks\": \"\"}, \"colorscale\": [[0.0, \"#0d0887\"], [0.1111111111111111, \"#46039f\"], [0.2222222222222222, \"#7201a8\"], [0.3333333333333333, \"#9c179e\"], [0.4444444444444444, \"#bd3786\"], [0.5555555555555556, \"#d8576b\"], [0.6666666666666666, \"#ed7953\"], [0.7777777777777778, \"#fb9f3a\"], [0.8888888888888888, \"#fdca26\"], [1.0, \"#f0f921\"]], \"type\": \"histogram2d\"}], \"histogram2dcontour\": [{\"colorbar\": {\"outlinewidth\": 0, \"ticks\": \"\"}, \"colorscale\": [[0.0, \"#0d0887\"], [0.1111111111111111, \"#46039f\"], [0.2222222222222222, \"#7201a8\"], [0.3333333333333333, \"#9c179e\"], [0.4444444444444444, \"#bd3786\"], [0.5555555555555556, \"#d8576b\"], [0.6666666666666666, \"#ed7953\"], [0.7777777777777778, \"#fb9f3a\"], [0.8888888888888888, \"#fdca26\"], [1.0, \"#f0f921\"]], \"type\": \"histogram2dcontour\"}], \"mesh3d\": [{\"colorbar\": {\"outlinewidth\": 0, \"ticks\": \"\"}, \"type\": \"mesh3d\"}], \"parcoords\": [{\"line\": {\"colorbar\": {\"outlinewidth\": 0, \"ticks\": \"\"}}, \"type\": \"parcoords\"}], \"pie\": [{\"automargin\": true, \"type\": \"pie\"}], \"scatter\": [{\"marker\": {\"colorbar\": {\"outlinewidth\": 0, \"ticks\": \"\"}}, \"type\": \"scatter\"}], \"scatter3d\": [{\"line\": {\"colorbar\": {\"outlinewidth\": 0, \"ticks\": \"\"}}, \"marker\": {\"colorbar\": {\"outlinewidth\": 0, \"ticks\": \"\"}}, \"type\": \"scatter3d\"}], \"scattercarpet\": [{\"marker\": {\"colorbar\": {\"outlinewidth\": 0, \"ticks\": \"\"}}, \"type\": \"scattercarpet\"}], \"scattergeo\": [{\"marker\": {\"colorbar\": {\"outlinewidth\": 0, \"ticks\": \"\"}}, \"type\": \"scattergeo\"}], \"scattergl\": [{\"marker\": {\"colorbar\": {\"outlinewidth\": 0, \"ticks\": \"\"}}, \"type\": \"scattergl\"}], \"scattermapbox\": [{\"marker\": {\"colorbar\": {\"outlinewidth\": 0, \"ticks\": \"\"}}, \"type\": \"scattermapbox\"}], \"scatterpolar\": [{\"marker\": {\"colorbar\": {\"outlinewidth\": 0, \"ticks\": \"\"}}, \"type\": \"scatterpolar\"}], \"scatterpolargl\": [{\"marker\": {\"colorbar\": {\"outlinewidth\": 0, \"ticks\": \"\"}}, \"type\": \"scatterpolargl\"}], \"scatterternary\": [{\"marker\": {\"colorbar\": {\"outlinewidth\": 0, \"ticks\": \"\"}}, \"type\": \"scatterternary\"}], \"surface\": [{\"colorbar\": {\"outlinewidth\": 0, \"ticks\": \"\"}, \"colorscale\": [[0.0, \"#0d0887\"], [0.1111111111111111, \"#46039f\"], [0.2222222222222222, \"#7201a8\"], [0.3333333333333333, \"#9c179e\"], [0.4444444444444444, \"#bd3786\"], [0.5555555555555556, \"#d8576b\"], [0.6666666666666666, \"#ed7953\"], [0.7777777777777778, \"#fb9f3a\"], [0.8888888888888888, \"#fdca26\"], [1.0, \"#f0f921\"]], \"type\": \"surface\"}], \"table\": [{\"cells\": {\"fill\": {\"color\": \"#EBF0F8\"}, \"line\": {\"color\": \"white\"}}, \"header\": {\"fill\": {\"color\": \"#C8D4E3\"}, \"line\": {\"color\": \"white\"}}, \"type\": \"table\"}]}, \"layout\": {\"annotationdefaults\": {\"arrowcolor\": \"#2a3f5f\", \"arrowhead\": 0, \"arrowwidth\": 1}, \"autotypenumbers\": \"strict\", \"coloraxis\": {\"colorbar\": {\"outlinewidth\": 0, \"ticks\": \"\"}}, \"colorscale\": {\"diverging\": [[0, \"#8e0152\"], [0.1, \"#c51b7d\"], [0.2, \"#de77ae\"], [0.3, \"#f1b6da\"], [0.4, \"#fde0ef\"], [0.5, \"#f7f7f7\"], [0.6, \"#e6f5d0\"], [0.7, \"#b8e186\"], [0.8, \"#7fbc41\"], [0.9, \"#4d9221\"], [1, \"#276419\"]], \"sequential\": [[0.0, \"#0d0887\"], [0.1111111111111111, \"#46039f\"], [0.2222222222222222, \"#7201a8\"], [0.3333333333333333, \"#9c179e\"], [0.4444444444444444, \"#bd3786\"], [0.5555555555555556, \"#d8576b\"], [0.6666666666666666, \"#ed7953\"], [0.7777777777777778, \"#fb9f3a\"], [0.8888888888888888, \"#fdca26\"], [1.0, \"#f0f921\"]], \"sequentialminus\": [[0.0, \"#0d0887\"], [0.1111111111111111, \"#46039f\"], [0.2222222222222222, \"#7201a8\"], [0.3333333333333333, \"#9c179e\"], [0.4444444444444444, \"#bd3786\"], [0.5555555555555556, \"#d8576b\"], [0.6666666666666666, \"#ed7953\"], [0.7777777777777778, \"#fb9f3a\"], [0.8888888888888888, \"#fdca26\"], [1.0, \"#f0f921\"]]}, \"colorway\": [\"#636efa\", \"#EF553B\", \"#00cc96\", \"#ab63fa\", \"#FFA15A\", \"#19d3f3\", \"#FF6692\", \"#B6E880\", \"#FF97FF\", \"#FECB52\"], \"font\": {\"color\": \"#2a3f5f\"}, \"geo\": {\"bgcolor\": \"white\", \"lakecolor\": \"white\", \"landcolor\": \"#E5ECF6\", \"showlakes\": true, \"showland\": true, \"subunitcolor\": \"white\"}, \"hoverlabel\": {\"align\": \"left\"}, \"hovermode\": \"closest\", \"mapbox\": {\"style\": \"light\"}, \"paper_bgcolor\": \"white\", \"plot_bgcolor\": \"#E5ECF6\", \"polar\": {\"angularaxis\": {\"gridcolor\": \"white\", \"linecolor\": \"white\", \"ticks\": \"\"}, \"bgcolor\": \"#E5ECF6\", \"radialaxis\": {\"gridcolor\": \"white\", \"linecolor\": \"white\", \"ticks\": \"\"}}, \"scene\": {\"xaxis\": {\"backgroundcolor\": \"#E5ECF6\", \"gridcolor\": \"white\", \"gridwidth\": 2, \"linecolor\": \"white\", \"showbackground\": true, \"ticks\": \"\", \"zerolinecolor\": \"white\"}, \"yaxis\": {\"backgroundcolor\": \"#E5ECF6\", \"gridcolor\": \"white\", \"gridwidth\": 2, \"linecolor\": \"white\", \"showbackground\": true, \"ticks\": \"\", \"zerolinecolor\": \"white\"}, \"zaxis\": {\"backgroundcolor\": \"#E5ECF6\", \"gridcolor\": \"white\", \"gridwidth\": 2, \"linecolor\": \"white\", \"showbackground\": true, \"ticks\": \"\", \"zerolinecolor\": \"white\"}}, \"shapedefaults\": {\"line\": {\"color\": \"#2a3f5f\"}}, \"ternary\": {\"aaxis\": {\"gridcolor\": \"white\", \"linecolor\": \"white\", \"ticks\": \"\"}, \"baxis\": {\"gridcolor\": \"white\", \"linecolor\": \"white\", \"ticks\": \"\"}, \"bgcolor\": \"#E5ECF6\", \"caxis\": {\"gridcolor\": \"white\", \"linecolor\": \"white\", \"ticks\": \"\"}}, \"title\": {\"x\": 0.05}, \"xaxis\": {\"automargin\": true, \"gridcolor\": \"white\", \"linecolor\": \"white\", \"ticks\": \"\", \"title\": {\"standoff\": 15}, \"zerolinecolor\": \"white\", \"zerolinewidth\": 2}, \"yaxis\": {\"automargin\": true, \"gridcolor\": \"white\", \"linecolor\": \"white\", \"ticks\": \"\", \"title\": {\"standoff\": 15}, \"zerolinecolor\": \"white\", \"zerolinewidth\": 2}}}},                        {\"responsive\": true}                    ).then(function(){\n",
       "                            \n",
       "var gd = document.getElementById('cd0dc8fe-53a8-4f84-b7a8-8ec2b77517d8');\n",
       "var x = new MutationObserver(function (mutations, observer) {{\n",
       "        var display = window.getComputedStyle(gd).display;\n",
       "        if (!display || display === 'none') {{\n",
       "            console.log([gd, 'removed!']);\n",
       "            Plotly.purge(gd);\n",
       "            observer.disconnect();\n",
       "        }}\n",
       "}});\n",
       "\n",
       "// Listen for the removal of the full notebook cells\n",
       "var notebookContainer = gd.closest('#notebook-container');\n",
       "if (notebookContainer) {{\n",
       "    x.observe(notebookContainer, {childList: true});\n",
       "}}\n",
       "\n",
       "// Listen for the clearing of the current output cell\n",
       "var outputEl = gd.closest('.output');\n",
       "if (outputEl) {{\n",
       "    x.observe(outputEl, {childList: true});\n",
       "}}\n",
       "\n",
       "                        })                };                });            </script>        </div>"
      ]
     },
     "metadata": {},
     "output_type": "display_data"
    }
   ],
   "source": [
    "MissingDataPlot(missingData)"
   ]
  },
  {
   "cell_type": "code",
   "execution_count": 128,
   "metadata": {},
   "outputs": [],
   "source": [
    "data = []\n",
    "\n",
    "for index, row in missingData.iterrows():\n",
    "    data.append(fig.add_trace(go.Pie(labels = names, values = [row[\"Available Data\"], row[\"Missing Data\"]],\n",
    "                         textinfo = \"none\")))"
   ]
  },
  {
   "cell_type": "code",
   "execution_count": 129,
   "metadata": {},
   "outputs": [
    {
     "data": {
      "text/plain": [
       "[Figure({\n",
       "     'data': [{'domain': {'x': [0.0, 0.1388888888888889], 'y': [0.0, 1.0]},\n",
       "               'hole': 0.8,\n",
       "               'hoverinfo': 'label+value',\n",
       "               'labels': [Missing Values, Present Values],\n",
       "               'marker': {'colors': ['#FF800B', '#001024']},\n",
       "               'text': [0.00%],\n",
       "               'textinfo': 'none',\n",
       "               'type': 'pie',\n",
       "               'values': [0, 307]},\n",
       "              {'domain': {'x': [0.17222222222222222, 0.3111111111111111], 'y': [0.0, 1.0]},\n",
       "               'hole': 0.8,\n",
       "               'hoverinfo': 'label+value',\n",
       "               'labels': [Missing Values, Present Values],\n",
       "               'marker': {'colors': ['#FF800B', '#001024']},\n",
       "               'text': [0.00%],\n",
       "               'textinfo': 'none',\n",
       "               'type': 'pie',\n",
       "               'values': [0, 307]},\n",
       "              {'domain': {'x': [0.34444444444444444, 0.48333333333333334], 'y': [0.0, 1.0]},\n",
       "               'hole': 0.8,\n",
       "               'hoverinfo': 'label+value',\n",
       "               'labels': [Missing Values, Present Values],\n",
       "               'marker': {'colors': ['#FF800B', '#001024']},\n",
       "               'text': [0.00%],\n",
       "               'textinfo': 'none',\n",
       "               'type': 'pie',\n",
       "               'values': [0, 307]},\n",
       "              {'domain': {'x': [0.5166666666666667, 0.6555555555555557], 'y': [0.0, 1.0]},\n",
       "               'hole': 0.8,\n",
       "               'hoverinfo': 'label+value',\n",
       "               'labels': [Missing Values, Present Values],\n",
       "               'marker': {'colors': ['#FF800B', '#001024']},\n",
       "               'text': [0.00%],\n",
       "               'textinfo': 'none',\n",
       "               'type': 'pie',\n",
       "               'values': [0, 307]},\n",
       "              {'domain': {'x': [0.6888888888888889, 0.8277777777777777], 'y': [0.0, 1.0]},\n",
       "               'hole': 0.8,\n",
       "               'hoverinfo': 'label+value',\n",
       "               'labels': [Missing Values, Present Values],\n",
       "               'marker': {'colors': ['#FF800B', '#001024']},\n",
       "               'text': [32.76%],\n",
       "               'textinfo': 'none',\n",
       "               'type': 'pie',\n",
       "               'values': [76, 155]},\n",
       "              {'domain': {'x': [0.861111111111111, 1.0], 'y': [0.0, 1.0]},\n",
       "               'hole': 0.8,\n",
       "               'hoverinfo': 'label+value',\n",
       "               'labels': [Missing Values, Present Values],\n",
       "               'marker': {'colors': ['#FF800B', '#001024']},\n",
       "               'text': [32.90%],\n",
       "               'textinfo': 'none',\n",
       "               'type': 'pie',\n",
       "               'values': [76, 155]},\n",
       "              {'domain': {'x': [0.861111111111111, 1.0], 'y': [0.0, 1.0]},\n",
       "               'hole': 0.8,\n",
       "               'hoverinfo': 'label+value',\n",
       "               'labels': [Missing Values, Present Values],\n",
       "               'marker': {'colors': ['#FF800B', '#001024']},\n",
       "               'text': [32.47%],\n",
       "               'textinfo': 'none',\n",
       "               'type': 'pie',\n",
       "               'values': [75, 157]},\n",
       "              {'labels': ['Missing Values', 'Present Values'], 'textinfo': 'none', 'type': 'pie', 'values': [307, 0]},\n",
       "              {'labels': ['Missing Values', 'Present Values'], 'textinfo': 'none', 'type': 'pie', 'values': [307, 0]},\n",
       "              {'labels': ['Missing Values', 'Present Values'], 'textinfo': 'none', 'type': 'pie', 'values': [307, 0]},\n",
       "              {'labels': ['Missing Values', 'Present Values'], 'textinfo': 'none', 'type': 'pie', 'values': [307, 0]},\n",
       "              {'labels': ['Missing Values', 'Present Values'], 'textinfo': 'none', 'type': 'pie', 'values': [231, 76]},\n",
       "              {'labels': ['Missing Values', 'Present Values'], 'textinfo': 'none', 'type': 'pie', 'values': [231, 76]},\n",
       "              {'labels': ['Missing Values', 'Present Values'], 'textinfo': 'none', 'type': 'pie', 'values': [232, 75]},\n",
       "              {'labels': ['Missing Values', 'Present Values'], 'textinfo': 'none', 'type': 'pie', 'values': [307, 0]},\n",
       "              {'labels': ['Missing Values', 'Present Values'], 'textinfo': 'none', 'type': 'pie', 'values': [307, 0]},\n",
       "              {'labels': ['Missing Values', 'Present Values'], 'textinfo': 'none', 'type': 'pie', 'values': [307, 0]},\n",
       "              {'labels': ['Missing Values', 'Present Values'], 'textinfo': 'none', 'type': 'pie', 'values': [307, 0]},\n",
       "              {'labels': ['Missing Values', 'Present Values'], 'textinfo': 'none', 'type': 'pie', 'values': [231, 76]},\n",
       "              {'labels': ['Missing Values', 'Present Values'], 'textinfo': 'none', 'type': 'pie', 'values': [231, 76]},\n",
       "              {'labels': ['Missing Values', 'Present Values'], 'textinfo': 'none', 'type': 'pie', 'values': [232, 75]}],\n",
       "     'layout': {'annotations': [{'font': {'size': 16},\n",
       "                                 'showarrow': False,\n",
       "                                 'text': 'Date',\n",
       "                                 'x': 0.06944444444444445,\n",
       "                                 'xanchor': 'center',\n",
       "                                 'xref': 'paper',\n",
       "                                 'y': 1.0,\n",
       "                                 'yanchor': 'bottom',\n",
       "                                 'yref': 'paper'},\n",
       "                                {'font': {'size': 16},\n",
       "                                 'showarrow': False,\n",
       "                                 'text': 'Total Cases',\n",
       "                                 'x': 0.24166666666666667,\n",
       "                                 'xanchor': 'center',\n",
       "                                 'xref': 'paper',\n",
       "                                 'y': 1.0,\n",
       "                                 'yanchor': 'bottom',\n",
       "                                 'yref': 'paper'},\n",
       "                                {'font': {'size': 16},\n",
       "                                 'showarrow': False,\n",
       "                                 'text': 'your text here',\n",
       "                                 'x': 0.5,\n",
       "                                 'xanchor': 'center',\n",
       "                                 'xref': 'paper',\n",
       "                                 'y': 0.5,\n",
       "                                 'yanchor': 'bottom',\n",
       "                                 'yref': 'paper'},\n",
       "                                {'font': {'size': 16},\n",
       "                                 'showarrow': False,\n",
       "                                 'text': 'Population',\n",
       "                                 'x': 0.5861111111111112,\n",
       "                                 'xanchor': 'center',\n",
       "                                 'xref': 'paper',\n",
       "                                 'y': 1.0,\n",
       "                                 'yanchor': 'bottom',\n",
       "                                 'yref': 'paper'},\n",
       "                                {'font': {'size': 16},\n",
       "                                 'showarrow': False,\n",
       "                                 'text': 'Number of Recovered People',\n",
       "                                 'x': 0.7583333333333333,\n",
       "                                 'xanchor': 'center',\n",
       "                                 'xref': 'paper',\n",
       "                                 'y': 1.0,\n",
       "                                 'yanchor': 'bottom',\n",
       "                                 'yref': 'paper'},\n",
       "                                {'font': {'size': 16},\n",
       "                                 'showarrow': False,\n",
       "                                 'text': 'Number of Tested People',\n",
       "                                 'x': 0.9305555555555556,\n",
       "                                 'xanchor': 'center',\n",
       "                                 'xref': 'paper',\n",
       "                                 'y': 1.0,\n",
       "                                 'yanchor': 'bottom',\n",
       "                                 'yref': 'paper'},\n",
       "                                {'font': {'size': 20}, 'showarrow': False, 'text': '0.00%', 'x': 0, 'y': 0.5},\n",
       "                                {'font': {'size': 20}, 'showarrow': False, 'text': '0.00%', 'x': 0.2, 'y': 0.5},\n",
       "                                {'font': {'size': 20}, 'showarrow': False, 'text': '0.00%', 'x': 0.91, 'y': 0.5},\n",
       "                                {'font': {'size': 20}, 'showarrow': False, 'text': '0.00%', 'x': 0.1, 'y': 0.5},\n",
       "                                {'font': {'size': 20}, 'showarrow': False, 'text': '32.76%', 'x': 0.5, 'y': 0.5},\n",
       "                                {'font': {'size': 20}, 'showarrow': False, 'text': '32.90%', 'x': 0.91, 'y': 0.5},\n",
       "                                {'font': {'size': 20}, 'showarrow': False, 'text': '32.47%', 'x': 0.91, 'y': 0.5}],\n",
       "                'template': '...',\n",
       "                'title': {'text': ('Missing Valus for the columns ' ... 'e of Ministry of Civil Affairs')}}\n",
       " }),\n",
       " Figure({\n",
       "     'data': [{'domain': {'x': [0.0, 0.1388888888888889], 'y': [0.0, 1.0]},\n",
       "               'hole': 0.8,\n",
       "               'hoverinfo': 'label+value',\n",
       "               'labels': [Missing Values, Present Values],\n",
       "               'marker': {'colors': ['#FF800B', '#001024']},\n",
       "               'text': [0.00%],\n",
       "               'textinfo': 'none',\n",
       "               'type': 'pie',\n",
       "               'values': [0, 307]},\n",
       "              {'domain': {'x': [0.17222222222222222, 0.3111111111111111], 'y': [0.0, 1.0]},\n",
       "               'hole': 0.8,\n",
       "               'hoverinfo': 'label+value',\n",
       "               'labels': [Missing Values, Present Values],\n",
       "               'marker': {'colors': ['#FF800B', '#001024']},\n",
       "               'text': [0.00%],\n",
       "               'textinfo': 'none',\n",
       "               'type': 'pie',\n",
       "               'values': [0, 307]},\n",
       "              {'domain': {'x': [0.34444444444444444, 0.48333333333333334], 'y': [0.0, 1.0]},\n",
       "               'hole': 0.8,\n",
       "               'hoverinfo': 'label+value',\n",
       "               'labels': [Missing Values, Present Values],\n",
       "               'marker': {'colors': ['#FF800B', '#001024']},\n",
       "               'text': [0.00%],\n",
       "               'textinfo': 'none',\n",
       "               'type': 'pie',\n",
       "               'values': [0, 307]},\n",
       "              {'domain': {'x': [0.5166666666666667, 0.6555555555555557], 'y': [0.0, 1.0]},\n",
       "               'hole': 0.8,\n",
       "               'hoverinfo': 'label+value',\n",
       "               'labels': [Missing Values, Present Values],\n",
       "               'marker': {'colors': ['#FF800B', '#001024']},\n",
       "               'text': [0.00%],\n",
       "               'textinfo': 'none',\n",
       "               'type': 'pie',\n",
       "               'values': [0, 307]},\n",
       "              {'domain': {'x': [0.6888888888888889, 0.8277777777777777], 'y': [0.0, 1.0]},\n",
       "               'hole': 0.8,\n",
       "               'hoverinfo': 'label+value',\n",
       "               'labels': [Missing Values, Present Values],\n",
       "               'marker': {'colors': ['#FF800B', '#001024']},\n",
       "               'text': [32.76%],\n",
       "               'textinfo': 'none',\n",
       "               'type': 'pie',\n",
       "               'values': [76, 155]},\n",
       "              {'domain': {'x': [0.861111111111111, 1.0], 'y': [0.0, 1.0]},\n",
       "               'hole': 0.8,\n",
       "               'hoverinfo': 'label+value',\n",
       "               'labels': [Missing Values, Present Values],\n",
       "               'marker': {'colors': ['#FF800B', '#001024']},\n",
       "               'text': [32.90%],\n",
       "               'textinfo': 'none',\n",
       "               'type': 'pie',\n",
       "               'values': [76, 155]},\n",
       "              {'domain': {'x': [0.861111111111111, 1.0], 'y': [0.0, 1.0]},\n",
       "               'hole': 0.8,\n",
       "               'hoverinfo': 'label+value',\n",
       "               'labels': [Missing Values, Present Values],\n",
       "               'marker': {'colors': ['#FF800B', '#001024']},\n",
       "               'text': [32.47%],\n",
       "               'textinfo': 'none',\n",
       "               'type': 'pie',\n",
       "               'values': [75, 157]},\n",
       "              {'labels': ['Missing Values', 'Present Values'], 'textinfo': 'none', 'type': 'pie', 'values': [307, 0]},\n",
       "              {'labels': ['Missing Values', 'Present Values'], 'textinfo': 'none', 'type': 'pie', 'values': [307, 0]},\n",
       "              {'labels': ['Missing Values', 'Present Values'], 'textinfo': 'none', 'type': 'pie', 'values': [307, 0]},\n",
       "              {'labels': ['Missing Values', 'Present Values'], 'textinfo': 'none', 'type': 'pie', 'values': [307, 0]},\n",
       "              {'labels': ['Missing Values', 'Present Values'], 'textinfo': 'none', 'type': 'pie', 'values': [231, 76]},\n",
       "              {'labels': ['Missing Values', 'Present Values'], 'textinfo': 'none', 'type': 'pie', 'values': [231, 76]},\n",
       "              {'labels': ['Missing Values', 'Present Values'], 'textinfo': 'none', 'type': 'pie', 'values': [232, 75]},\n",
       "              {'labels': ['Missing Values', 'Present Values'], 'textinfo': 'none', 'type': 'pie', 'values': [307, 0]},\n",
       "              {'labels': ['Missing Values', 'Present Values'], 'textinfo': 'none', 'type': 'pie', 'values': [307, 0]},\n",
       "              {'labels': ['Missing Values', 'Present Values'], 'textinfo': 'none', 'type': 'pie', 'values': [307, 0]},\n",
       "              {'labels': ['Missing Values', 'Present Values'], 'textinfo': 'none', 'type': 'pie', 'values': [307, 0]},\n",
       "              {'labels': ['Missing Values', 'Present Values'], 'textinfo': 'none', 'type': 'pie', 'values': [231, 76]},\n",
       "              {'labels': ['Missing Values', 'Present Values'], 'textinfo': 'none', 'type': 'pie', 'values': [231, 76]},\n",
       "              {'labels': ['Missing Values', 'Present Values'], 'textinfo': 'none', 'type': 'pie', 'values': [232, 75]}],\n",
       "     'layout': {'annotations': [{'font': {'size': 16},\n",
       "                                 'showarrow': False,\n",
       "                                 'text': 'Date',\n",
       "                                 'x': 0.06944444444444445,\n",
       "                                 'xanchor': 'center',\n",
       "                                 'xref': 'paper',\n",
       "                                 'y': 1.0,\n",
       "                                 'yanchor': 'bottom',\n",
       "                                 'yref': 'paper'},\n",
       "                                {'font': {'size': 16},\n",
       "                                 'showarrow': False,\n",
       "                                 'text': 'Total Cases',\n",
       "                                 'x': 0.24166666666666667,\n",
       "                                 'xanchor': 'center',\n",
       "                                 'xref': 'paper',\n",
       "                                 'y': 1.0,\n",
       "                                 'yanchor': 'bottom',\n",
       "                                 'yref': 'paper'},\n",
       "                                {'font': {'size': 16},\n",
       "                                 'showarrow': False,\n",
       "                                 'text': 'your text here',\n",
       "                                 'x': 0.5,\n",
       "                                 'xanchor': 'center',\n",
       "                                 'xref': 'paper',\n",
       "                                 'y': 0.5,\n",
       "                                 'yanchor': 'bottom',\n",
       "                                 'yref': 'paper'},\n",
       "                                {'font': {'size': 16},\n",
       "                                 'showarrow': False,\n",
       "                                 'text': 'Population',\n",
       "                                 'x': 0.5861111111111112,\n",
       "                                 'xanchor': 'center',\n",
       "                                 'xref': 'paper',\n",
       "                                 'y': 1.0,\n",
       "                                 'yanchor': 'bottom',\n",
       "                                 'yref': 'paper'},\n",
       "                                {'font': {'size': 16},\n",
       "                                 'showarrow': False,\n",
       "                                 'text': 'Number of Recovered People',\n",
       "                                 'x': 0.7583333333333333,\n",
       "                                 'xanchor': 'center',\n",
       "                                 'xref': 'paper',\n",
       "                                 'y': 1.0,\n",
       "                                 'yanchor': 'bottom',\n",
       "                                 'yref': 'paper'},\n",
       "                                {'font': {'size': 16},\n",
       "                                 'showarrow': False,\n",
       "                                 'text': 'Number of Tested People',\n",
       "                                 'x': 0.9305555555555556,\n",
       "                                 'xanchor': 'center',\n",
       "                                 'xref': 'paper',\n",
       "                                 'y': 1.0,\n",
       "                                 'yanchor': 'bottom',\n",
       "                                 'yref': 'paper'},\n",
       "                                {'font': {'size': 20}, 'showarrow': False, 'text': '0.00%', 'x': 0, 'y': 0.5},\n",
       "                                {'font': {'size': 20}, 'showarrow': False, 'text': '0.00%', 'x': 0.2, 'y': 0.5},\n",
       "                                {'font': {'size': 20}, 'showarrow': False, 'text': '0.00%', 'x': 0.91, 'y': 0.5},\n",
       "                                {'font': {'size': 20}, 'showarrow': False, 'text': '0.00%', 'x': 0.1, 'y': 0.5},\n",
       "                                {'font': {'size': 20}, 'showarrow': False, 'text': '32.76%', 'x': 0.5, 'y': 0.5},\n",
       "                                {'font': {'size': 20}, 'showarrow': False, 'text': '32.90%', 'x': 0.91, 'y': 0.5},\n",
       "                                {'font': {'size': 20}, 'showarrow': False, 'text': '32.47%', 'x': 0.91, 'y': 0.5}],\n",
       "                'template': '...',\n",
       "                'title': {'text': ('Missing Valus for the columns ' ... 'e of Ministry of Civil Affairs')}}\n",
       " }),\n",
       " Figure({\n",
       "     'data': [{'domain': {'x': [0.0, 0.1388888888888889], 'y': [0.0, 1.0]},\n",
       "               'hole': 0.8,\n",
       "               'hoverinfo': 'label+value',\n",
       "               'labels': [Missing Values, Present Values],\n",
       "               'marker': {'colors': ['#FF800B', '#001024']},\n",
       "               'text': [0.00%],\n",
       "               'textinfo': 'none',\n",
       "               'type': 'pie',\n",
       "               'values': [0, 307]},\n",
       "              {'domain': {'x': [0.17222222222222222, 0.3111111111111111], 'y': [0.0, 1.0]},\n",
       "               'hole': 0.8,\n",
       "               'hoverinfo': 'label+value',\n",
       "               'labels': [Missing Values, Present Values],\n",
       "               'marker': {'colors': ['#FF800B', '#001024']},\n",
       "               'text': [0.00%],\n",
       "               'textinfo': 'none',\n",
       "               'type': 'pie',\n",
       "               'values': [0, 307]},\n",
       "              {'domain': {'x': [0.34444444444444444, 0.48333333333333334], 'y': [0.0, 1.0]},\n",
       "               'hole': 0.8,\n",
       "               'hoverinfo': 'label+value',\n",
       "               'labels': [Missing Values, Present Values],\n",
       "               'marker': {'colors': ['#FF800B', '#001024']},\n",
       "               'text': [0.00%],\n",
       "               'textinfo': 'none',\n",
       "               'type': 'pie',\n",
       "               'values': [0, 307]},\n",
       "              {'domain': {'x': [0.5166666666666667, 0.6555555555555557], 'y': [0.0, 1.0]},\n",
       "               'hole': 0.8,\n",
       "               'hoverinfo': 'label+value',\n",
       "               'labels': [Missing Values, Present Values],\n",
       "               'marker': {'colors': ['#FF800B', '#001024']},\n",
       "               'text': [0.00%],\n",
       "               'textinfo': 'none',\n",
       "               'type': 'pie',\n",
       "               'values': [0, 307]},\n",
       "              {'domain': {'x': [0.6888888888888889, 0.8277777777777777], 'y': [0.0, 1.0]},\n",
       "               'hole': 0.8,\n",
       "               'hoverinfo': 'label+value',\n",
       "               'labels': [Missing Values, Present Values],\n",
       "               'marker': {'colors': ['#FF800B', '#001024']},\n",
       "               'text': [32.76%],\n",
       "               'textinfo': 'none',\n",
       "               'type': 'pie',\n",
       "               'values': [76, 155]},\n",
       "              {'domain': {'x': [0.861111111111111, 1.0], 'y': [0.0, 1.0]},\n",
       "               'hole': 0.8,\n",
       "               'hoverinfo': 'label+value',\n",
       "               'labels': [Missing Values, Present Values],\n",
       "               'marker': {'colors': ['#FF800B', '#001024']},\n",
       "               'text': [32.90%],\n",
       "               'textinfo': 'none',\n",
       "               'type': 'pie',\n",
       "               'values': [76, 155]},\n",
       "              {'domain': {'x': [0.861111111111111, 1.0], 'y': [0.0, 1.0]},\n",
       "               'hole': 0.8,\n",
       "               'hoverinfo': 'label+value',\n",
       "               'labels': [Missing Values, Present Values],\n",
       "               'marker': {'colors': ['#FF800B', '#001024']},\n",
       "               'text': [32.47%],\n",
       "               'textinfo': 'none',\n",
       "               'type': 'pie',\n",
       "               'values': [75, 157]},\n",
       "              {'labels': ['Missing Values', 'Present Values'], 'textinfo': 'none', 'type': 'pie', 'values': [307, 0]},\n",
       "              {'labels': ['Missing Values', 'Present Values'], 'textinfo': 'none', 'type': 'pie', 'values': [307, 0]},\n",
       "              {'labels': ['Missing Values', 'Present Values'], 'textinfo': 'none', 'type': 'pie', 'values': [307, 0]},\n",
       "              {'labels': ['Missing Values', 'Present Values'], 'textinfo': 'none', 'type': 'pie', 'values': [307, 0]},\n",
       "              {'labels': ['Missing Values', 'Present Values'], 'textinfo': 'none', 'type': 'pie', 'values': [231, 76]},\n",
       "              {'labels': ['Missing Values', 'Present Values'], 'textinfo': 'none', 'type': 'pie', 'values': [231, 76]},\n",
       "              {'labels': ['Missing Values', 'Present Values'], 'textinfo': 'none', 'type': 'pie', 'values': [232, 75]},\n",
       "              {'labels': ['Missing Values', 'Present Values'], 'textinfo': 'none', 'type': 'pie', 'values': [307, 0]},\n",
       "              {'labels': ['Missing Values', 'Present Values'], 'textinfo': 'none', 'type': 'pie', 'values': [307, 0]},\n",
       "              {'labels': ['Missing Values', 'Present Values'], 'textinfo': 'none', 'type': 'pie', 'values': [307, 0]},\n",
       "              {'labels': ['Missing Values', 'Present Values'], 'textinfo': 'none', 'type': 'pie', 'values': [307, 0]},\n",
       "              {'labels': ['Missing Values', 'Present Values'], 'textinfo': 'none', 'type': 'pie', 'values': [231, 76]},\n",
       "              {'labels': ['Missing Values', 'Present Values'], 'textinfo': 'none', 'type': 'pie', 'values': [231, 76]},\n",
       "              {'labels': ['Missing Values', 'Present Values'], 'textinfo': 'none', 'type': 'pie', 'values': [232, 75]}],\n",
       "     'layout': {'annotations': [{'font': {'size': 16},\n",
       "                                 'showarrow': False,\n",
       "                                 'text': 'Date',\n",
       "                                 'x': 0.06944444444444445,\n",
       "                                 'xanchor': 'center',\n",
       "                                 'xref': 'paper',\n",
       "                                 'y': 1.0,\n",
       "                                 'yanchor': 'bottom',\n",
       "                                 'yref': 'paper'},\n",
       "                                {'font': {'size': 16},\n",
       "                                 'showarrow': False,\n",
       "                                 'text': 'Total Cases',\n",
       "                                 'x': 0.24166666666666667,\n",
       "                                 'xanchor': 'center',\n",
       "                                 'xref': 'paper',\n",
       "                                 'y': 1.0,\n",
       "                                 'yanchor': 'bottom',\n",
       "                                 'yref': 'paper'},\n",
       "                                {'font': {'size': 16},\n",
       "                                 'showarrow': False,\n",
       "                                 'text': 'your text here',\n",
       "                                 'x': 0.5,\n",
       "                                 'xanchor': 'center',\n",
       "                                 'xref': 'paper',\n",
       "                                 'y': 0.5,\n",
       "                                 'yanchor': 'bottom',\n",
       "                                 'yref': 'paper'},\n",
       "                                {'font': {'size': 16},\n",
       "                                 'showarrow': False,\n",
       "                                 'text': 'Population',\n",
       "                                 'x': 0.5861111111111112,\n",
       "                                 'xanchor': 'center',\n",
       "                                 'xref': 'paper',\n",
       "                                 'y': 1.0,\n",
       "                                 'yanchor': 'bottom',\n",
       "                                 'yref': 'paper'},\n",
       "                                {'font': {'size': 16},\n",
       "                                 'showarrow': False,\n",
       "                                 'text': 'Number of Recovered People',\n",
       "                                 'x': 0.7583333333333333,\n",
       "                                 'xanchor': 'center',\n",
       "                                 'xref': 'paper',\n",
       "                                 'y': 1.0,\n",
       "                                 'yanchor': 'bottom',\n",
       "                                 'yref': 'paper'},\n",
       "                                {'font': {'size': 16},\n",
       "                                 'showarrow': False,\n",
       "                                 'text': 'Number of Tested People',\n",
       "                                 'x': 0.9305555555555556,\n",
       "                                 'xanchor': 'center',\n",
       "                                 'xref': 'paper',\n",
       "                                 'y': 1.0,\n",
       "                                 'yanchor': 'bottom',\n",
       "                                 'yref': 'paper'},\n",
       "                                {'font': {'size': 20}, 'showarrow': False, 'text': '0.00%', 'x': 0, 'y': 0.5},\n",
       "                                {'font': {'size': 20}, 'showarrow': False, 'text': '0.00%', 'x': 0.2, 'y': 0.5},\n",
       "                                {'font': {'size': 20}, 'showarrow': False, 'text': '0.00%', 'x': 0.91, 'y': 0.5},\n",
       "                                {'font': {'size': 20}, 'showarrow': False, 'text': '0.00%', 'x': 0.1, 'y': 0.5},\n",
       "                                {'font': {'size': 20}, 'showarrow': False, 'text': '32.76%', 'x': 0.5, 'y': 0.5},\n",
       "                                {'font': {'size': 20}, 'showarrow': False, 'text': '32.90%', 'x': 0.91, 'y': 0.5},\n",
       "                                {'font': {'size': 20}, 'showarrow': False, 'text': '32.47%', 'x': 0.91, 'y': 0.5}],\n",
       "                'template': '...',\n",
       "                'title': {'text': ('Missing Valus for the columns ' ... 'e of Ministry of Civil Affairs')}}\n",
       " }),\n",
       " Figure({\n",
       "     'data': [{'domain': {'x': [0.0, 0.1388888888888889], 'y': [0.0, 1.0]},\n",
       "               'hole': 0.8,\n",
       "               'hoverinfo': 'label+value',\n",
       "               'labels': [Missing Values, Present Values],\n",
       "               'marker': {'colors': ['#FF800B', '#001024']},\n",
       "               'text': [0.00%],\n",
       "               'textinfo': 'none',\n",
       "               'type': 'pie',\n",
       "               'values': [0, 307]},\n",
       "              {'domain': {'x': [0.17222222222222222, 0.3111111111111111], 'y': [0.0, 1.0]},\n",
       "               'hole': 0.8,\n",
       "               'hoverinfo': 'label+value',\n",
       "               'labels': [Missing Values, Present Values],\n",
       "               'marker': {'colors': ['#FF800B', '#001024']},\n",
       "               'text': [0.00%],\n",
       "               'textinfo': 'none',\n",
       "               'type': 'pie',\n",
       "               'values': [0, 307]},\n",
       "              {'domain': {'x': [0.34444444444444444, 0.48333333333333334], 'y': [0.0, 1.0]},\n",
       "               'hole': 0.8,\n",
       "               'hoverinfo': 'label+value',\n",
       "               'labels': [Missing Values, Present Values],\n",
       "               'marker': {'colors': ['#FF800B', '#001024']},\n",
       "               'text': [0.00%],\n",
       "               'textinfo': 'none',\n",
       "               'type': 'pie',\n",
       "               'values': [0, 307]},\n",
       "              {'domain': {'x': [0.5166666666666667, 0.6555555555555557], 'y': [0.0, 1.0]},\n",
       "               'hole': 0.8,\n",
       "               'hoverinfo': 'label+value',\n",
       "               'labels': [Missing Values, Present Values],\n",
       "               'marker': {'colors': ['#FF800B', '#001024']},\n",
       "               'text': [0.00%],\n",
       "               'textinfo': 'none',\n",
       "               'type': 'pie',\n",
       "               'values': [0, 307]},\n",
       "              {'domain': {'x': [0.6888888888888889, 0.8277777777777777], 'y': [0.0, 1.0]},\n",
       "               'hole': 0.8,\n",
       "               'hoverinfo': 'label+value',\n",
       "               'labels': [Missing Values, Present Values],\n",
       "               'marker': {'colors': ['#FF800B', '#001024']},\n",
       "               'text': [32.76%],\n",
       "               'textinfo': 'none',\n",
       "               'type': 'pie',\n",
       "               'values': [76, 155]},\n",
       "              {'domain': {'x': [0.861111111111111, 1.0], 'y': [0.0, 1.0]},\n",
       "               'hole': 0.8,\n",
       "               'hoverinfo': 'label+value',\n",
       "               'labels': [Missing Values, Present Values],\n",
       "               'marker': {'colors': ['#FF800B', '#001024']},\n",
       "               'text': [32.90%],\n",
       "               'textinfo': 'none',\n",
       "               'type': 'pie',\n",
       "               'values': [76, 155]},\n",
       "              {'domain': {'x': [0.861111111111111, 1.0], 'y': [0.0, 1.0]},\n",
       "               'hole': 0.8,\n",
       "               'hoverinfo': 'label+value',\n",
       "               'labels': [Missing Values, Present Values],\n",
       "               'marker': {'colors': ['#FF800B', '#001024']},\n",
       "               'text': [32.47%],\n",
       "               'textinfo': 'none',\n",
       "               'type': 'pie',\n",
       "               'values': [75, 157]},\n",
       "              {'labels': ['Missing Values', 'Present Values'], 'textinfo': 'none', 'type': 'pie', 'values': [307, 0]},\n",
       "              {'labels': ['Missing Values', 'Present Values'], 'textinfo': 'none', 'type': 'pie', 'values': [307, 0]},\n",
       "              {'labels': ['Missing Values', 'Present Values'], 'textinfo': 'none', 'type': 'pie', 'values': [307, 0]},\n",
       "              {'labels': ['Missing Values', 'Present Values'], 'textinfo': 'none', 'type': 'pie', 'values': [307, 0]},\n",
       "              {'labels': ['Missing Values', 'Present Values'], 'textinfo': 'none', 'type': 'pie', 'values': [231, 76]},\n",
       "              {'labels': ['Missing Values', 'Present Values'], 'textinfo': 'none', 'type': 'pie', 'values': [231, 76]},\n",
       "              {'labels': ['Missing Values', 'Present Values'], 'textinfo': 'none', 'type': 'pie', 'values': [232, 75]},\n",
       "              {'labels': ['Missing Values', 'Present Values'], 'textinfo': 'none', 'type': 'pie', 'values': [307, 0]},\n",
       "              {'labels': ['Missing Values', 'Present Values'], 'textinfo': 'none', 'type': 'pie', 'values': [307, 0]},\n",
       "              {'labels': ['Missing Values', 'Present Values'], 'textinfo': 'none', 'type': 'pie', 'values': [307, 0]},\n",
       "              {'labels': ['Missing Values', 'Present Values'], 'textinfo': 'none', 'type': 'pie', 'values': [307, 0]},\n",
       "              {'labels': ['Missing Values', 'Present Values'], 'textinfo': 'none', 'type': 'pie', 'values': [231, 76]},\n",
       "              {'labels': ['Missing Values', 'Present Values'], 'textinfo': 'none', 'type': 'pie', 'values': [231, 76]},\n",
       "              {'labels': ['Missing Values', 'Present Values'], 'textinfo': 'none', 'type': 'pie', 'values': [232, 75]}],\n",
       "     'layout': {'annotations': [{'font': {'size': 16},\n",
       "                                 'showarrow': False,\n",
       "                                 'text': 'Date',\n",
       "                                 'x': 0.06944444444444445,\n",
       "                                 'xanchor': 'center',\n",
       "                                 'xref': 'paper',\n",
       "                                 'y': 1.0,\n",
       "                                 'yanchor': 'bottom',\n",
       "                                 'yref': 'paper'},\n",
       "                                {'font': {'size': 16},\n",
       "                                 'showarrow': False,\n",
       "                                 'text': 'Total Cases',\n",
       "                                 'x': 0.24166666666666667,\n",
       "                                 'xanchor': 'center',\n",
       "                                 'xref': 'paper',\n",
       "                                 'y': 1.0,\n",
       "                                 'yanchor': 'bottom',\n",
       "                                 'yref': 'paper'},\n",
       "                                {'font': {'size': 16},\n",
       "                                 'showarrow': False,\n",
       "                                 'text': 'your text here',\n",
       "                                 'x': 0.5,\n",
       "                                 'xanchor': 'center',\n",
       "                                 'xref': 'paper',\n",
       "                                 'y': 0.5,\n",
       "                                 'yanchor': 'bottom',\n",
       "                                 'yref': 'paper'},\n",
       "                                {'font': {'size': 16},\n",
       "                                 'showarrow': False,\n",
       "                                 'text': 'Population',\n",
       "                                 'x': 0.5861111111111112,\n",
       "                                 'xanchor': 'center',\n",
       "                                 'xref': 'paper',\n",
       "                                 'y': 1.0,\n",
       "                                 'yanchor': 'bottom',\n",
       "                                 'yref': 'paper'},\n",
       "                                {'font': {'size': 16},\n",
       "                                 'showarrow': False,\n",
       "                                 'text': 'Number of Recovered People',\n",
       "                                 'x': 0.7583333333333333,\n",
       "                                 'xanchor': 'center',\n",
       "                                 'xref': 'paper',\n",
       "                                 'y': 1.0,\n",
       "                                 'yanchor': 'bottom',\n",
       "                                 'yref': 'paper'},\n",
       "                                {'font': {'size': 16},\n",
       "                                 'showarrow': False,\n",
       "                                 'text': 'Number of Tested People',\n",
       "                                 'x': 0.9305555555555556,\n",
       "                                 'xanchor': 'center',\n",
       "                                 'xref': 'paper',\n",
       "                                 'y': 1.0,\n",
       "                                 'yanchor': 'bottom',\n",
       "                                 'yref': 'paper'},\n",
       "                                {'font': {'size': 20}, 'showarrow': False, 'text': '0.00%', 'x': 0, 'y': 0.5},\n",
       "                                {'font': {'size': 20}, 'showarrow': False, 'text': '0.00%', 'x': 0.2, 'y': 0.5},\n",
       "                                {'font': {'size': 20}, 'showarrow': False, 'text': '0.00%', 'x': 0.91, 'y': 0.5},\n",
       "                                {'font': {'size': 20}, 'showarrow': False, 'text': '0.00%', 'x': 0.1, 'y': 0.5},\n",
       "                                {'font': {'size': 20}, 'showarrow': False, 'text': '32.76%', 'x': 0.5, 'y': 0.5},\n",
       "                                {'font': {'size': 20}, 'showarrow': False, 'text': '32.90%', 'x': 0.91, 'y': 0.5},\n",
       "                                {'font': {'size': 20}, 'showarrow': False, 'text': '32.47%', 'x': 0.91, 'y': 0.5}],\n",
       "                'template': '...',\n",
       "                'title': {'text': ('Missing Valus for the columns ' ... 'e of Ministry of Civil Affairs')}}\n",
       " }),\n",
       " Figure({\n",
       "     'data': [{'domain': {'x': [0.0, 0.1388888888888889], 'y': [0.0, 1.0]},\n",
       "               'hole': 0.8,\n",
       "               'hoverinfo': 'label+value',\n",
       "               'labels': [Missing Values, Present Values],\n",
       "               'marker': {'colors': ['#FF800B', '#001024']},\n",
       "               'text': [0.00%],\n",
       "               'textinfo': 'none',\n",
       "               'type': 'pie',\n",
       "               'values': [0, 307]},\n",
       "              {'domain': {'x': [0.17222222222222222, 0.3111111111111111], 'y': [0.0, 1.0]},\n",
       "               'hole': 0.8,\n",
       "               'hoverinfo': 'label+value',\n",
       "               'labels': [Missing Values, Present Values],\n",
       "               'marker': {'colors': ['#FF800B', '#001024']},\n",
       "               'text': [0.00%],\n",
       "               'textinfo': 'none',\n",
       "               'type': 'pie',\n",
       "               'values': [0, 307]},\n",
       "              {'domain': {'x': [0.34444444444444444, 0.48333333333333334], 'y': [0.0, 1.0]},\n",
       "               'hole': 0.8,\n",
       "               'hoverinfo': 'label+value',\n",
       "               'labels': [Missing Values, Present Values],\n",
       "               'marker': {'colors': ['#FF800B', '#001024']},\n",
       "               'text': [0.00%],\n",
       "               'textinfo': 'none',\n",
       "               'type': 'pie',\n",
       "               'values': [0, 307]},\n",
       "              {'domain': {'x': [0.5166666666666667, 0.6555555555555557], 'y': [0.0, 1.0]},\n",
       "               'hole': 0.8,\n",
       "               'hoverinfo': 'label+value',\n",
       "               'labels': [Missing Values, Present Values],\n",
       "               'marker': {'colors': ['#FF800B', '#001024']},\n",
       "               'text': [0.00%],\n",
       "               'textinfo': 'none',\n",
       "               'type': 'pie',\n",
       "               'values': [0, 307]},\n",
       "              {'domain': {'x': [0.6888888888888889, 0.8277777777777777], 'y': [0.0, 1.0]},\n",
       "               'hole': 0.8,\n",
       "               'hoverinfo': 'label+value',\n",
       "               'labels': [Missing Values, Present Values],\n",
       "               'marker': {'colors': ['#FF800B', '#001024']},\n",
       "               'text': [32.76%],\n",
       "               'textinfo': 'none',\n",
       "               'type': 'pie',\n",
       "               'values': [76, 155]},\n",
       "              {'domain': {'x': [0.861111111111111, 1.0], 'y': [0.0, 1.0]},\n",
       "               'hole': 0.8,\n",
       "               'hoverinfo': 'label+value',\n",
       "               'labels': [Missing Values, Present Values],\n",
       "               'marker': {'colors': ['#FF800B', '#001024']},\n",
       "               'text': [32.90%],\n",
       "               'textinfo': 'none',\n",
       "               'type': 'pie',\n",
       "               'values': [76, 155]},\n",
       "              {'domain': {'x': [0.861111111111111, 1.0], 'y': [0.0, 1.0]},\n",
       "               'hole': 0.8,\n",
       "               'hoverinfo': 'label+value',\n",
       "               'labels': [Missing Values, Present Values],\n",
       "               'marker': {'colors': ['#FF800B', '#001024']},\n",
       "               'text': [32.47%],\n",
       "               'textinfo': 'none',\n",
       "               'type': 'pie',\n",
       "               'values': [75, 157]},\n",
       "              {'labels': ['Missing Values', 'Present Values'], 'textinfo': 'none', 'type': 'pie', 'values': [307, 0]},\n",
       "              {'labels': ['Missing Values', 'Present Values'], 'textinfo': 'none', 'type': 'pie', 'values': [307, 0]},\n",
       "              {'labels': ['Missing Values', 'Present Values'], 'textinfo': 'none', 'type': 'pie', 'values': [307, 0]},\n",
       "              {'labels': ['Missing Values', 'Present Values'], 'textinfo': 'none', 'type': 'pie', 'values': [307, 0]},\n",
       "              {'labels': ['Missing Values', 'Present Values'], 'textinfo': 'none', 'type': 'pie', 'values': [231, 76]},\n",
       "              {'labels': ['Missing Values', 'Present Values'], 'textinfo': 'none', 'type': 'pie', 'values': [231, 76]},\n",
       "              {'labels': ['Missing Values', 'Present Values'], 'textinfo': 'none', 'type': 'pie', 'values': [232, 75]},\n",
       "              {'labels': ['Missing Values', 'Present Values'], 'textinfo': 'none', 'type': 'pie', 'values': [307, 0]},\n",
       "              {'labels': ['Missing Values', 'Present Values'], 'textinfo': 'none', 'type': 'pie', 'values': [307, 0]},\n",
       "              {'labels': ['Missing Values', 'Present Values'], 'textinfo': 'none', 'type': 'pie', 'values': [307, 0]},\n",
       "              {'labels': ['Missing Values', 'Present Values'], 'textinfo': 'none', 'type': 'pie', 'values': [307, 0]},\n",
       "              {'labels': ['Missing Values', 'Present Values'], 'textinfo': 'none', 'type': 'pie', 'values': [231, 76]},\n",
       "              {'labels': ['Missing Values', 'Present Values'], 'textinfo': 'none', 'type': 'pie', 'values': [231, 76]},\n",
       "              {'labels': ['Missing Values', 'Present Values'], 'textinfo': 'none', 'type': 'pie', 'values': [232, 75]}],\n",
       "     'layout': {'annotations': [{'font': {'size': 16},\n",
       "                                 'showarrow': False,\n",
       "                                 'text': 'Date',\n",
       "                                 'x': 0.06944444444444445,\n",
       "                                 'xanchor': 'center',\n",
       "                                 'xref': 'paper',\n",
       "                                 'y': 1.0,\n",
       "                                 'yanchor': 'bottom',\n",
       "                                 'yref': 'paper'},\n",
       "                                {'font': {'size': 16},\n",
       "                                 'showarrow': False,\n",
       "                                 'text': 'Total Cases',\n",
       "                                 'x': 0.24166666666666667,\n",
       "                                 'xanchor': 'center',\n",
       "                                 'xref': 'paper',\n",
       "                                 'y': 1.0,\n",
       "                                 'yanchor': 'bottom',\n",
       "                                 'yref': 'paper'},\n",
       "                                {'font': {'size': 16},\n",
       "                                 'showarrow': False,\n",
       "                                 'text': 'your text here',\n",
       "                                 'x': 0.5,\n",
       "                                 'xanchor': 'center',\n",
       "                                 'xref': 'paper',\n",
       "                                 'y': 0.5,\n",
       "                                 'yanchor': 'bottom',\n",
       "                                 'yref': 'paper'},\n",
       "                                {'font': {'size': 16},\n",
       "                                 'showarrow': False,\n",
       "                                 'text': 'Population',\n",
       "                                 'x': 0.5861111111111112,\n",
       "                                 'xanchor': 'center',\n",
       "                                 'xref': 'paper',\n",
       "                                 'y': 1.0,\n",
       "                                 'yanchor': 'bottom',\n",
       "                                 'yref': 'paper'},\n",
       "                                {'font': {'size': 16},\n",
       "                                 'showarrow': False,\n",
       "                                 'text': 'Number of Recovered People',\n",
       "                                 'x': 0.7583333333333333,\n",
       "                                 'xanchor': 'center',\n",
       "                                 'xref': 'paper',\n",
       "                                 'y': 1.0,\n",
       "                                 'yanchor': 'bottom',\n",
       "                                 'yref': 'paper'},\n",
       "                                {'font': {'size': 16},\n",
       "                                 'showarrow': False,\n",
       "                                 'text': 'Number of Tested People',\n",
       "                                 'x': 0.9305555555555556,\n",
       "                                 'xanchor': 'center',\n",
       "                                 'xref': 'paper',\n",
       "                                 'y': 1.0,\n",
       "                                 'yanchor': 'bottom',\n",
       "                                 'yref': 'paper'},\n",
       "                                {'font': {'size': 20}, 'showarrow': False, 'text': '0.00%', 'x': 0, 'y': 0.5},\n",
       "                                {'font': {'size': 20}, 'showarrow': False, 'text': '0.00%', 'x': 0.2, 'y': 0.5},\n",
       "                                {'font': {'size': 20}, 'showarrow': False, 'text': '0.00%', 'x': 0.91, 'y': 0.5},\n",
       "                                {'font': {'size': 20}, 'showarrow': False, 'text': '0.00%', 'x': 0.1, 'y': 0.5},\n",
       "                                {'font': {'size': 20}, 'showarrow': False, 'text': '32.76%', 'x': 0.5, 'y': 0.5},\n",
       "                                {'font': {'size': 20}, 'showarrow': False, 'text': '32.90%', 'x': 0.91, 'y': 0.5},\n",
       "                                {'font': {'size': 20}, 'showarrow': False, 'text': '32.47%', 'x': 0.91, 'y': 0.5}],\n",
       "                'template': '...',\n",
       "                'title': {'text': ('Missing Valus for the columns ' ... 'e of Ministry of Civil Affairs')}}\n",
       " }),\n",
       " Figure({\n",
       "     'data': [{'domain': {'x': [0.0, 0.1388888888888889], 'y': [0.0, 1.0]},\n",
       "               'hole': 0.8,\n",
       "               'hoverinfo': 'label+value',\n",
       "               'labels': [Missing Values, Present Values],\n",
       "               'marker': {'colors': ['#FF800B', '#001024']},\n",
       "               'text': [0.00%],\n",
       "               'textinfo': 'none',\n",
       "               'type': 'pie',\n",
       "               'values': [0, 307]},\n",
       "              {'domain': {'x': [0.17222222222222222, 0.3111111111111111], 'y': [0.0, 1.0]},\n",
       "               'hole': 0.8,\n",
       "               'hoverinfo': 'label+value',\n",
       "               'labels': [Missing Values, Present Values],\n",
       "               'marker': {'colors': ['#FF800B', '#001024']},\n",
       "               'text': [0.00%],\n",
       "               'textinfo': 'none',\n",
       "               'type': 'pie',\n",
       "               'values': [0, 307]},\n",
       "              {'domain': {'x': [0.34444444444444444, 0.48333333333333334], 'y': [0.0, 1.0]},\n",
       "               'hole': 0.8,\n",
       "               'hoverinfo': 'label+value',\n",
       "               'labels': [Missing Values, Present Values],\n",
       "               'marker': {'colors': ['#FF800B', '#001024']},\n",
       "               'text': [0.00%],\n",
       "               'textinfo': 'none',\n",
       "               'type': 'pie',\n",
       "               'values': [0, 307]},\n",
       "              {'domain': {'x': [0.5166666666666667, 0.6555555555555557], 'y': [0.0, 1.0]},\n",
       "               'hole': 0.8,\n",
       "               'hoverinfo': 'label+value',\n",
       "               'labels': [Missing Values, Present Values],\n",
       "               'marker': {'colors': ['#FF800B', '#001024']},\n",
       "               'text': [0.00%],\n",
       "               'textinfo': 'none',\n",
       "               'type': 'pie',\n",
       "               'values': [0, 307]},\n",
       "              {'domain': {'x': [0.6888888888888889, 0.8277777777777777], 'y': [0.0, 1.0]},\n",
       "               'hole': 0.8,\n",
       "               'hoverinfo': 'label+value',\n",
       "               'labels': [Missing Values, Present Values],\n",
       "               'marker': {'colors': ['#FF800B', '#001024']},\n",
       "               'text': [32.76%],\n",
       "               'textinfo': 'none',\n",
       "               'type': 'pie',\n",
       "               'values': [76, 155]},\n",
       "              {'domain': {'x': [0.861111111111111, 1.0], 'y': [0.0, 1.0]},\n",
       "               'hole': 0.8,\n",
       "               'hoverinfo': 'label+value',\n",
       "               'labels': [Missing Values, Present Values],\n",
       "               'marker': {'colors': ['#FF800B', '#001024']},\n",
       "               'text': [32.90%],\n",
       "               'textinfo': 'none',\n",
       "               'type': 'pie',\n",
       "               'values': [76, 155]},\n",
       "              {'domain': {'x': [0.861111111111111, 1.0], 'y': [0.0, 1.0]},\n",
       "               'hole': 0.8,\n",
       "               'hoverinfo': 'label+value',\n",
       "               'labels': [Missing Values, Present Values],\n",
       "               'marker': {'colors': ['#FF800B', '#001024']},\n",
       "               'text': [32.47%],\n",
       "               'textinfo': 'none',\n",
       "               'type': 'pie',\n",
       "               'values': [75, 157]},\n",
       "              {'labels': ['Missing Values', 'Present Values'], 'textinfo': 'none', 'type': 'pie', 'values': [307, 0]},\n",
       "              {'labels': ['Missing Values', 'Present Values'], 'textinfo': 'none', 'type': 'pie', 'values': [307, 0]},\n",
       "              {'labels': ['Missing Values', 'Present Values'], 'textinfo': 'none', 'type': 'pie', 'values': [307, 0]},\n",
       "              {'labels': ['Missing Values', 'Present Values'], 'textinfo': 'none', 'type': 'pie', 'values': [307, 0]},\n",
       "              {'labels': ['Missing Values', 'Present Values'], 'textinfo': 'none', 'type': 'pie', 'values': [231, 76]},\n",
       "              {'labels': ['Missing Values', 'Present Values'], 'textinfo': 'none', 'type': 'pie', 'values': [231, 76]},\n",
       "              {'labels': ['Missing Values', 'Present Values'], 'textinfo': 'none', 'type': 'pie', 'values': [232, 75]},\n",
       "              {'labels': ['Missing Values', 'Present Values'], 'textinfo': 'none', 'type': 'pie', 'values': [307, 0]},\n",
       "              {'labels': ['Missing Values', 'Present Values'], 'textinfo': 'none', 'type': 'pie', 'values': [307, 0]},\n",
       "              {'labels': ['Missing Values', 'Present Values'], 'textinfo': 'none', 'type': 'pie', 'values': [307, 0]},\n",
       "              {'labels': ['Missing Values', 'Present Values'], 'textinfo': 'none', 'type': 'pie', 'values': [307, 0]},\n",
       "              {'labels': ['Missing Values', 'Present Values'], 'textinfo': 'none', 'type': 'pie', 'values': [231, 76]},\n",
       "              {'labels': ['Missing Values', 'Present Values'], 'textinfo': 'none', 'type': 'pie', 'values': [231, 76]},\n",
       "              {'labels': ['Missing Values', 'Present Values'], 'textinfo': 'none', 'type': 'pie', 'values': [232, 75]}],\n",
       "     'layout': {'annotations': [{'font': {'size': 16},\n",
       "                                 'showarrow': False,\n",
       "                                 'text': 'Date',\n",
       "                                 'x': 0.06944444444444445,\n",
       "                                 'xanchor': 'center',\n",
       "                                 'xref': 'paper',\n",
       "                                 'y': 1.0,\n",
       "                                 'yanchor': 'bottom',\n",
       "                                 'yref': 'paper'},\n",
       "                                {'font': {'size': 16},\n",
       "                                 'showarrow': False,\n",
       "                                 'text': 'Total Cases',\n",
       "                                 'x': 0.24166666666666667,\n",
       "                                 'xanchor': 'center',\n",
       "                                 'xref': 'paper',\n",
       "                                 'y': 1.0,\n",
       "                                 'yanchor': 'bottom',\n",
       "                                 'yref': 'paper'},\n",
       "                                {'font': {'size': 16},\n",
       "                                 'showarrow': False,\n",
       "                                 'text': 'your text here',\n",
       "                                 'x': 0.5,\n",
       "                                 'xanchor': 'center',\n",
       "                                 'xref': 'paper',\n",
       "                                 'y': 0.5,\n",
       "                                 'yanchor': 'bottom',\n",
       "                                 'yref': 'paper'},\n",
       "                                {'font': {'size': 16},\n",
       "                                 'showarrow': False,\n",
       "                                 'text': 'Population',\n",
       "                                 'x': 0.5861111111111112,\n",
       "                                 'xanchor': 'center',\n",
       "                                 'xref': 'paper',\n",
       "                                 'y': 1.0,\n",
       "                                 'yanchor': 'bottom',\n",
       "                                 'yref': 'paper'},\n",
       "                                {'font': {'size': 16},\n",
       "                                 'showarrow': False,\n",
       "                                 'text': 'Number of Recovered People',\n",
       "                                 'x': 0.7583333333333333,\n",
       "                                 'xanchor': 'center',\n",
       "                                 'xref': 'paper',\n",
       "                                 'y': 1.0,\n",
       "                                 'yanchor': 'bottom',\n",
       "                                 'yref': 'paper'},\n",
       "                                {'font': {'size': 16},\n",
       "                                 'showarrow': False,\n",
       "                                 'text': 'Number of Tested People',\n",
       "                                 'x': 0.9305555555555556,\n",
       "                                 'xanchor': 'center',\n",
       "                                 'xref': 'paper',\n",
       "                                 'y': 1.0,\n",
       "                                 'yanchor': 'bottom',\n",
       "                                 'yref': 'paper'},\n",
       "                                {'font': {'size': 20}, 'showarrow': False, 'text': '0.00%', 'x': 0, 'y': 0.5},\n",
       "                                {'font': {'size': 20}, 'showarrow': False, 'text': '0.00%', 'x': 0.2, 'y': 0.5},\n",
       "                                {'font': {'size': 20}, 'showarrow': False, 'text': '0.00%', 'x': 0.91, 'y': 0.5},\n",
       "                                {'font': {'size': 20}, 'showarrow': False, 'text': '0.00%', 'x': 0.1, 'y': 0.5},\n",
       "                                {'font': {'size': 20}, 'showarrow': False, 'text': '32.76%', 'x': 0.5, 'y': 0.5},\n",
       "                                {'font': {'size': 20}, 'showarrow': False, 'text': '32.90%', 'x': 0.91, 'y': 0.5},\n",
       "                                {'font': {'size': 20}, 'showarrow': False, 'text': '32.47%', 'x': 0.91, 'y': 0.5}],\n",
       "                'template': '...',\n",
       "                'title': {'text': ('Missing Valus for the columns ' ... 'e of Ministry of Civil Affairs')}}\n",
       " }),\n",
       " Figure({\n",
       "     'data': [{'domain': {'x': [0.0, 0.1388888888888889], 'y': [0.0, 1.0]},\n",
       "               'hole': 0.8,\n",
       "               'hoverinfo': 'label+value',\n",
       "               'labels': [Missing Values, Present Values],\n",
       "               'marker': {'colors': ['#FF800B', '#001024']},\n",
       "               'text': [0.00%],\n",
       "               'textinfo': 'none',\n",
       "               'type': 'pie',\n",
       "               'values': [0, 307]},\n",
       "              {'domain': {'x': [0.17222222222222222, 0.3111111111111111], 'y': [0.0, 1.0]},\n",
       "               'hole': 0.8,\n",
       "               'hoverinfo': 'label+value',\n",
       "               'labels': [Missing Values, Present Values],\n",
       "               'marker': {'colors': ['#FF800B', '#001024']},\n",
       "               'text': [0.00%],\n",
       "               'textinfo': 'none',\n",
       "               'type': 'pie',\n",
       "               'values': [0, 307]},\n",
       "              {'domain': {'x': [0.34444444444444444, 0.48333333333333334], 'y': [0.0, 1.0]},\n",
       "               'hole': 0.8,\n",
       "               'hoverinfo': 'label+value',\n",
       "               'labels': [Missing Values, Present Values],\n",
       "               'marker': {'colors': ['#FF800B', '#001024']},\n",
       "               'text': [0.00%],\n",
       "               'textinfo': 'none',\n",
       "               'type': 'pie',\n",
       "               'values': [0, 307]},\n",
       "              {'domain': {'x': [0.5166666666666667, 0.6555555555555557], 'y': [0.0, 1.0]},\n",
       "               'hole': 0.8,\n",
       "               'hoverinfo': 'label+value',\n",
       "               'labels': [Missing Values, Present Values],\n",
       "               'marker': {'colors': ['#FF800B', '#001024']},\n",
       "               'text': [0.00%],\n",
       "               'textinfo': 'none',\n",
       "               'type': 'pie',\n",
       "               'values': [0, 307]},\n",
       "              {'domain': {'x': [0.6888888888888889, 0.8277777777777777], 'y': [0.0, 1.0]},\n",
       "               'hole': 0.8,\n",
       "               'hoverinfo': 'label+value',\n",
       "               'labels': [Missing Values, Present Values],\n",
       "               'marker': {'colors': ['#FF800B', '#001024']},\n",
       "               'text': [32.76%],\n",
       "               'textinfo': 'none',\n",
       "               'type': 'pie',\n",
       "               'values': [76, 155]},\n",
       "              {'domain': {'x': [0.861111111111111, 1.0], 'y': [0.0, 1.0]},\n",
       "               'hole': 0.8,\n",
       "               'hoverinfo': 'label+value',\n",
       "               'labels': [Missing Values, Present Values],\n",
       "               'marker': {'colors': ['#FF800B', '#001024']},\n",
       "               'text': [32.90%],\n",
       "               'textinfo': 'none',\n",
       "               'type': 'pie',\n",
       "               'values': [76, 155]},\n",
       "              {'domain': {'x': [0.861111111111111, 1.0], 'y': [0.0, 1.0]},\n",
       "               'hole': 0.8,\n",
       "               'hoverinfo': 'label+value',\n",
       "               'labels': [Missing Values, Present Values],\n",
       "               'marker': {'colors': ['#FF800B', '#001024']},\n",
       "               'text': [32.47%],\n",
       "               'textinfo': 'none',\n",
       "               'type': 'pie',\n",
       "               'values': [75, 157]},\n",
       "              {'labels': ['Missing Values', 'Present Values'], 'textinfo': 'none', 'type': 'pie', 'values': [307, 0]},\n",
       "              {'labels': ['Missing Values', 'Present Values'], 'textinfo': 'none', 'type': 'pie', 'values': [307, 0]},\n",
       "              {'labels': ['Missing Values', 'Present Values'], 'textinfo': 'none', 'type': 'pie', 'values': [307, 0]},\n",
       "              {'labels': ['Missing Values', 'Present Values'], 'textinfo': 'none', 'type': 'pie', 'values': [307, 0]},\n",
       "              {'labels': ['Missing Values', 'Present Values'], 'textinfo': 'none', 'type': 'pie', 'values': [231, 76]},\n",
       "              {'labels': ['Missing Values', 'Present Values'], 'textinfo': 'none', 'type': 'pie', 'values': [231, 76]},\n",
       "              {'labels': ['Missing Values', 'Present Values'], 'textinfo': 'none', 'type': 'pie', 'values': [232, 75]},\n",
       "              {'labels': ['Missing Values', 'Present Values'], 'textinfo': 'none', 'type': 'pie', 'values': [307, 0]},\n",
       "              {'labels': ['Missing Values', 'Present Values'], 'textinfo': 'none', 'type': 'pie', 'values': [307, 0]},\n",
       "              {'labels': ['Missing Values', 'Present Values'], 'textinfo': 'none', 'type': 'pie', 'values': [307, 0]},\n",
       "              {'labels': ['Missing Values', 'Present Values'], 'textinfo': 'none', 'type': 'pie', 'values': [307, 0]},\n",
       "              {'labels': ['Missing Values', 'Present Values'], 'textinfo': 'none', 'type': 'pie', 'values': [231, 76]},\n",
       "              {'labels': ['Missing Values', 'Present Values'], 'textinfo': 'none', 'type': 'pie', 'values': [231, 76]},\n",
       "              {'labels': ['Missing Values', 'Present Values'], 'textinfo': 'none', 'type': 'pie', 'values': [232, 75]}],\n",
       "     'layout': {'annotations': [{'font': {'size': 16},\n",
       "                                 'showarrow': False,\n",
       "                                 'text': 'Date',\n",
       "                                 'x': 0.06944444444444445,\n",
       "                                 'xanchor': 'center',\n",
       "                                 'xref': 'paper',\n",
       "                                 'y': 1.0,\n",
       "                                 'yanchor': 'bottom',\n",
       "                                 'yref': 'paper'},\n",
       "                                {'font': {'size': 16},\n",
       "                                 'showarrow': False,\n",
       "                                 'text': 'Total Cases',\n",
       "                                 'x': 0.24166666666666667,\n",
       "                                 'xanchor': 'center',\n",
       "                                 'xref': 'paper',\n",
       "                                 'y': 1.0,\n",
       "                                 'yanchor': 'bottom',\n",
       "                                 'yref': 'paper'},\n",
       "                                {'font': {'size': 16},\n",
       "                                 'showarrow': False,\n",
       "                                 'text': 'your text here',\n",
       "                                 'x': 0.5,\n",
       "                                 'xanchor': 'center',\n",
       "                                 'xref': 'paper',\n",
       "                                 'y': 0.5,\n",
       "                                 'yanchor': 'bottom',\n",
       "                                 'yref': 'paper'},\n",
       "                                {'font': {'size': 16},\n",
       "                                 'showarrow': False,\n",
       "                                 'text': 'Population',\n",
       "                                 'x': 0.5861111111111112,\n",
       "                                 'xanchor': 'center',\n",
       "                                 'xref': 'paper',\n",
       "                                 'y': 1.0,\n",
       "                                 'yanchor': 'bottom',\n",
       "                                 'yref': 'paper'},\n",
       "                                {'font': {'size': 16},\n",
       "                                 'showarrow': False,\n",
       "                                 'text': 'Number of Recovered People',\n",
       "                                 'x': 0.7583333333333333,\n",
       "                                 'xanchor': 'center',\n",
       "                                 'xref': 'paper',\n",
       "                                 'y': 1.0,\n",
       "                                 'yanchor': 'bottom',\n",
       "                                 'yref': 'paper'},\n",
       "                                {'font': {'size': 16},\n",
       "                                 'showarrow': False,\n",
       "                                 'text': 'Number of Tested People',\n",
       "                                 'x': 0.9305555555555556,\n",
       "                                 'xanchor': 'center',\n",
       "                                 'xref': 'paper',\n",
       "                                 'y': 1.0,\n",
       "                                 'yanchor': 'bottom',\n",
       "                                 'yref': 'paper'},\n",
       "                                {'font': {'size': 20}, 'showarrow': False, 'text': '0.00%', 'x': 0, 'y': 0.5},\n",
       "                                {'font': {'size': 20}, 'showarrow': False, 'text': '0.00%', 'x': 0.2, 'y': 0.5},\n",
       "                                {'font': {'size': 20}, 'showarrow': False, 'text': '0.00%', 'x': 0.91, 'y': 0.5},\n",
       "                                {'font': {'size': 20}, 'showarrow': False, 'text': '0.00%', 'x': 0.1, 'y': 0.5},\n",
       "                                {'font': {'size': 20}, 'showarrow': False, 'text': '32.76%', 'x': 0.5, 'y': 0.5},\n",
       "                                {'font': {'size': 20}, 'showarrow': False, 'text': '32.90%', 'x': 0.91, 'y': 0.5},\n",
       "                                {'font': {'size': 20}, 'showarrow': False, 'text': '32.47%', 'x': 0.91, 'y': 0.5}],\n",
       "                'template': '...',\n",
       "                'title': {'text': ('Missing Valus for the columns ' ... 'e of Ministry of Civil Affairs')}}\n",
       " })]"
      ]
     },
     "execution_count": 129,
     "metadata": {},
     "output_type": "execute_result"
    }
   ],
   "source": [
    "data\n",
    "    "
   ]
  },
  {
   "cell_type": "code",
   "execution_count": 42,
   "metadata": {},
   "outputs": [
    {
     "data": {
      "application/vnd.plotly.v1+json": {
       "config": {
        "plotlyServerURL": "https://plot.ly"
       },
       "data": [
        {
         "domain": {
          "x": [
           0,
           0.1388888888888889
          ],
          "y": [
           0,
           1
          ]
         },
         "hole": 0.8,
         "hoverinfo": "label+value",
         "labels": [
          "Missing Values",
          "Present Values"
         ],
         "marker": {
          "colors": [
           "#FF800B",
           "#001024"
          ]
         },
         "text": [
          "0.00%"
         ],
         "textinfo": "none",
         "type": "pie",
         "values": [
          0,
          307
         ]
        },
        {
         "domain": {
          "x": [
           0.17222222222222222,
           0.3111111111111111
          ],
          "y": [
           0,
           1
          ]
         },
         "hole": 0.8,
         "hoverinfo": "label+value",
         "labels": [
          "Missing Values",
          "Present Values"
         ],
         "marker": {
          "colors": [
           "#FF800B",
           "#001024"
          ]
         },
         "text": [
          "0.00%"
         ],
         "textinfo": "none",
         "type": "pie",
         "values": [
          0,
          307
         ]
        },
        {
         "domain": {
          "x": [
           0.34444444444444444,
           0.48333333333333334
          ],
          "y": [
           0,
           1
          ]
         },
         "hole": 0.8,
         "hoverinfo": "label+value",
         "labels": [
          "Missing Values",
          "Present Values"
         ],
         "marker": {
          "colors": [
           "#FF800B",
           "#001024"
          ]
         },
         "text": [
          "0.00%"
         ],
         "textinfo": "none",
         "type": "pie",
         "values": [
          0,
          307
         ]
        },
        {
         "domain": {
          "x": [
           0.5166666666666667,
           0.6555555555555557
          ],
          "y": [
           0,
           1
          ]
         },
         "hole": 0.8,
         "hoverinfo": "label+value",
         "labels": [
          "Missing Values",
          "Present Values"
         ],
         "marker": {
          "colors": [
           "#FF800B",
           "#001024"
          ]
         },
         "text": [
          "0.00%"
         ],
         "textinfo": "none",
         "type": "pie",
         "values": [
          0,
          307
         ]
        },
        {
         "domain": {
          "x": [
           0.6888888888888889,
           0.8277777777777777
          ],
          "y": [
           0,
           1
          ]
         },
         "hole": 0.8,
         "hoverinfo": "label+value",
         "labels": [
          "Missing Values",
          "Present Values"
         ],
         "marker": {
          "colors": [
           "#FF800B",
           "#001024"
          ]
         },
         "text": [
          "32.76%"
         ],
         "textinfo": "none",
         "type": "pie",
         "values": [
          76,
          155
         ]
        },
        {
         "domain": {
          "x": [
           0.861111111111111,
           1
          ],
          "y": [
           0,
           1
          ]
         },
         "hole": 0.8,
         "hoverinfo": "label+value",
         "labels": [
          "Missing Values",
          "Present Values"
         ],
         "marker": {
          "colors": [
           "#FF800B",
           "#001024"
          ]
         },
         "text": [
          "32.90%"
         ],
         "textinfo": "none",
         "type": "pie",
         "values": [
          76,
          155
         ]
        },
        {
         "domain": {
          "x": [
           0.861111111111111,
           1
          ],
          "y": [
           0,
           1
          ]
         },
         "hole": 0.8,
         "hoverinfo": "label+value",
         "labels": [
          "Missing Values",
          "Present Values"
         ],
         "marker": {
          "colors": [
           "#FF800B",
           "#001024"
          ]
         },
         "text": [
          "32.47%"
         ],
         "textinfo": "none",
         "type": "pie",
         "values": [
          75,
          157
         ]
        }
       ],
       "layout": {
        "annotations": [
         {
          "font": {
           "size": 16
          },
          "showarrow": false,
          "text": "Date",
          "x": 0.06944444444444445,
          "xanchor": "center",
          "xref": "paper",
          "y": 1,
          "yanchor": "bottom",
          "yref": "paper"
         },
         {
          "font": {
           "size": 16
          },
          "showarrow": false,
          "text": "Total Cases",
          "x": 0.24166666666666667,
          "xanchor": "center",
          "xref": "paper",
          "y": 1,
          "yanchor": "bottom",
          "yref": "paper"
         },
         {
          "font": {
           "size": 16
          },
          "showarrow": false,
          "text": "your text here",
          "x": 0.5,
          "xanchor": "center",
          "xref": "paper",
          "y": 0.5,
          "yanchor": "bottom",
          "yref": "paper"
         },
         {
          "font": {
           "size": 16
          },
          "showarrow": false,
          "text": "Population",
          "x": 0.5861111111111112,
          "xanchor": "center",
          "xref": "paper",
          "y": 1,
          "yanchor": "bottom",
          "yref": "paper"
         },
         {
          "font": {
           "size": 16
          },
          "showarrow": false,
          "text": "Number of Recovered People",
          "x": 0.7583333333333333,
          "xanchor": "center",
          "xref": "paper",
          "y": 1,
          "yanchor": "bottom",
          "yref": "paper"
         },
         {
          "font": {
           "size": 16
          },
          "showarrow": false,
          "text": "Number of Tested People",
          "x": 0.9305555555555556,
          "xanchor": "center",
          "xref": "paper",
          "y": 1,
          "yanchor": "bottom",
          "yref": "paper"
         },
         {
          "font": {
           "size": 20
          },
          "showarrow": false,
          "text": "0.00%",
          "x": 0,
          "y": 0.5
         },
         {
          "font": {
           "size": 20
          },
          "showarrow": false,
          "text": "0.00%",
          "x": 0.2,
          "y": 0.5
         },
         {
          "font": {
           "size": 20
          },
          "showarrow": false,
          "text": "0.00%",
          "x": 0.91,
          "y": 0.5
         },
         {
          "font": {
           "size": 20
          },
          "showarrow": false,
          "text": "0.00%",
          "x": 0.1,
          "y": 0.5
         },
         {
          "font": {
           "size": 20
          },
          "showarrow": false,
          "text": "32.76%",
          "x": 0.5,
          "y": 0.5
         },
         {
          "font": {
           "size": 20
          },
          "showarrow": false,
          "text": "32.90%",
          "x": 0.91,
          "y": 0.5
         },
         {
          "font": {
           "size": 20
          },
          "showarrow": false,
          "text": "32.47%",
          "x": 0.91,
          "y": 0.5
         }
        ],
        "template": {
         "data": {
          "bar": [
           {
            "error_x": {
             "color": "#2a3f5f"
            },
            "error_y": {
             "color": "#2a3f5f"
            },
            "marker": {
             "line": {
              "color": "#E5ECF6",
              "width": 0.5
             }
            },
            "type": "bar"
           }
          ],
          "barpolar": [
           {
            "marker": {
             "line": {
              "color": "#E5ECF6",
              "width": 0.5
             }
            },
            "type": "barpolar"
           }
          ],
          "carpet": [
           {
            "aaxis": {
             "endlinecolor": "#2a3f5f",
             "gridcolor": "white",
             "linecolor": "white",
             "minorgridcolor": "white",
             "startlinecolor": "#2a3f5f"
            },
            "baxis": {
             "endlinecolor": "#2a3f5f",
             "gridcolor": "white",
             "linecolor": "white",
             "minorgridcolor": "white",
             "startlinecolor": "#2a3f5f"
            },
            "type": "carpet"
           }
          ],
          "choropleth": [
           {
            "colorbar": {
             "outlinewidth": 0,
             "ticks": ""
            },
            "type": "choropleth"
           }
          ],
          "contour": [
           {
            "colorbar": {
             "outlinewidth": 0,
             "ticks": ""
            },
            "colorscale": [
             [
              0,
              "#0d0887"
             ],
             [
              0.1111111111111111,
              "#46039f"
             ],
             [
              0.2222222222222222,
              "#7201a8"
             ],
             [
              0.3333333333333333,
              "#9c179e"
             ],
             [
              0.4444444444444444,
              "#bd3786"
             ],
             [
              0.5555555555555556,
              "#d8576b"
             ],
             [
              0.6666666666666666,
              "#ed7953"
             ],
             [
              0.7777777777777778,
              "#fb9f3a"
             ],
             [
              0.8888888888888888,
              "#fdca26"
             ],
             [
              1,
              "#f0f921"
             ]
            ],
            "type": "contour"
           }
          ],
          "contourcarpet": [
           {
            "colorbar": {
             "outlinewidth": 0,
             "ticks": ""
            },
            "type": "contourcarpet"
           }
          ],
          "heatmap": [
           {
            "colorbar": {
             "outlinewidth": 0,
             "ticks": ""
            },
            "colorscale": [
             [
              0,
              "#0d0887"
             ],
             [
              0.1111111111111111,
              "#46039f"
             ],
             [
              0.2222222222222222,
              "#7201a8"
             ],
             [
              0.3333333333333333,
              "#9c179e"
             ],
             [
              0.4444444444444444,
              "#bd3786"
             ],
             [
              0.5555555555555556,
              "#d8576b"
             ],
             [
              0.6666666666666666,
              "#ed7953"
             ],
             [
              0.7777777777777778,
              "#fb9f3a"
             ],
             [
              0.8888888888888888,
              "#fdca26"
             ],
             [
              1,
              "#f0f921"
             ]
            ],
            "type": "heatmap"
           }
          ],
          "heatmapgl": [
           {
            "colorbar": {
             "outlinewidth": 0,
             "ticks": ""
            },
            "colorscale": [
             [
              0,
              "#0d0887"
             ],
             [
              0.1111111111111111,
              "#46039f"
             ],
             [
              0.2222222222222222,
              "#7201a8"
             ],
             [
              0.3333333333333333,
              "#9c179e"
             ],
             [
              0.4444444444444444,
              "#bd3786"
             ],
             [
              0.5555555555555556,
              "#d8576b"
             ],
             [
              0.6666666666666666,
              "#ed7953"
             ],
             [
              0.7777777777777778,
              "#fb9f3a"
             ],
             [
              0.8888888888888888,
              "#fdca26"
             ],
             [
              1,
              "#f0f921"
             ]
            ],
            "type": "heatmapgl"
           }
          ],
          "histogram": [
           {
            "marker": {
             "colorbar": {
              "outlinewidth": 0,
              "ticks": ""
             }
            },
            "type": "histogram"
           }
          ],
          "histogram2d": [
           {
            "colorbar": {
             "outlinewidth": 0,
             "ticks": ""
            },
            "colorscale": [
             [
              0,
              "#0d0887"
             ],
             [
              0.1111111111111111,
              "#46039f"
             ],
             [
              0.2222222222222222,
              "#7201a8"
             ],
             [
              0.3333333333333333,
              "#9c179e"
             ],
             [
              0.4444444444444444,
              "#bd3786"
             ],
             [
              0.5555555555555556,
              "#d8576b"
             ],
             [
              0.6666666666666666,
              "#ed7953"
             ],
             [
              0.7777777777777778,
              "#fb9f3a"
             ],
             [
              0.8888888888888888,
              "#fdca26"
             ],
             [
              1,
              "#f0f921"
             ]
            ],
            "type": "histogram2d"
           }
          ],
          "histogram2dcontour": [
           {
            "colorbar": {
             "outlinewidth": 0,
             "ticks": ""
            },
            "colorscale": [
             [
              0,
              "#0d0887"
             ],
             [
              0.1111111111111111,
              "#46039f"
             ],
             [
              0.2222222222222222,
              "#7201a8"
             ],
             [
              0.3333333333333333,
              "#9c179e"
             ],
             [
              0.4444444444444444,
              "#bd3786"
             ],
             [
              0.5555555555555556,
              "#d8576b"
             ],
             [
              0.6666666666666666,
              "#ed7953"
             ],
             [
              0.7777777777777778,
              "#fb9f3a"
             ],
             [
              0.8888888888888888,
              "#fdca26"
             ],
             [
              1,
              "#f0f921"
             ]
            ],
            "type": "histogram2dcontour"
           }
          ],
          "mesh3d": [
           {
            "colorbar": {
             "outlinewidth": 0,
             "ticks": ""
            },
            "type": "mesh3d"
           }
          ],
          "parcoords": [
           {
            "line": {
             "colorbar": {
              "outlinewidth": 0,
              "ticks": ""
             }
            },
            "type": "parcoords"
           }
          ],
          "pie": [
           {
            "automargin": true,
            "type": "pie"
           }
          ],
          "scatter": [
           {
            "marker": {
             "colorbar": {
              "outlinewidth": 0,
              "ticks": ""
             }
            },
            "type": "scatter"
           }
          ],
          "scatter3d": [
           {
            "line": {
             "colorbar": {
              "outlinewidth": 0,
              "ticks": ""
             }
            },
            "marker": {
             "colorbar": {
              "outlinewidth": 0,
              "ticks": ""
             }
            },
            "type": "scatter3d"
           }
          ],
          "scattercarpet": [
           {
            "marker": {
             "colorbar": {
              "outlinewidth": 0,
              "ticks": ""
             }
            },
            "type": "scattercarpet"
           }
          ],
          "scattergeo": [
           {
            "marker": {
             "colorbar": {
              "outlinewidth": 0,
              "ticks": ""
             }
            },
            "type": "scattergeo"
           }
          ],
          "scattergl": [
           {
            "marker": {
             "colorbar": {
              "outlinewidth": 0,
              "ticks": ""
             }
            },
            "type": "scattergl"
           }
          ],
          "scattermapbox": [
           {
            "marker": {
             "colorbar": {
              "outlinewidth": 0,
              "ticks": ""
             }
            },
            "type": "scattermapbox"
           }
          ],
          "scatterpolar": [
           {
            "marker": {
             "colorbar": {
              "outlinewidth": 0,
              "ticks": ""
             }
            },
            "type": "scatterpolar"
           }
          ],
          "scatterpolargl": [
           {
            "marker": {
             "colorbar": {
              "outlinewidth": 0,
              "ticks": ""
             }
            },
            "type": "scatterpolargl"
           }
          ],
          "scatterternary": [
           {
            "marker": {
             "colorbar": {
              "outlinewidth": 0,
              "ticks": ""
             }
            },
            "type": "scatterternary"
           }
          ],
          "surface": [
           {
            "colorbar": {
             "outlinewidth": 0,
             "ticks": ""
            },
            "colorscale": [
             [
              0,
              "#0d0887"
             ],
             [
              0.1111111111111111,
              "#46039f"
             ],
             [
              0.2222222222222222,
              "#7201a8"
             ],
             [
              0.3333333333333333,
              "#9c179e"
             ],
             [
              0.4444444444444444,
              "#bd3786"
             ],
             [
              0.5555555555555556,
              "#d8576b"
             ],
             [
              0.6666666666666666,
              "#ed7953"
             ],
             [
              0.7777777777777778,
              "#fb9f3a"
             ],
             [
              0.8888888888888888,
              "#fdca26"
             ],
             [
              1,
              "#f0f921"
             ]
            ],
            "type": "surface"
           }
          ],
          "table": [
           {
            "cells": {
             "fill": {
              "color": "#EBF0F8"
             },
             "line": {
              "color": "white"
             }
            },
            "header": {
             "fill": {
              "color": "#C8D4E3"
             },
             "line": {
              "color": "white"
             }
            },
            "type": "table"
           }
          ]
         },
         "layout": {
          "annotationdefaults": {
           "arrowcolor": "#2a3f5f",
           "arrowhead": 0,
           "arrowwidth": 1
          },
          "autotypenumbers": "strict",
          "coloraxis": {
           "colorbar": {
            "outlinewidth": 0,
            "ticks": ""
           }
          },
          "colorscale": {
           "diverging": [
            [
             0,
             "#8e0152"
            ],
            [
             0.1,
             "#c51b7d"
            ],
            [
             0.2,
             "#de77ae"
            ],
            [
             0.3,
             "#f1b6da"
            ],
            [
             0.4,
             "#fde0ef"
            ],
            [
             0.5,
             "#f7f7f7"
            ],
            [
             0.6,
             "#e6f5d0"
            ],
            [
             0.7,
             "#b8e186"
            ],
            [
             0.8,
             "#7fbc41"
            ],
            [
             0.9,
             "#4d9221"
            ],
            [
             1,
             "#276419"
            ]
           ],
           "sequential": [
            [
             0,
             "#0d0887"
            ],
            [
             0.1111111111111111,
             "#46039f"
            ],
            [
             0.2222222222222222,
             "#7201a8"
            ],
            [
             0.3333333333333333,
             "#9c179e"
            ],
            [
             0.4444444444444444,
             "#bd3786"
            ],
            [
             0.5555555555555556,
             "#d8576b"
            ],
            [
             0.6666666666666666,
             "#ed7953"
            ],
            [
             0.7777777777777778,
             "#fb9f3a"
            ],
            [
             0.8888888888888888,
             "#fdca26"
            ],
            [
             1,
             "#f0f921"
            ]
           ],
           "sequentialminus": [
            [
             0,
             "#0d0887"
            ],
            [
             0.1111111111111111,
             "#46039f"
            ],
            [
             0.2222222222222222,
             "#7201a8"
            ],
            [
             0.3333333333333333,
             "#9c179e"
            ],
            [
             0.4444444444444444,
             "#bd3786"
            ],
            [
             0.5555555555555556,
             "#d8576b"
            ],
            [
             0.6666666666666666,
             "#ed7953"
            ],
            [
             0.7777777777777778,
             "#fb9f3a"
            ],
            [
             0.8888888888888888,
             "#fdca26"
            ],
            [
             1,
             "#f0f921"
            ]
           ]
          },
          "colorway": [
           "#636efa",
           "#EF553B",
           "#00cc96",
           "#ab63fa",
           "#FFA15A",
           "#19d3f3",
           "#FF6692",
           "#B6E880",
           "#FF97FF",
           "#FECB52"
          ],
          "font": {
           "color": "#2a3f5f"
          },
          "geo": {
           "bgcolor": "white",
           "lakecolor": "white",
           "landcolor": "#E5ECF6",
           "showlakes": true,
           "showland": true,
           "subunitcolor": "white"
          },
          "hoverlabel": {
           "align": "left"
          },
          "hovermode": "closest",
          "mapbox": {
           "style": "light"
          },
          "paper_bgcolor": "white",
          "plot_bgcolor": "#E5ECF6",
          "polar": {
           "angularaxis": {
            "gridcolor": "white",
            "linecolor": "white",
            "ticks": ""
           },
           "bgcolor": "#E5ECF6",
           "radialaxis": {
            "gridcolor": "white",
            "linecolor": "white",
            "ticks": ""
           }
          },
          "scene": {
           "xaxis": {
            "backgroundcolor": "#E5ECF6",
            "gridcolor": "white",
            "gridwidth": 2,
            "linecolor": "white",
            "showbackground": true,
            "ticks": "",
            "zerolinecolor": "white"
           },
           "yaxis": {
            "backgroundcolor": "#E5ECF6",
            "gridcolor": "white",
            "gridwidth": 2,
            "linecolor": "white",
            "showbackground": true,
            "ticks": "",
            "zerolinecolor": "white"
           },
           "zaxis": {
            "backgroundcolor": "#E5ECF6",
            "gridcolor": "white",
            "gridwidth": 2,
            "linecolor": "white",
            "showbackground": true,
            "ticks": "",
            "zerolinecolor": "white"
           }
          },
          "shapedefaults": {
           "line": {
            "color": "#2a3f5f"
           }
          },
          "ternary": {
           "aaxis": {
            "gridcolor": "white",
            "linecolor": "white",
            "ticks": ""
           },
           "baxis": {
            "gridcolor": "white",
            "linecolor": "white",
            "ticks": ""
           },
           "bgcolor": "#E5ECF6",
           "caxis": {
            "gridcolor": "white",
            "linecolor": "white",
            "ticks": ""
           }
          },
          "title": {
           "x": 0.05
          },
          "xaxis": {
           "automargin": true,
           "gridcolor": "white",
           "linecolor": "white",
           "ticks": "",
           "title": {
            "standoff": 15
           },
           "zerolinecolor": "white",
           "zerolinewidth": 2
          },
          "yaxis": {
           "automargin": true,
           "gridcolor": "white",
           "linecolor": "white",
           "ticks": "",
           "title": {
            "standoff": 15
           },
           "zerolinecolor": "white",
           "zerolinewidth": 2
          }
         }
        }
       }
      },
      "text/html": [
       "<div>                            <div id=\"003dc7e5-dd85-4089-bf18-446ddb912028\" class=\"plotly-graph-div\" style=\"height:525px; width:100%;\"></div>            <script type=\"text/javascript\">                require([\"plotly\"], function(Plotly) {                    window.PLOTLYENV=window.PLOTLYENV || {};                                    if (document.getElementById(\"003dc7e5-dd85-4089-bf18-446ddb912028\")) {                    Plotly.newPlot(                        \"003dc7e5-dd85-4089-bf18-446ddb912028\",                        [{\"domain\": {\"x\": [0.0, 0.1388888888888889], \"y\": [0.0, 1.0]}, \"hole\": 0.8, \"hoverinfo\": \"label+value\", \"labels\": [\"Missing Values\", \"Present Values\"], \"marker\": {\"colors\": [\"#FF800B\", \"#001024\"]}, \"text\": [\"0.00%\"], \"textinfo\": \"none\", \"type\": \"pie\", \"values\": [0, 307]}, {\"domain\": {\"x\": [0.17222222222222222, 0.3111111111111111], \"y\": [0.0, 1.0]}, \"hole\": 0.8, \"hoverinfo\": \"label+value\", \"labels\": [\"Missing Values\", \"Present Values\"], \"marker\": {\"colors\": [\"#FF800B\", \"#001024\"]}, \"text\": [\"0.00%\"], \"textinfo\": \"none\", \"type\": \"pie\", \"values\": [0, 307]}, {\"domain\": {\"x\": [0.34444444444444444, 0.48333333333333334], \"y\": [0.0, 1.0]}, \"hole\": 0.8, \"hoverinfo\": \"label+value\", \"labels\": [\"Missing Values\", \"Present Values\"], \"marker\": {\"colors\": [\"#FF800B\", \"#001024\"]}, \"text\": [\"0.00%\"], \"textinfo\": \"none\", \"type\": \"pie\", \"values\": [0, 307]}, {\"domain\": {\"x\": [0.5166666666666667, 0.6555555555555557], \"y\": [0.0, 1.0]}, \"hole\": 0.8, \"hoverinfo\": \"label+value\", \"labels\": [\"Missing Values\", \"Present Values\"], \"marker\": {\"colors\": [\"#FF800B\", \"#001024\"]}, \"text\": [\"0.00%\"], \"textinfo\": \"none\", \"type\": \"pie\", \"values\": [0, 307]}, {\"domain\": {\"x\": [0.6888888888888889, 0.8277777777777777], \"y\": [0.0, 1.0]}, \"hole\": 0.8, \"hoverinfo\": \"label+value\", \"labels\": [\"Missing Values\", \"Present Values\"], \"marker\": {\"colors\": [\"#FF800B\", \"#001024\"]}, \"text\": [\"32.76%\"], \"textinfo\": \"none\", \"type\": \"pie\", \"values\": [76, 155]}, {\"domain\": {\"x\": [0.861111111111111, 1.0], \"y\": [0.0, 1.0]}, \"hole\": 0.8, \"hoverinfo\": \"label+value\", \"labels\": [\"Missing Values\", \"Present Values\"], \"marker\": {\"colors\": [\"#FF800B\", \"#001024\"]}, \"text\": [\"32.90%\"], \"textinfo\": \"none\", \"type\": \"pie\", \"values\": [76, 155]}, {\"domain\": {\"x\": [0.861111111111111, 1.0], \"y\": [0.0, 1.0]}, \"hole\": 0.8, \"hoverinfo\": \"label+value\", \"labels\": [\"Missing Values\", \"Present Values\"], \"marker\": {\"colors\": [\"#FF800B\", \"#001024\"]}, \"text\": [\"32.47%\"], \"textinfo\": \"none\", \"type\": \"pie\", \"values\": [75, 157]}],                        {\"annotations\": [{\"font\": {\"size\": 16}, \"showarrow\": false, \"text\": \"Date\", \"x\": 0.06944444444444445, \"xanchor\": \"center\", \"xref\": \"paper\", \"y\": 1.0, \"yanchor\": \"bottom\", \"yref\": \"paper\"}, {\"font\": {\"size\": 16}, \"showarrow\": false, \"text\": \"Total Cases\", \"x\": 0.24166666666666667, \"xanchor\": \"center\", \"xref\": \"paper\", \"y\": 1.0, \"yanchor\": \"bottom\", \"yref\": \"paper\"}, {\"font\": {\"size\": 16}, \"showarrow\": false, \"text\": \"your text here\", \"x\": 0.5, \"xanchor\": \"center\", \"xref\": \"paper\", \"y\": 0.5, \"yanchor\": \"bottom\", \"yref\": \"paper\"}, {\"font\": {\"size\": 16}, \"showarrow\": false, \"text\": \"Population\", \"x\": 0.5861111111111112, \"xanchor\": \"center\", \"xref\": \"paper\", \"y\": 1.0, \"yanchor\": \"bottom\", \"yref\": \"paper\"}, {\"font\": {\"size\": 16}, \"showarrow\": false, \"text\": \"Number of Recovered People\", \"x\": 0.7583333333333333, \"xanchor\": \"center\", \"xref\": \"paper\", \"y\": 1.0, \"yanchor\": \"bottom\", \"yref\": \"paper\"}, {\"font\": {\"size\": 16}, \"showarrow\": false, \"text\": \"Number of Tested People\", \"x\": 0.9305555555555556, \"xanchor\": \"center\", \"xref\": \"paper\", \"y\": 1.0, \"yanchor\": \"bottom\", \"yref\": \"paper\"}, {\"font\": {\"size\": 20}, \"showarrow\": false, \"text\": \"0.00%\", \"x\": 0, \"y\": 0.5}, {\"font\": {\"size\": 20}, \"showarrow\": false, \"text\": \"0.00%\", \"x\": 0.2, \"y\": 0.5}, {\"font\": {\"size\": 20}, \"showarrow\": false, \"text\": \"0.00%\", \"x\": 0.91, \"y\": 0.5}, {\"font\": {\"size\": 20}, \"showarrow\": false, \"text\": \"0.00%\", \"x\": 0.1, \"y\": 0.5}, {\"font\": {\"size\": 20}, \"showarrow\": false, \"text\": \"32.76%\", \"x\": 0.5, \"y\": 0.5}, {\"font\": {\"size\": 20}, \"showarrow\": false, \"text\": \"32.90%\", \"x\": 0.91, \"y\": 0.5}, {\"font\": {\"size\": 20}, \"showarrow\": false, \"text\": \"32.47%\", \"x\": 0.91, \"y\": 0.5}], \"template\": {\"data\": {\"bar\": [{\"error_x\": {\"color\": \"#2a3f5f\"}, \"error_y\": {\"color\": \"#2a3f5f\"}, \"marker\": {\"line\": {\"color\": \"#E5ECF6\", \"width\": 0.5}}, \"type\": \"bar\"}], \"barpolar\": [{\"marker\": {\"line\": {\"color\": \"#E5ECF6\", \"width\": 0.5}}, \"type\": \"barpolar\"}], \"carpet\": [{\"aaxis\": {\"endlinecolor\": \"#2a3f5f\", \"gridcolor\": \"white\", \"linecolor\": \"white\", \"minorgridcolor\": \"white\", \"startlinecolor\": \"#2a3f5f\"}, \"baxis\": {\"endlinecolor\": \"#2a3f5f\", \"gridcolor\": \"white\", \"linecolor\": \"white\", \"minorgridcolor\": \"white\", \"startlinecolor\": \"#2a3f5f\"}, \"type\": \"carpet\"}], \"choropleth\": [{\"colorbar\": {\"outlinewidth\": 0, \"ticks\": \"\"}, \"type\": \"choropleth\"}], \"contour\": [{\"colorbar\": {\"outlinewidth\": 0, \"ticks\": \"\"}, \"colorscale\": [[0.0, \"#0d0887\"], [0.1111111111111111, \"#46039f\"], [0.2222222222222222, \"#7201a8\"], [0.3333333333333333, \"#9c179e\"], [0.4444444444444444, \"#bd3786\"], [0.5555555555555556, \"#d8576b\"], [0.6666666666666666, \"#ed7953\"], [0.7777777777777778, \"#fb9f3a\"], [0.8888888888888888, \"#fdca26\"], [1.0, \"#f0f921\"]], \"type\": \"contour\"}], \"contourcarpet\": [{\"colorbar\": {\"outlinewidth\": 0, \"ticks\": \"\"}, \"type\": \"contourcarpet\"}], \"heatmap\": [{\"colorbar\": {\"outlinewidth\": 0, \"ticks\": \"\"}, \"colorscale\": [[0.0, \"#0d0887\"], [0.1111111111111111, \"#46039f\"], [0.2222222222222222, \"#7201a8\"], [0.3333333333333333, \"#9c179e\"], [0.4444444444444444, \"#bd3786\"], [0.5555555555555556, \"#d8576b\"], [0.6666666666666666, \"#ed7953\"], [0.7777777777777778, \"#fb9f3a\"], [0.8888888888888888, \"#fdca26\"], [1.0, \"#f0f921\"]], \"type\": \"heatmap\"}], \"heatmapgl\": [{\"colorbar\": {\"outlinewidth\": 0, \"ticks\": \"\"}, \"colorscale\": [[0.0, \"#0d0887\"], [0.1111111111111111, \"#46039f\"], [0.2222222222222222, \"#7201a8\"], [0.3333333333333333, \"#9c179e\"], [0.4444444444444444, \"#bd3786\"], [0.5555555555555556, \"#d8576b\"], [0.6666666666666666, \"#ed7953\"], [0.7777777777777778, \"#fb9f3a\"], [0.8888888888888888, \"#fdca26\"], [1.0, \"#f0f921\"]], \"type\": \"heatmapgl\"}], \"histogram\": [{\"marker\": {\"colorbar\": {\"outlinewidth\": 0, \"ticks\": \"\"}}, \"type\": \"histogram\"}], \"histogram2d\": [{\"colorbar\": {\"outlinewidth\": 0, \"ticks\": \"\"}, \"colorscale\": [[0.0, \"#0d0887\"], [0.1111111111111111, \"#46039f\"], [0.2222222222222222, \"#7201a8\"], [0.3333333333333333, \"#9c179e\"], [0.4444444444444444, \"#bd3786\"], [0.5555555555555556, \"#d8576b\"], [0.6666666666666666, \"#ed7953\"], [0.7777777777777778, \"#fb9f3a\"], [0.8888888888888888, \"#fdca26\"], [1.0, \"#f0f921\"]], \"type\": \"histogram2d\"}], \"histogram2dcontour\": [{\"colorbar\": {\"outlinewidth\": 0, \"ticks\": \"\"}, \"colorscale\": [[0.0, \"#0d0887\"], [0.1111111111111111, \"#46039f\"], [0.2222222222222222, \"#7201a8\"], [0.3333333333333333, \"#9c179e\"], [0.4444444444444444, \"#bd3786\"], [0.5555555555555556, \"#d8576b\"], [0.6666666666666666, \"#ed7953\"], [0.7777777777777778, \"#fb9f3a\"], [0.8888888888888888, \"#fdca26\"], [1.0, \"#f0f921\"]], \"type\": \"histogram2dcontour\"}], \"mesh3d\": [{\"colorbar\": {\"outlinewidth\": 0, \"ticks\": \"\"}, \"type\": \"mesh3d\"}], \"parcoords\": [{\"line\": {\"colorbar\": {\"outlinewidth\": 0, \"ticks\": \"\"}}, \"type\": \"parcoords\"}], \"pie\": [{\"automargin\": true, \"type\": \"pie\"}], \"scatter\": [{\"marker\": {\"colorbar\": {\"outlinewidth\": 0, \"ticks\": \"\"}}, \"type\": \"scatter\"}], \"scatter3d\": [{\"line\": {\"colorbar\": {\"outlinewidth\": 0, \"ticks\": \"\"}}, \"marker\": {\"colorbar\": {\"outlinewidth\": 0, \"ticks\": \"\"}}, \"type\": \"scatter3d\"}], \"scattercarpet\": [{\"marker\": {\"colorbar\": {\"outlinewidth\": 0, \"ticks\": \"\"}}, \"type\": \"scattercarpet\"}], \"scattergeo\": [{\"marker\": {\"colorbar\": {\"outlinewidth\": 0, \"ticks\": \"\"}}, \"type\": \"scattergeo\"}], \"scattergl\": [{\"marker\": {\"colorbar\": {\"outlinewidth\": 0, \"ticks\": \"\"}}, \"type\": \"scattergl\"}], \"scattermapbox\": [{\"marker\": {\"colorbar\": {\"outlinewidth\": 0, \"ticks\": \"\"}}, \"type\": \"scattermapbox\"}], \"scatterpolar\": [{\"marker\": {\"colorbar\": {\"outlinewidth\": 0, \"ticks\": \"\"}}, \"type\": \"scatterpolar\"}], \"scatterpolargl\": [{\"marker\": {\"colorbar\": {\"outlinewidth\": 0, \"ticks\": \"\"}}, \"type\": \"scatterpolargl\"}], \"scatterternary\": [{\"marker\": {\"colorbar\": {\"outlinewidth\": 0, \"ticks\": \"\"}}, \"type\": \"scatterternary\"}], \"surface\": [{\"colorbar\": {\"outlinewidth\": 0, \"ticks\": \"\"}, \"colorscale\": [[0.0, \"#0d0887\"], [0.1111111111111111, \"#46039f\"], [0.2222222222222222, \"#7201a8\"], [0.3333333333333333, \"#9c179e\"], [0.4444444444444444, \"#bd3786\"], [0.5555555555555556, \"#d8576b\"], [0.6666666666666666, \"#ed7953\"], [0.7777777777777778, \"#fb9f3a\"], [0.8888888888888888, \"#fdca26\"], [1.0, \"#f0f921\"]], \"type\": \"surface\"}], \"table\": [{\"cells\": {\"fill\": {\"color\": \"#EBF0F8\"}, \"line\": {\"color\": \"white\"}}, \"header\": {\"fill\": {\"color\": \"#C8D4E3\"}, \"line\": {\"color\": \"white\"}}, \"type\": \"table\"}]}, \"layout\": {\"annotationdefaults\": {\"arrowcolor\": \"#2a3f5f\", \"arrowhead\": 0, \"arrowwidth\": 1}, \"autotypenumbers\": \"strict\", \"coloraxis\": {\"colorbar\": {\"outlinewidth\": 0, \"ticks\": \"\"}}, \"colorscale\": {\"diverging\": [[0, \"#8e0152\"], [0.1, \"#c51b7d\"], [0.2, \"#de77ae\"], [0.3, \"#f1b6da\"], [0.4, \"#fde0ef\"], [0.5, \"#f7f7f7\"], [0.6, \"#e6f5d0\"], [0.7, \"#b8e186\"], [0.8, \"#7fbc41\"], [0.9, \"#4d9221\"], [1, \"#276419\"]], \"sequential\": [[0.0, \"#0d0887\"], [0.1111111111111111, \"#46039f\"], [0.2222222222222222, \"#7201a8\"], [0.3333333333333333, \"#9c179e\"], [0.4444444444444444, \"#bd3786\"], [0.5555555555555556, \"#d8576b\"], [0.6666666666666666, \"#ed7953\"], [0.7777777777777778, \"#fb9f3a\"], [0.8888888888888888, \"#fdca26\"], [1.0, \"#f0f921\"]], \"sequentialminus\": [[0.0, \"#0d0887\"], [0.1111111111111111, \"#46039f\"], [0.2222222222222222, \"#7201a8\"], [0.3333333333333333, \"#9c179e\"], [0.4444444444444444, \"#bd3786\"], [0.5555555555555556, \"#d8576b\"], [0.6666666666666666, \"#ed7953\"], [0.7777777777777778, \"#fb9f3a\"], [0.8888888888888888, \"#fdca26\"], [1.0, \"#f0f921\"]]}, \"colorway\": [\"#636efa\", \"#EF553B\", \"#00cc96\", \"#ab63fa\", \"#FFA15A\", \"#19d3f3\", \"#FF6692\", \"#B6E880\", \"#FF97FF\", \"#FECB52\"], \"font\": {\"color\": \"#2a3f5f\"}, \"geo\": {\"bgcolor\": \"white\", \"lakecolor\": \"white\", \"landcolor\": \"#E5ECF6\", \"showlakes\": true, \"showland\": true, \"subunitcolor\": \"white\"}, \"hoverlabel\": {\"align\": \"left\"}, \"hovermode\": \"closest\", \"mapbox\": {\"style\": \"light\"}, \"paper_bgcolor\": \"white\", \"plot_bgcolor\": \"#E5ECF6\", \"polar\": {\"angularaxis\": {\"gridcolor\": \"white\", \"linecolor\": \"white\", \"ticks\": \"\"}, \"bgcolor\": \"#E5ECF6\", \"radialaxis\": {\"gridcolor\": \"white\", \"linecolor\": \"white\", \"ticks\": \"\"}}, \"scene\": {\"xaxis\": {\"backgroundcolor\": \"#E5ECF6\", \"gridcolor\": \"white\", \"gridwidth\": 2, \"linecolor\": \"white\", \"showbackground\": true, \"ticks\": \"\", \"zerolinecolor\": \"white\"}, \"yaxis\": {\"backgroundcolor\": \"#E5ECF6\", \"gridcolor\": \"white\", \"gridwidth\": 2, \"linecolor\": \"white\", \"showbackground\": true, \"ticks\": \"\", \"zerolinecolor\": \"white\"}, \"zaxis\": {\"backgroundcolor\": \"#E5ECF6\", \"gridcolor\": \"white\", \"gridwidth\": 2, \"linecolor\": \"white\", \"showbackground\": true, \"ticks\": \"\", \"zerolinecolor\": \"white\"}}, \"shapedefaults\": {\"line\": {\"color\": \"#2a3f5f\"}}, \"ternary\": {\"aaxis\": {\"gridcolor\": \"white\", \"linecolor\": \"white\", \"ticks\": \"\"}, \"baxis\": {\"gridcolor\": \"white\", \"linecolor\": \"white\", \"ticks\": \"\"}, \"bgcolor\": \"#E5ECF6\", \"caxis\": {\"gridcolor\": \"white\", \"linecolor\": \"white\", \"ticks\": \"\"}}, \"title\": {\"x\": 0.05}, \"xaxis\": {\"automargin\": true, \"gridcolor\": \"white\", \"linecolor\": \"white\", \"ticks\": \"\", \"title\": {\"standoff\": 15}, \"zerolinecolor\": \"white\", \"zerolinewidth\": 2}, \"yaxis\": {\"automargin\": true, \"gridcolor\": \"white\", \"linecolor\": \"white\", \"ticks\": \"\", \"title\": {\"standoff\": 15}, \"zerolinecolor\": \"white\", \"zerolinewidth\": 2}}}},                        {\"responsive\": true}                    ).then(function(){\n",
       "                            \n",
       "var gd = document.getElementById('003dc7e5-dd85-4089-bf18-446ddb912028');\n",
       "var x = new MutationObserver(function (mutations, observer) {{\n",
       "        var display = window.getComputedStyle(gd).display;\n",
       "        if (!display || display === 'none') {{\n",
       "            console.log([gd, 'removed!']);\n",
       "            Plotly.purge(gd);\n",
       "            observer.disconnect();\n",
       "        }}\n",
       "}});\n",
       "\n",
       "// Listen for the removal of the full notebook cells\n",
       "var notebookContainer = gd.closest('#notebook-container');\n",
       "if (notebookContainer) {{\n",
       "    x.observe(notebookContainer, {childList: true});\n",
       "}}\n",
       "\n",
       "// Listen for the clearing of the current output cell\n",
       "var outputEl = gd.closest('.output');\n",
       "if (outputEl) {{\n",
       "    x.observe(outputEl, {childList: true});\n",
       "}}\n",
       "\n",
       "                        })                };                });            </script>        </div>"
      ]
     },
     "metadata": {},
     "output_type": "display_data"
    },
    {
     "data": {
      "application/vnd.plotly.v1+json": {
       "config": {
        "plotlyServerURL": "https://plot.ly"
       },
       "data": [
        {
         "domain": {
          "x": [
           0,
           0.1388888888888889
          ],
          "y": [
           0,
           1
          ]
         },
         "hole": 0.8,
         "hoverinfo": "label+value",
         "labels": [
          "Missing Values",
          "Present Values"
         ],
         "marker": {
          "colors": [
           "#FF800B",
           "#001024"
          ]
         },
         "text": [
          "0.00%"
         ],
         "textinfo": "none",
         "type": "pie",
         "values": [
          0,
          307
         ]
        },
        {
         "domain": {
          "x": [
           0.17222222222222222,
           0.3111111111111111
          ],
          "y": [
           0,
           1
          ]
         },
         "hole": 0.8,
         "hoverinfo": "label+value",
         "labels": [
          "Missing Values",
          "Present Values"
         ],
         "marker": {
          "colors": [
           "#FF800B",
           "#001024"
          ]
         },
         "text": [
          "0.00%"
         ],
         "textinfo": "none",
         "type": "pie",
         "values": [
          0,
          307
         ]
        },
        {
         "domain": {
          "x": [
           0.34444444444444444,
           0.48333333333333334
          ],
          "y": [
           0,
           1
          ]
         },
         "hole": 0.8,
         "hoverinfo": "label+value",
         "labels": [
          "Missing Values",
          "Present Values"
         ],
         "marker": {
          "colors": [
           "#FF800B",
           "#001024"
          ]
         },
         "text": [
          "0.00%"
         ],
         "textinfo": "none",
         "type": "pie",
         "values": [
          0,
          307
         ]
        },
        {
         "domain": {
          "x": [
           0.5166666666666667,
           0.6555555555555557
          ],
          "y": [
           0,
           1
          ]
         },
         "hole": 0.8,
         "hoverinfo": "label+value",
         "labels": [
          "Missing Values",
          "Present Values"
         ],
         "marker": {
          "colors": [
           "#FF800B",
           "#001024"
          ]
         },
         "text": [
          "0.00%"
         ],
         "textinfo": "none",
         "type": "pie",
         "values": [
          0,
          307
         ]
        },
        {
         "domain": {
          "x": [
           0.6888888888888889,
           0.8277777777777777
          ],
          "y": [
           0,
           1
          ]
         },
         "hole": 0.8,
         "hoverinfo": "label+value",
         "labels": [
          "Missing Values",
          "Present Values"
         ],
         "marker": {
          "colors": [
           "#FF800B",
           "#001024"
          ]
         },
         "text": [
          "32.76%"
         ],
         "textinfo": "none",
         "type": "pie",
         "values": [
          76,
          155
         ]
        },
        {
         "domain": {
          "x": [
           0.861111111111111,
           1
          ],
          "y": [
           0,
           1
          ]
         },
         "hole": 0.8,
         "hoverinfo": "label+value",
         "labels": [
          "Missing Values",
          "Present Values"
         ],
         "marker": {
          "colors": [
           "#FF800B",
           "#001024"
          ]
         },
         "text": [
          "32.90%"
         ],
         "textinfo": "none",
         "type": "pie",
         "values": [
          76,
          155
         ]
        },
        {
         "domain": {
          "x": [
           0.861111111111111,
           1
          ],
          "y": [
           0,
           1
          ]
         },
         "hole": 0.8,
         "hoverinfo": "label+value",
         "labels": [
          "Missing Values",
          "Present Values"
         ],
         "marker": {
          "colors": [
           "#FF800B",
           "#001024"
          ]
         },
         "text": [
          "32.47%"
         ],
         "textinfo": "none",
         "type": "pie",
         "values": [
          75,
          157
         ]
        }
       ],
       "layout": {
        "annotations": [
         {
          "font": {
           "size": 16
          },
          "showarrow": false,
          "text": "Date",
          "x": 0.06944444444444445,
          "xanchor": "center",
          "xref": "paper",
          "y": 1,
          "yanchor": "bottom",
          "yref": "paper"
         },
         {
          "font": {
           "size": 16
          },
          "showarrow": false,
          "text": "Total Cases",
          "x": 0.24166666666666667,
          "xanchor": "center",
          "xref": "paper",
          "y": 1,
          "yanchor": "bottom",
          "yref": "paper"
         },
         {
          "font": {
           "size": 16
          },
          "showarrow": false,
          "text": "your text here",
          "x": 0.5,
          "xanchor": "center",
          "xref": "paper",
          "y": 0.5,
          "yanchor": "bottom",
          "yref": "paper"
         },
         {
          "font": {
           "size": 16
          },
          "showarrow": false,
          "text": "Population",
          "x": 0.5861111111111112,
          "xanchor": "center",
          "xref": "paper",
          "y": 1,
          "yanchor": "bottom",
          "yref": "paper"
         },
         {
          "font": {
           "size": 16
          },
          "showarrow": false,
          "text": "Number of Recovered People",
          "x": 0.7583333333333333,
          "xanchor": "center",
          "xref": "paper",
          "y": 1,
          "yanchor": "bottom",
          "yref": "paper"
         },
         {
          "font": {
           "size": 16
          },
          "showarrow": false,
          "text": "Number of Tested People",
          "x": 0.9305555555555556,
          "xanchor": "center",
          "xref": "paper",
          "y": 1,
          "yanchor": "bottom",
          "yref": "paper"
         },
         {
          "font": {
           "size": 20
          },
          "showarrow": false,
          "text": "0.00%",
          "x": 0,
          "y": 0.5
         },
         {
          "font": {
           "size": 20
          },
          "showarrow": false,
          "text": "0.00%",
          "x": 0.2,
          "y": 0.5
         },
         {
          "font": {
           "size": 20
          },
          "showarrow": false,
          "text": "0.00%",
          "x": 0.91,
          "y": 0.5
         },
         {
          "font": {
           "size": 20
          },
          "showarrow": false,
          "text": "0.00%",
          "x": 0.1,
          "y": 0.5
         },
         {
          "font": {
           "size": 20
          },
          "showarrow": false,
          "text": "32.76%",
          "x": 0.5,
          "y": 0.5
         },
         {
          "font": {
           "size": 20
          },
          "showarrow": false,
          "text": "32.90%",
          "x": 0.91,
          "y": 0.5
         },
         {
          "font": {
           "size": 20
          },
          "showarrow": false,
          "text": "32.47%",
          "x": 0.91,
          "y": 0.5
         }
        ],
        "template": {
         "data": {
          "bar": [
           {
            "error_x": {
             "color": "#2a3f5f"
            },
            "error_y": {
             "color": "#2a3f5f"
            },
            "marker": {
             "line": {
              "color": "#E5ECF6",
              "width": 0.5
             }
            },
            "type": "bar"
           }
          ],
          "barpolar": [
           {
            "marker": {
             "line": {
              "color": "#E5ECF6",
              "width": 0.5
             }
            },
            "type": "barpolar"
           }
          ],
          "carpet": [
           {
            "aaxis": {
             "endlinecolor": "#2a3f5f",
             "gridcolor": "white",
             "linecolor": "white",
             "minorgridcolor": "white",
             "startlinecolor": "#2a3f5f"
            },
            "baxis": {
             "endlinecolor": "#2a3f5f",
             "gridcolor": "white",
             "linecolor": "white",
             "minorgridcolor": "white",
             "startlinecolor": "#2a3f5f"
            },
            "type": "carpet"
           }
          ],
          "choropleth": [
           {
            "colorbar": {
             "outlinewidth": 0,
             "ticks": ""
            },
            "type": "choropleth"
           }
          ],
          "contour": [
           {
            "colorbar": {
             "outlinewidth": 0,
             "ticks": ""
            },
            "colorscale": [
             [
              0,
              "#0d0887"
             ],
             [
              0.1111111111111111,
              "#46039f"
             ],
             [
              0.2222222222222222,
              "#7201a8"
             ],
             [
              0.3333333333333333,
              "#9c179e"
             ],
             [
              0.4444444444444444,
              "#bd3786"
             ],
             [
              0.5555555555555556,
              "#d8576b"
             ],
             [
              0.6666666666666666,
              "#ed7953"
             ],
             [
              0.7777777777777778,
              "#fb9f3a"
             ],
             [
              0.8888888888888888,
              "#fdca26"
             ],
             [
              1,
              "#f0f921"
             ]
            ],
            "type": "contour"
           }
          ],
          "contourcarpet": [
           {
            "colorbar": {
             "outlinewidth": 0,
             "ticks": ""
            },
            "type": "contourcarpet"
           }
          ],
          "heatmap": [
           {
            "colorbar": {
             "outlinewidth": 0,
             "ticks": ""
            },
            "colorscale": [
             [
              0,
              "#0d0887"
             ],
             [
              0.1111111111111111,
              "#46039f"
             ],
             [
              0.2222222222222222,
              "#7201a8"
             ],
             [
              0.3333333333333333,
              "#9c179e"
             ],
             [
              0.4444444444444444,
              "#bd3786"
             ],
             [
              0.5555555555555556,
              "#d8576b"
             ],
             [
              0.6666666666666666,
              "#ed7953"
             ],
             [
              0.7777777777777778,
              "#fb9f3a"
             ],
             [
              0.8888888888888888,
              "#fdca26"
             ],
             [
              1,
              "#f0f921"
             ]
            ],
            "type": "heatmap"
           }
          ],
          "heatmapgl": [
           {
            "colorbar": {
             "outlinewidth": 0,
             "ticks": ""
            },
            "colorscale": [
             [
              0,
              "#0d0887"
             ],
             [
              0.1111111111111111,
              "#46039f"
             ],
             [
              0.2222222222222222,
              "#7201a8"
             ],
             [
              0.3333333333333333,
              "#9c179e"
             ],
             [
              0.4444444444444444,
              "#bd3786"
             ],
             [
              0.5555555555555556,
              "#d8576b"
             ],
             [
              0.6666666666666666,
              "#ed7953"
             ],
             [
              0.7777777777777778,
              "#fb9f3a"
             ],
             [
              0.8888888888888888,
              "#fdca26"
             ],
             [
              1,
              "#f0f921"
             ]
            ],
            "type": "heatmapgl"
           }
          ],
          "histogram": [
           {
            "marker": {
             "colorbar": {
              "outlinewidth": 0,
              "ticks": ""
             }
            },
            "type": "histogram"
           }
          ],
          "histogram2d": [
           {
            "colorbar": {
             "outlinewidth": 0,
             "ticks": ""
            },
            "colorscale": [
             [
              0,
              "#0d0887"
             ],
             [
              0.1111111111111111,
              "#46039f"
             ],
             [
              0.2222222222222222,
              "#7201a8"
             ],
             [
              0.3333333333333333,
              "#9c179e"
             ],
             [
              0.4444444444444444,
              "#bd3786"
             ],
             [
              0.5555555555555556,
              "#d8576b"
             ],
             [
              0.6666666666666666,
              "#ed7953"
             ],
             [
              0.7777777777777778,
              "#fb9f3a"
             ],
             [
              0.8888888888888888,
              "#fdca26"
             ],
             [
              1,
              "#f0f921"
             ]
            ],
            "type": "histogram2d"
           }
          ],
          "histogram2dcontour": [
           {
            "colorbar": {
             "outlinewidth": 0,
             "ticks": ""
            },
            "colorscale": [
             [
              0,
              "#0d0887"
             ],
             [
              0.1111111111111111,
              "#46039f"
             ],
             [
              0.2222222222222222,
              "#7201a8"
             ],
             [
              0.3333333333333333,
              "#9c179e"
             ],
             [
              0.4444444444444444,
              "#bd3786"
             ],
             [
              0.5555555555555556,
              "#d8576b"
             ],
             [
              0.6666666666666666,
              "#ed7953"
             ],
             [
              0.7777777777777778,
              "#fb9f3a"
             ],
             [
              0.8888888888888888,
              "#fdca26"
             ],
             [
              1,
              "#f0f921"
             ]
            ],
            "type": "histogram2dcontour"
           }
          ],
          "mesh3d": [
           {
            "colorbar": {
             "outlinewidth": 0,
             "ticks": ""
            },
            "type": "mesh3d"
           }
          ],
          "parcoords": [
           {
            "line": {
             "colorbar": {
              "outlinewidth": 0,
              "ticks": ""
             }
            },
            "type": "parcoords"
           }
          ],
          "pie": [
           {
            "automargin": true,
            "type": "pie"
           }
          ],
          "scatter": [
           {
            "marker": {
             "colorbar": {
              "outlinewidth": 0,
              "ticks": ""
             }
            },
            "type": "scatter"
           }
          ],
          "scatter3d": [
           {
            "line": {
             "colorbar": {
              "outlinewidth": 0,
              "ticks": ""
             }
            },
            "marker": {
             "colorbar": {
              "outlinewidth": 0,
              "ticks": ""
             }
            },
            "type": "scatter3d"
           }
          ],
          "scattercarpet": [
           {
            "marker": {
             "colorbar": {
              "outlinewidth": 0,
              "ticks": ""
             }
            },
            "type": "scattercarpet"
           }
          ],
          "scattergeo": [
           {
            "marker": {
             "colorbar": {
              "outlinewidth": 0,
              "ticks": ""
             }
            },
            "type": "scattergeo"
           }
          ],
          "scattergl": [
           {
            "marker": {
             "colorbar": {
              "outlinewidth": 0,
              "ticks": ""
             }
            },
            "type": "scattergl"
           }
          ],
          "scattermapbox": [
           {
            "marker": {
             "colorbar": {
              "outlinewidth": 0,
              "ticks": ""
             }
            },
            "type": "scattermapbox"
           }
          ],
          "scatterpolar": [
           {
            "marker": {
             "colorbar": {
              "outlinewidth": 0,
              "ticks": ""
             }
            },
            "type": "scatterpolar"
           }
          ],
          "scatterpolargl": [
           {
            "marker": {
             "colorbar": {
              "outlinewidth": 0,
              "ticks": ""
             }
            },
            "type": "scatterpolargl"
           }
          ],
          "scatterternary": [
           {
            "marker": {
             "colorbar": {
              "outlinewidth": 0,
              "ticks": ""
             }
            },
            "type": "scatterternary"
           }
          ],
          "surface": [
           {
            "colorbar": {
             "outlinewidth": 0,
             "ticks": ""
            },
            "colorscale": [
             [
              0,
              "#0d0887"
             ],
             [
              0.1111111111111111,
              "#46039f"
             ],
             [
              0.2222222222222222,
              "#7201a8"
             ],
             [
              0.3333333333333333,
              "#9c179e"
             ],
             [
              0.4444444444444444,
              "#bd3786"
             ],
             [
              0.5555555555555556,
              "#d8576b"
             ],
             [
              0.6666666666666666,
              "#ed7953"
             ],
             [
              0.7777777777777778,
              "#fb9f3a"
             ],
             [
              0.8888888888888888,
              "#fdca26"
             ],
             [
              1,
              "#f0f921"
             ]
            ],
            "type": "surface"
           }
          ],
          "table": [
           {
            "cells": {
             "fill": {
              "color": "#EBF0F8"
             },
             "line": {
              "color": "white"
             }
            },
            "header": {
             "fill": {
              "color": "#C8D4E3"
             },
             "line": {
              "color": "white"
             }
            },
            "type": "table"
           }
          ]
         },
         "layout": {
          "annotationdefaults": {
           "arrowcolor": "#2a3f5f",
           "arrowhead": 0,
           "arrowwidth": 1
          },
          "autotypenumbers": "strict",
          "coloraxis": {
           "colorbar": {
            "outlinewidth": 0,
            "ticks": ""
           }
          },
          "colorscale": {
           "diverging": [
            [
             0,
             "#8e0152"
            ],
            [
             0.1,
             "#c51b7d"
            ],
            [
             0.2,
             "#de77ae"
            ],
            [
             0.3,
             "#f1b6da"
            ],
            [
             0.4,
             "#fde0ef"
            ],
            [
             0.5,
             "#f7f7f7"
            ],
            [
             0.6,
             "#e6f5d0"
            ],
            [
             0.7,
             "#b8e186"
            ],
            [
             0.8,
             "#7fbc41"
            ],
            [
             0.9,
             "#4d9221"
            ],
            [
             1,
             "#276419"
            ]
           ],
           "sequential": [
            [
             0,
             "#0d0887"
            ],
            [
             0.1111111111111111,
             "#46039f"
            ],
            [
             0.2222222222222222,
             "#7201a8"
            ],
            [
             0.3333333333333333,
             "#9c179e"
            ],
            [
             0.4444444444444444,
             "#bd3786"
            ],
            [
             0.5555555555555556,
             "#d8576b"
            ],
            [
             0.6666666666666666,
             "#ed7953"
            ],
            [
             0.7777777777777778,
             "#fb9f3a"
            ],
            [
             0.8888888888888888,
             "#fdca26"
            ],
            [
             1,
             "#f0f921"
            ]
           ],
           "sequentialminus": [
            [
             0,
             "#0d0887"
            ],
            [
             0.1111111111111111,
             "#46039f"
            ],
            [
             0.2222222222222222,
             "#7201a8"
            ],
            [
             0.3333333333333333,
             "#9c179e"
            ],
            [
             0.4444444444444444,
             "#bd3786"
            ],
            [
             0.5555555555555556,
             "#d8576b"
            ],
            [
             0.6666666666666666,
             "#ed7953"
            ],
            [
             0.7777777777777778,
             "#fb9f3a"
            ],
            [
             0.8888888888888888,
             "#fdca26"
            ],
            [
             1,
             "#f0f921"
            ]
           ]
          },
          "colorway": [
           "#636efa",
           "#EF553B",
           "#00cc96",
           "#ab63fa",
           "#FFA15A",
           "#19d3f3",
           "#FF6692",
           "#B6E880",
           "#FF97FF",
           "#FECB52"
          ],
          "font": {
           "color": "#2a3f5f"
          },
          "geo": {
           "bgcolor": "white",
           "lakecolor": "white",
           "landcolor": "#E5ECF6",
           "showlakes": true,
           "showland": true,
           "subunitcolor": "white"
          },
          "hoverlabel": {
           "align": "left"
          },
          "hovermode": "closest",
          "mapbox": {
           "style": "light"
          },
          "paper_bgcolor": "white",
          "plot_bgcolor": "#E5ECF6",
          "polar": {
           "angularaxis": {
            "gridcolor": "white",
            "linecolor": "white",
            "ticks": ""
           },
           "bgcolor": "#E5ECF6",
           "radialaxis": {
            "gridcolor": "white",
            "linecolor": "white",
            "ticks": ""
           }
          },
          "scene": {
           "xaxis": {
            "backgroundcolor": "#E5ECF6",
            "gridcolor": "white",
            "gridwidth": 2,
            "linecolor": "white",
            "showbackground": true,
            "ticks": "",
            "zerolinecolor": "white"
           },
           "yaxis": {
            "backgroundcolor": "#E5ECF6",
            "gridcolor": "white",
            "gridwidth": 2,
            "linecolor": "white",
            "showbackground": true,
            "ticks": "",
            "zerolinecolor": "white"
           },
           "zaxis": {
            "backgroundcolor": "#E5ECF6",
            "gridcolor": "white",
            "gridwidth": 2,
            "linecolor": "white",
            "showbackground": true,
            "ticks": "",
            "zerolinecolor": "white"
           }
          },
          "shapedefaults": {
           "line": {
            "color": "#2a3f5f"
           }
          },
          "ternary": {
           "aaxis": {
            "gridcolor": "white",
            "linecolor": "white",
            "ticks": ""
           },
           "baxis": {
            "gridcolor": "white",
            "linecolor": "white",
            "ticks": ""
           },
           "bgcolor": "#E5ECF6",
           "caxis": {
            "gridcolor": "white",
            "linecolor": "white",
            "ticks": ""
           }
          },
          "title": {
           "x": 0.05
          },
          "xaxis": {
           "automargin": true,
           "gridcolor": "white",
           "linecolor": "white",
           "ticks": "",
           "title": {
            "standoff": 15
           },
           "zerolinecolor": "white",
           "zerolinewidth": 2
          },
          "yaxis": {
           "automargin": true,
           "gridcolor": "white",
           "linecolor": "white",
           "ticks": "",
           "title": {
            "standoff": 15
           },
           "zerolinecolor": "white",
           "zerolinewidth": 2
          }
         }
        },
        "title": {
         "text": "Missing Valus for the columns that are derived from the website of Ministry of Civil Affairs"
        }
       }
      },
      "text/html": [
       "<div>                            <div id=\"acbf03e5-ca11-4844-a2eb-a215202f87d3\" class=\"plotly-graph-div\" style=\"height:525px; width:100%;\"></div>            <script type=\"text/javascript\">                require([\"plotly\"], function(Plotly) {                    window.PLOTLYENV=window.PLOTLYENV || {};                                    if (document.getElementById(\"acbf03e5-ca11-4844-a2eb-a215202f87d3\")) {                    Plotly.newPlot(                        \"acbf03e5-ca11-4844-a2eb-a215202f87d3\",                        [{\"domain\": {\"x\": [0.0, 0.1388888888888889], \"y\": [0.0, 1.0]}, \"hole\": 0.8, \"hoverinfo\": \"label+value\", \"labels\": [\"Missing Values\", \"Present Values\"], \"marker\": {\"colors\": [\"#FF800B\", \"#001024\"]}, \"text\": [\"0.00%\"], \"textinfo\": \"none\", \"type\": \"pie\", \"values\": [0, 307]}, {\"domain\": {\"x\": [0.17222222222222222, 0.3111111111111111], \"y\": [0.0, 1.0]}, \"hole\": 0.8, \"hoverinfo\": \"label+value\", \"labels\": [\"Missing Values\", \"Present Values\"], \"marker\": {\"colors\": [\"#FF800B\", \"#001024\"]}, \"text\": [\"0.00%\"], \"textinfo\": \"none\", \"type\": \"pie\", \"values\": [0, 307]}, {\"domain\": {\"x\": [0.34444444444444444, 0.48333333333333334], \"y\": [0.0, 1.0]}, \"hole\": 0.8, \"hoverinfo\": \"label+value\", \"labels\": [\"Missing Values\", \"Present Values\"], \"marker\": {\"colors\": [\"#FF800B\", \"#001024\"]}, \"text\": [\"0.00%\"], \"textinfo\": \"none\", \"type\": \"pie\", \"values\": [0, 307]}, {\"domain\": {\"x\": [0.5166666666666667, 0.6555555555555557], \"y\": [0.0, 1.0]}, \"hole\": 0.8, \"hoverinfo\": \"label+value\", \"labels\": [\"Missing Values\", \"Present Values\"], \"marker\": {\"colors\": [\"#FF800B\", \"#001024\"]}, \"text\": [\"0.00%\"], \"textinfo\": \"none\", \"type\": \"pie\", \"values\": [0, 307]}, {\"domain\": {\"x\": [0.6888888888888889, 0.8277777777777777], \"y\": [0.0, 1.0]}, \"hole\": 0.8, \"hoverinfo\": \"label+value\", \"labels\": [\"Missing Values\", \"Present Values\"], \"marker\": {\"colors\": [\"#FF800B\", \"#001024\"]}, \"text\": [\"32.76%\"], \"textinfo\": \"none\", \"type\": \"pie\", \"values\": [76, 155]}, {\"domain\": {\"x\": [0.861111111111111, 1.0], \"y\": [0.0, 1.0]}, \"hole\": 0.8, \"hoverinfo\": \"label+value\", \"labels\": [\"Missing Values\", \"Present Values\"], \"marker\": {\"colors\": [\"#FF800B\", \"#001024\"]}, \"text\": [\"32.90%\"], \"textinfo\": \"none\", \"type\": \"pie\", \"values\": [76, 155]}, {\"domain\": {\"x\": [0.861111111111111, 1.0], \"y\": [0.0, 1.0]}, \"hole\": 0.8, \"hoverinfo\": \"label+value\", \"labels\": [\"Missing Values\", \"Present Values\"], \"marker\": {\"colors\": [\"#FF800B\", \"#001024\"]}, \"text\": [\"32.47%\"], \"textinfo\": \"none\", \"type\": \"pie\", \"values\": [75, 157]}],                        {\"annotations\": [{\"font\": {\"size\": 16}, \"showarrow\": false, \"text\": \"Date\", \"x\": 0.06944444444444445, \"xanchor\": \"center\", \"xref\": \"paper\", \"y\": 1.0, \"yanchor\": \"bottom\", \"yref\": \"paper\"}, {\"font\": {\"size\": 16}, \"showarrow\": false, \"text\": \"Total Cases\", \"x\": 0.24166666666666667, \"xanchor\": \"center\", \"xref\": \"paper\", \"y\": 1.0, \"yanchor\": \"bottom\", \"yref\": \"paper\"}, {\"font\": {\"size\": 16}, \"showarrow\": false, \"text\": \"your text here\", \"x\": 0.5, \"xanchor\": \"center\", \"xref\": \"paper\", \"y\": 0.5, \"yanchor\": \"bottom\", \"yref\": \"paper\"}, {\"font\": {\"size\": 16}, \"showarrow\": false, \"text\": \"Population\", \"x\": 0.5861111111111112, \"xanchor\": \"center\", \"xref\": \"paper\", \"y\": 1.0, \"yanchor\": \"bottom\", \"yref\": \"paper\"}, {\"font\": {\"size\": 16}, \"showarrow\": false, \"text\": \"Number of Recovered People\", \"x\": 0.7583333333333333, \"xanchor\": \"center\", \"xref\": \"paper\", \"y\": 1.0, \"yanchor\": \"bottom\", \"yref\": \"paper\"}, {\"font\": {\"size\": 16}, \"showarrow\": false, \"text\": \"Number of Tested People\", \"x\": 0.9305555555555556, \"xanchor\": \"center\", \"xref\": \"paper\", \"y\": 1.0, \"yanchor\": \"bottom\", \"yref\": \"paper\"}, {\"font\": {\"size\": 20}, \"showarrow\": false, \"text\": \"0.00%\", \"x\": 0, \"y\": 0.5}, {\"font\": {\"size\": 20}, \"showarrow\": false, \"text\": \"0.00%\", \"x\": 0.2, \"y\": 0.5}, {\"font\": {\"size\": 20}, \"showarrow\": false, \"text\": \"0.00%\", \"x\": 0.91, \"y\": 0.5}, {\"font\": {\"size\": 20}, \"showarrow\": false, \"text\": \"0.00%\", \"x\": 0.1, \"y\": 0.5}, {\"font\": {\"size\": 20}, \"showarrow\": false, \"text\": \"32.76%\", \"x\": 0.5, \"y\": 0.5}, {\"font\": {\"size\": 20}, \"showarrow\": false, \"text\": \"32.90%\", \"x\": 0.91, \"y\": 0.5}, {\"font\": {\"size\": 20}, \"showarrow\": false, \"text\": \"32.47%\", \"x\": 0.91, \"y\": 0.5}], \"template\": {\"data\": {\"bar\": [{\"error_x\": {\"color\": \"#2a3f5f\"}, \"error_y\": {\"color\": \"#2a3f5f\"}, \"marker\": {\"line\": {\"color\": \"#E5ECF6\", \"width\": 0.5}}, \"type\": \"bar\"}], \"barpolar\": [{\"marker\": {\"line\": {\"color\": \"#E5ECF6\", \"width\": 0.5}}, \"type\": \"barpolar\"}], \"carpet\": [{\"aaxis\": {\"endlinecolor\": \"#2a3f5f\", \"gridcolor\": \"white\", \"linecolor\": \"white\", \"minorgridcolor\": \"white\", \"startlinecolor\": \"#2a3f5f\"}, \"baxis\": {\"endlinecolor\": \"#2a3f5f\", \"gridcolor\": \"white\", \"linecolor\": \"white\", \"minorgridcolor\": \"white\", \"startlinecolor\": \"#2a3f5f\"}, \"type\": \"carpet\"}], \"choropleth\": [{\"colorbar\": {\"outlinewidth\": 0, \"ticks\": \"\"}, \"type\": \"choropleth\"}], \"contour\": [{\"colorbar\": {\"outlinewidth\": 0, \"ticks\": \"\"}, \"colorscale\": [[0.0, \"#0d0887\"], [0.1111111111111111, \"#46039f\"], [0.2222222222222222, \"#7201a8\"], [0.3333333333333333, \"#9c179e\"], [0.4444444444444444, \"#bd3786\"], [0.5555555555555556, \"#d8576b\"], [0.6666666666666666, \"#ed7953\"], [0.7777777777777778, \"#fb9f3a\"], [0.8888888888888888, \"#fdca26\"], [1.0, \"#f0f921\"]], \"type\": \"contour\"}], \"contourcarpet\": [{\"colorbar\": {\"outlinewidth\": 0, \"ticks\": \"\"}, \"type\": \"contourcarpet\"}], \"heatmap\": [{\"colorbar\": {\"outlinewidth\": 0, \"ticks\": \"\"}, \"colorscale\": [[0.0, \"#0d0887\"], [0.1111111111111111, \"#46039f\"], [0.2222222222222222, \"#7201a8\"], [0.3333333333333333, \"#9c179e\"], [0.4444444444444444, \"#bd3786\"], [0.5555555555555556, \"#d8576b\"], [0.6666666666666666, \"#ed7953\"], [0.7777777777777778, \"#fb9f3a\"], [0.8888888888888888, \"#fdca26\"], [1.0, \"#f0f921\"]], \"type\": \"heatmap\"}], \"heatmapgl\": [{\"colorbar\": {\"outlinewidth\": 0, \"ticks\": \"\"}, \"colorscale\": [[0.0, \"#0d0887\"], [0.1111111111111111, \"#46039f\"], [0.2222222222222222, \"#7201a8\"], [0.3333333333333333, \"#9c179e\"], [0.4444444444444444, \"#bd3786\"], [0.5555555555555556, \"#d8576b\"], [0.6666666666666666, \"#ed7953\"], [0.7777777777777778, \"#fb9f3a\"], [0.8888888888888888, \"#fdca26\"], [1.0, \"#f0f921\"]], \"type\": \"heatmapgl\"}], \"histogram\": [{\"marker\": {\"colorbar\": {\"outlinewidth\": 0, \"ticks\": \"\"}}, \"type\": \"histogram\"}], \"histogram2d\": [{\"colorbar\": {\"outlinewidth\": 0, \"ticks\": \"\"}, \"colorscale\": [[0.0, \"#0d0887\"], [0.1111111111111111, \"#46039f\"], [0.2222222222222222, \"#7201a8\"], [0.3333333333333333, \"#9c179e\"], [0.4444444444444444, \"#bd3786\"], [0.5555555555555556, \"#d8576b\"], [0.6666666666666666, \"#ed7953\"], [0.7777777777777778, \"#fb9f3a\"], [0.8888888888888888, \"#fdca26\"], [1.0, \"#f0f921\"]], \"type\": \"histogram2d\"}], \"histogram2dcontour\": [{\"colorbar\": {\"outlinewidth\": 0, \"ticks\": \"\"}, \"colorscale\": [[0.0, \"#0d0887\"], [0.1111111111111111, \"#46039f\"], [0.2222222222222222, \"#7201a8\"], [0.3333333333333333, \"#9c179e\"], [0.4444444444444444, \"#bd3786\"], [0.5555555555555556, \"#d8576b\"], [0.6666666666666666, \"#ed7953\"], [0.7777777777777778, \"#fb9f3a\"], [0.8888888888888888, \"#fdca26\"], [1.0, \"#f0f921\"]], \"type\": \"histogram2dcontour\"}], \"mesh3d\": [{\"colorbar\": {\"outlinewidth\": 0, \"ticks\": \"\"}, \"type\": \"mesh3d\"}], \"parcoords\": [{\"line\": {\"colorbar\": {\"outlinewidth\": 0, \"ticks\": \"\"}}, \"type\": \"parcoords\"}], \"pie\": [{\"automargin\": true, \"type\": \"pie\"}], \"scatter\": [{\"marker\": {\"colorbar\": {\"outlinewidth\": 0, \"ticks\": \"\"}}, \"type\": \"scatter\"}], \"scatter3d\": [{\"line\": {\"colorbar\": {\"outlinewidth\": 0, \"ticks\": \"\"}}, \"marker\": {\"colorbar\": {\"outlinewidth\": 0, \"ticks\": \"\"}}, \"type\": \"scatter3d\"}], \"scattercarpet\": [{\"marker\": {\"colorbar\": {\"outlinewidth\": 0, \"ticks\": \"\"}}, \"type\": \"scattercarpet\"}], \"scattergeo\": [{\"marker\": {\"colorbar\": {\"outlinewidth\": 0, \"ticks\": \"\"}}, \"type\": \"scattergeo\"}], \"scattergl\": [{\"marker\": {\"colorbar\": {\"outlinewidth\": 0, \"ticks\": \"\"}}, \"type\": \"scattergl\"}], \"scattermapbox\": [{\"marker\": {\"colorbar\": {\"outlinewidth\": 0, \"ticks\": \"\"}}, \"type\": \"scattermapbox\"}], \"scatterpolar\": [{\"marker\": {\"colorbar\": {\"outlinewidth\": 0, \"ticks\": \"\"}}, \"type\": \"scatterpolar\"}], \"scatterpolargl\": [{\"marker\": {\"colorbar\": {\"outlinewidth\": 0, \"ticks\": \"\"}}, \"type\": \"scatterpolargl\"}], \"scatterternary\": [{\"marker\": {\"colorbar\": {\"outlinewidth\": 0, \"ticks\": \"\"}}, \"type\": \"scatterternary\"}], \"surface\": [{\"colorbar\": {\"outlinewidth\": 0, \"ticks\": \"\"}, \"colorscale\": [[0.0, \"#0d0887\"], [0.1111111111111111, \"#46039f\"], [0.2222222222222222, \"#7201a8\"], [0.3333333333333333, \"#9c179e\"], [0.4444444444444444, \"#bd3786\"], [0.5555555555555556, \"#d8576b\"], [0.6666666666666666, \"#ed7953\"], [0.7777777777777778, \"#fb9f3a\"], [0.8888888888888888, \"#fdca26\"], [1.0, \"#f0f921\"]], \"type\": \"surface\"}], \"table\": [{\"cells\": {\"fill\": {\"color\": \"#EBF0F8\"}, \"line\": {\"color\": \"white\"}}, \"header\": {\"fill\": {\"color\": \"#C8D4E3\"}, \"line\": {\"color\": \"white\"}}, \"type\": \"table\"}]}, \"layout\": {\"annotationdefaults\": {\"arrowcolor\": \"#2a3f5f\", \"arrowhead\": 0, \"arrowwidth\": 1}, \"autotypenumbers\": \"strict\", \"coloraxis\": {\"colorbar\": {\"outlinewidth\": 0, \"ticks\": \"\"}}, \"colorscale\": {\"diverging\": [[0, \"#8e0152\"], [0.1, \"#c51b7d\"], [0.2, \"#de77ae\"], [0.3, \"#f1b6da\"], [0.4, \"#fde0ef\"], [0.5, \"#f7f7f7\"], [0.6, \"#e6f5d0\"], [0.7, \"#b8e186\"], [0.8, \"#7fbc41\"], [0.9, \"#4d9221\"], [1, \"#276419\"]], \"sequential\": [[0.0, \"#0d0887\"], [0.1111111111111111, \"#46039f\"], [0.2222222222222222, \"#7201a8\"], [0.3333333333333333, \"#9c179e\"], [0.4444444444444444, \"#bd3786\"], [0.5555555555555556, \"#d8576b\"], [0.6666666666666666, \"#ed7953\"], [0.7777777777777778, \"#fb9f3a\"], [0.8888888888888888, \"#fdca26\"], [1.0, \"#f0f921\"]], \"sequentialminus\": [[0.0, \"#0d0887\"], [0.1111111111111111, \"#46039f\"], [0.2222222222222222, \"#7201a8\"], [0.3333333333333333, \"#9c179e\"], [0.4444444444444444, \"#bd3786\"], [0.5555555555555556, \"#d8576b\"], [0.6666666666666666, \"#ed7953\"], [0.7777777777777778, \"#fb9f3a\"], [0.8888888888888888, \"#fdca26\"], [1.0, \"#f0f921\"]]}, \"colorway\": [\"#636efa\", \"#EF553B\", \"#00cc96\", \"#ab63fa\", \"#FFA15A\", \"#19d3f3\", \"#FF6692\", \"#B6E880\", \"#FF97FF\", \"#FECB52\"], \"font\": {\"color\": \"#2a3f5f\"}, \"geo\": {\"bgcolor\": \"white\", \"lakecolor\": \"white\", \"landcolor\": \"#E5ECF6\", \"showlakes\": true, \"showland\": true, \"subunitcolor\": \"white\"}, \"hoverlabel\": {\"align\": \"left\"}, \"hovermode\": \"closest\", \"mapbox\": {\"style\": \"light\"}, \"paper_bgcolor\": \"white\", \"plot_bgcolor\": \"#E5ECF6\", \"polar\": {\"angularaxis\": {\"gridcolor\": \"white\", \"linecolor\": \"white\", \"ticks\": \"\"}, \"bgcolor\": \"#E5ECF6\", \"radialaxis\": {\"gridcolor\": \"white\", \"linecolor\": \"white\", \"ticks\": \"\"}}, \"scene\": {\"xaxis\": {\"backgroundcolor\": \"#E5ECF6\", \"gridcolor\": \"white\", \"gridwidth\": 2, \"linecolor\": \"white\", \"showbackground\": true, \"ticks\": \"\", \"zerolinecolor\": \"white\"}, \"yaxis\": {\"backgroundcolor\": \"#E5ECF6\", \"gridcolor\": \"white\", \"gridwidth\": 2, \"linecolor\": \"white\", \"showbackground\": true, \"ticks\": \"\", \"zerolinecolor\": \"white\"}, \"zaxis\": {\"backgroundcolor\": \"#E5ECF6\", \"gridcolor\": \"white\", \"gridwidth\": 2, \"linecolor\": \"white\", \"showbackground\": true, \"ticks\": \"\", \"zerolinecolor\": \"white\"}}, \"shapedefaults\": {\"line\": {\"color\": \"#2a3f5f\"}}, \"ternary\": {\"aaxis\": {\"gridcolor\": \"white\", \"linecolor\": \"white\", \"ticks\": \"\"}, \"baxis\": {\"gridcolor\": \"white\", \"linecolor\": \"white\", \"ticks\": \"\"}, \"bgcolor\": \"#E5ECF6\", \"caxis\": {\"gridcolor\": \"white\", \"linecolor\": \"white\", \"ticks\": \"\"}}, \"title\": {\"x\": 0.05}, \"xaxis\": {\"automargin\": true, \"gridcolor\": \"white\", \"linecolor\": \"white\", \"ticks\": \"\", \"title\": {\"standoff\": 15}, \"zerolinecolor\": \"white\", \"zerolinewidth\": 2}, \"yaxis\": {\"automargin\": true, \"gridcolor\": \"white\", \"linecolor\": \"white\", \"ticks\": \"\", \"title\": {\"standoff\": 15}, \"zerolinecolor\": \"white\", \"zerolinewidth\": 2}}}, \"title\": {\"text\": \"Missing Valus for the columns that are derived from the website of Ministry of Civil Affairs\"}},                        {\"responsive\": true}                    ).then(function(){\n",
       "                            \n",
       "var gd = document.getElementById('acbf03e5-ca11-4844-a2eb-a215202f87d3');\n",
       "var x = new MutationObserver(function (mutations, observer) {{\n",
       "        var display = window.getComputedStyle(gd).display;\n",
       "        if (!display || display === 'none') {{\n",
       "            console.log([gd, 'removed!']);\n",
       "            Plotly.purge(gd);\n",
       "            observer.disconnect();\n",
       "        }}\n",
       "}});\n",
       "\n",
       "// Listen for the removal of the full notebook cells\n",
       "var notebookContainer = gd.closest('#notebook-container');\n",
       "if (notebookContainer) {{\n",
       "    x.observe(notebookContainer, {childList: true});\n",
       "}}\n",
       "\n",
       "// Listen for the clearing of the current output cell\n",
       "var outputEl = gd.closest('.output');\n",
       "if (outputEl) {{\n",
       "    x.observe(outputEl, {childList: true});\n",
       "}}\n",
       "\n",
       "                        })                };                });            </script>        </div>"
      ]
     },
     "metadata": {},
     "output_type": "display_data"
    }
   ],
   "source": [
    "colors = [\"#FF800B\", \"#001024\"]\n",
    "names = [\"Missing Values\", \"Present Values\"]\n",
    "\n",
    "fig.add_annotation(x=0, y=0.5,\n",
    "            text=pct,\n",
    "            font_size=20,\n",
    "            showarrow=False)\n",
    "\n",
    "fig.add_annotation(x=0.2, y=0.5,\n",
    "            text=pct1,\n",
    "            font_size=20,\n",
    "            showarrow=False)\n",
    "\n",
    "fig.add_annotation(x=0.91, y=0.5,\n",
    "            text=pct2,\n",
    "            font_size=20,\n",
    "            showarrow=False)\n",
    "                                                       \n",
    "fig.add_annotation(x=0.1, y=0.5,\n",
    "            text=pct3,\n",
    "            font_size=20,\n",
    "            showarrow=False)\n",
    "\n",
    "fig.add_annotation(x=0.5, y=0.5,\n",
    "            text=pct4,\n",
    "            font_size=20,\n",
    "            showarrow=False)\n",
    "\n",
    "fig.add_annotation(x=0.91, y=0.5,\n",
    "            text=pct5,\n",
    "            font_size=20,\n",
    "            showarrow=False)\n",
    "                                                       \n",
    "fig.add_annotation(x=0.91, y=0.5,\n",
    "            text=pct6,\n",
    "            font_size=20,\n",
    "            showarrow=False)\n",
    "\n",
    "fig.update_traces(\n",
    "    hoverinfo = 'label + value',\n",
    "    marker = dict(colors = colors),\n",
    "    col = 1\n",
    ")\n",
    "\n",
    "fig.update_traces(\n",
    "    hoverinfo = 'label + value',\n",
    "    marker = dict(colors = colors),\n",
    "    col = 2\n",
    ")\n",
    "\n",
    "fig.update_traces(\n",
    "    hoverinfo = 'label + value',\n",
    "    marker = dict(colors = colors),\n",
    "    col = 3\n",
    ")\n",
    "                                                       \n",
    "fig.update_traces(\n",
    "    hoverinfo = 'label + value',\n",
    "    marker = dict(colors = colors),\n",
    "    col = 4\n",
    ")\n",
    "\n",
    "fig.update_traces(\n",
    "    hoverinfo = 'label + value',\n",
    "    marker = dict(colors = colors),\n",
    "    col = 5\n",
    ")\n",
    "\n",
    "fig.update_traces(\n",
    "    hoverinfo = 'label + value',\n",
    "    marker = dict(colors = colors),\n",
    "    col = 6\n",
    ")\n",
    "\n",
    "fig['layout']['annotations'][2].update(text='your text here', x=0.5, y=0.5);\n",
    "\n",
    "fig.update_layout(title_text=\"Missing Valus for the columns that are derived from the website of Ministry of Civil Affairs\")\n",
    "fig.show()"
   ]
  },
  {
   "cell_type": "code",
   "execution_count": null,
   "metadata": {},
   "outputs": [],
   "source": [
    "date = [fullDataFrame.isnull().sum()[0], fullDataFrame[\"date\"].count() - fullDataFrame.isnull().sum()[0]]\n",
    "total_cases = [fullDataFrame.isnull().sum()[1], fullDataFrame[\"total_cases\"].count() - fullDataFrame.isnull().sum()[1]]\n",
    "new_cases = [fullDataFrame.isnull().sum()[2], fullDataFrame[\"new_cases\"].count() - fullDataFrame.isnull().sum()[2]]\n",
    "population = [fullDataFrame.isnull().sum()[3], fullDataFrame[\"population\"].count() - fullDataFrame.isnull().sum()[3]]\n",
    "recovered = [fullDataFrame.isnull().sum()[4], fullDataFrame[\"Broj oporavljenih osoba\"].count() - fullDataFrame.isnull().sum()[4]]\n",
    "tested = [fullDataFrame.isnull().sum()[5], fullDataFrame[\"Broj testiranih dnevno\"].count() - fullDataFrame.isnull().sum()[5]]\n",
    "died = [fullDataFrame.isnull().sum()[6], fullDataFrame[\"Broj smrtnih slučajeva\"].count() - fullDataFrame.isnull().sum()[6]]\n",
    "\n",
    "## Missing percentage for date\n",
    "pct = fullDataFrame.isnull().sum()[0] / fullDataFrame[\"date\"].count()\n",
    "pct = '{:.2%}'.format(pct)\n",
    "\n",
    "## Missing percentage for total_cases\n",
    "pct1 = fullDataFrame.isnull().sum()[1] / fullDataFrame[\"total_cases\"].count()\n",
    "pct1 = '{:.2%}'.format(pct1)\n",
    "\n",
    "## Missing percentage for new_cases\n",
    "pct2 = fullDataFrame.isnull().sum()[2] / fullDataFrame[\"new_cases\"].count()\n",
    "pct2 = '{:.2%}'.format(pct2)\n",
    "\n",
    "## Missing percentage for population\n",
    "pct3 = fullDataFrame.isnull().sum()[3] / fullDataFrame[\"population\"].count()\n",
    "pct3 = '{:.2%}'.format(pct3)\n",
    "\n",
    "## Missing percentage for Broj smrtnih slučajeva  \n",
    "pct4 = fullDataFrame.isnull().sum()[4] / fullDataFrame[\"Broj smrtnih slučajeva\"].count()\n",
    "pct4 = '{:.2%}'.format(pct4)\n",
    "                                                       \n",
    "## Missing percentage for Broj oporavljenih osoba\n",
    "pct5 = fullDataFrame.isnull().sum()[5] / fullDataFrame[\"Broj oporavljenih osoba\"].count()\n",
    "pct5 = '{:.2%}'.format(pct5)\n",
    "\n",
    "## Missing percentage for Broj testiranih dnevno\n",
    "pct6 = fullDataFrame.isnull().sum()[6] / fullDataFrame[\"Broj testiranih dnevno\"].count()\n",
    "pct6 = '{:.2%}'.format(pct6)"
   ]
  }
 ],
 "metadata": {
  "kernelspec": {
   "display_name": "Python 3",
   "language": "python",
   "name": "python3"
  },
  "language_info": {
   "codemirror_mode": {
    "name": "ipython",
    "version": 3
   },
   "file_extension": ".py",
   "mimetype": "text/x-python",
   "name": "python",
   "nbconvert_exporter": "python",
   "pygments_lexer": "ipython3",
   "version": "3.8.5"
  }
 },
 "nbformat": 4,
 "nbformat_minor": 4
}
